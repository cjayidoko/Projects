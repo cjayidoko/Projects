{
 "cells": [
  {
   "cell_type": "code",
   "execution_count": 3,
   "metadata": {},
   "outputs": [
    {
     "name": "stdout",
     "output_type": "stream",
     "text": [
      "18\n"
     ]
    }
   ],
   "source": [
    "with open('my_file.txt', mode = 'w') as g:\n",
    "    print(g.write('Chijioke is a king'))"
   ]
  },
  {
   "cell_type": "code",
   "execution_count": 7,
   "metadata": {},
   "outputs": [
    {
     "name": "stdout",
     "output_type": "stream",
     "text": [
      "Chijioke is a king\n"
     ]
    }
   ],
   "source": [
    "with open('my_file.txt', mode = 'r') as g:\n",
    "    print(g.read())"
   ]
  },
  {
   "cell_type": "code",
   "execution_count": 6,
   "metadata": {},
   "outputs": [
    {
     "ename": "ValueError",
     "evalue": "I/O operation on closed file.",
     "output_type": "error",
     "traceback": [
      "\u001b[0;31m---------------------------------------------------------------------------\u001b[0m",
      "\u001b[0;31mValueError\u001b[0m                                Traceback (most recent call last)",
      "\u001b[0;32m<ipython-input-6-8a12481fdb4d>\u001b[0m in \u001b[0;36m<module>\u001b[0;34m()\u001b[0m\n\u001b[0;32m----> 1\u001b[0;31m \u001b[0mg\u001b[0m\u001b[1;33m.\u001b[0m\u001b[0mread\u001b[0m\u001b[1;33m(\u001b[0m\u001b[1;33m)\u001b[0m\u001b[1;33m\u001b[0m\u001b[0m\n\u001b[0m",
      "\u001b[0;31mValueError\u001b[0m: I/O operation on closed file."
     ]
    }
   ],
   "source": [
    "g.read()"
   ]
  },
  {
   "cell_type": "code",
   "execution_count": 75,
   "metadata": {},
   "outputs": [],
   "source": [
    "#decks3"
   ]
  },
  {
   "cell_type": "code",
   "execution_count": 18,
   "metadata": {},
   "outputs": [],
   "source": [
    "g = s[-1:]"
   ]
  },
  {
   "cell_type": "code",
   "execution_count": 19,
   "metadata": {},
   "outputs": [
    {
     "name": "stdout",
     "output_type": "stream",
     "text": [
      "o\n"
     ]
    }
   ],
   "source": [
    "print(g)"
   ]
  },
  {
   "cell_type": "code",
   "execution_count": 1,
   "metadata": {},
   "outputs": [
    {
     "name": "stdout",
     "output_type": "stream",
     "text": [
      "C:\\Users\\HILLARY\n"
     ]
    }
   ],
   "source": [
    "cd"
   ]
  },
  {
   "cell_type": "code",
   "execution_count": 2,
   "metadata": {},
   "outputs": [
    {
     "data": {
      "text/plain": [
       "'C:\\\\Users\\\\HILLARY'"
      ]
     },
     "execution_count": 2,
     "metadata": {},
     "output_type": "execute_result"
    }
   ],
   "source": [
    "pwd"
   ]
  },
  {
   "cell_type": "code",
   "execution_count": 1,
   "metadata": {
    "collapsed": true
   },
   "outputs": [],
   "source": [
    "cards = ['A', 2,3,4,5,6,7,8,9,'J','Q','K']"
   ]
  },
  {
   "cell_type": "code",
   "execution_count": 2,
   "metadata": {
    "collapsed": true
   },
   "outputs": [],
   "source": [
    "deck = {'Diamond':cards}"
   ]
  },
  {
   "cell_type": "code",
   "execution_count": 3,
   "metadata": {},
   "outputs": [
    {
     "data": {
      "text/plain": [
       "{'Diamond': ['A', 2, 3, 4, 5, 6, 7, 8, 9, 'J', 'Q', 'K']}"
      ]
     },
     "execution_count": 3,
     "metadata": {},
     "output_type": "execute_result"
    }
   ],
   "source": [
    "deck"
   ]
  },
  {
   "cell_type": "code",
   "execution_count": 4,
   "metadata": {
    "collapsed": true
   },
   "outputs": [],
   "source": [
    "deck = {'Diamond':cards, 'Spades':cards, 'Hearts':cards, 'Clubs':cards}"
   ]
  },
  {
   "cell_type": "code",
   "execution_count": 5,
   "metadata": {},
   "outputs": [
    {
     "data": {
      "text/plain": [
       "{'Clubs': ['A', 2, 3, 4, 5, 6, 7, 8, 9, 'J', 'Q', 'K'],\n",
       " 'Diamond': ['A', 2, 3, 4, 5, 6, 7, 8, 9, 'J', 'Q', 'K'],\n",
       " 'Hearts': ['A', 2, 3, 4, 5, 6, 7, 8, 9, 'J', 'Q', 'K'],\n",
       " 'Spades': ['A', 2, 3, 4, 5, 6, 7, 8, 9, 'J', 'Q', 'K']}"
      ]
     },
     "execution_count": 5,
     "metadata": {},
     "output_type": "execute_result"
    }
   ],
   "source": [
    "deck"
   ]
  },
  {
   "cell_type": "code",
   "execution_count": 89,
   "metadata": {},
   "outputs": [],
   "source": [
    "class deckss():\n",
    "    #deckz = deck\n",
    "    #Creating the deck and decksList\n",
    "    cards = ['A', 2,3,4,5,6,7,8,9,'J','Q','K']\n",
    "    deck = {'Diamond':cards, 'Spades':cards, 'Hearts':cards, 'Clubs':cards}\n",
    "    import pandas as pd\n",
    "    decks1 = pd.DataFrame(deck)\n",
    "    decks2 = decks1.values.T.tolist()\n",
    "    #[list(l) for l in zip(*df.values)]\n",
    "    deckslist = decks2[0]\n",
    "    for i in [1,2,3]:\n",
    "        deckslist.extend(decks2[i])\n",
    "    #Creat attributes of deck\n",
    "    def __init__(self,deckspack):\n",
    "        self.deckspack = deckspack\n",
    "    def card_available(self):\n",
    "        return select in self.deckspack\n",
    "    #Method to remove from a deck 'removee'\n",
    "    def removee(self, select):\n",
    "        self.deckspack = self.deckspack.remove(select)\n",
    "        "
   ]
  },
  {
   "cell_type": "code",
   "execution_count": 90,
   "metadata": {},
   "outputs": [],
   "source": [
    "my_class = deckss(decks3)\n",
    "#decks.remove(4)"
   ]
  },
  {
   "cell_type": "code",
   "execution_count": 74,
   "metadata": {},
   "outputs": [],
   "source": [
    "my_class.removee(5)"
   ]
  },
  {
   "cell_type": "code",
   "execution_count": 92,
   "metadata": {},
   "outputs": [
    {
     "data": {
      "text/plain": [
       "True"
      ]
     },
     "execution_count": 92,
     "metadata": {},
     "output_type": "execute_result"
    }
   ],
   "source": [
    "4 in my_class.deckspack"
   ]
  },
  {
   "cell_type": "code",
   "execution_count": 6,
   "metadata": {
    "collapsed": true
   },
   "outputs": [],
   "source": [
    "#Creating the deck and decksList\n",
    "cards = ['A', 2,3,4,5,6,7,8,9,'J','Q','K']\n",
    "deck = {'Diamond':cards, 'Spades':cards, 'Hearts':cards, 'Clubs':cards}\n",
    "import pandas as pd\n",
    "decks1 = pd.DataFrame(deck)\n",
    "decks2 = decks1.values.T.tolist()\n",
    "#[list(l) for l in zip(*df.values)]\n",
    "deckslist = decks2[0]\n",
    "for i in [1,2,3]:\n",
    "    deckslist.extend(decks2[i])"
   ]
  },
  {
   "cell_type": "code",
   "execution_count": 19,
   "metadata": {
    "collapsed": true
   },
   "outputs": [],
   "source": [
    "decks1 = pd.DataFrame(deck)"
   ]
  },
  {
   "cell_type": "code",
   "execution_count": 20,
   "metadata": {},
   "outputs": [
    {
     "data": {
      "text/html": [
       "<div>\n",
       "<style scoped>\n",
       "    .dataframe tbody tr th:only-of-type {\n",
       "        vertical-align: middle;\n",
       "    }\n",
       "\n",
       "    .dataframe tbody tr th {\n",
       "        vertical-align: top;\n",
       "    }\n",
       "\n",
       "    .dataframe thead th {\n",
       "        text-align: right;\n",
       "    }\n",
       "</style>\n",
       "<table border=\"1\" class=\"dataframe\">\n",
       "  <thead>\n",
       "    <tr style=\"text-align: right;\">\n",
       "      <th></th>\n",
       "      <th>Clubs</th>\n",
       "      <th>Diamond</th>\n",
       "      <th>Hearts</th>\n",
       "      <th>Spades</th>\n",
       "    </tr>\n",
       "  </thead>\n",
       "  <tbody>\n",
       "    <tr>\n",
       "      <th>0</th>\n",
       "      <td>A</td>\n",
       "      <td>A</td>\n",
       "      <td>A</td>\n",
       "      <td>A</td>\n",
       "    </tr>\n",
       "    <tr>\n",
       "      <th>1</th>\n",
       "      <td>2</td>\n",
       "      <td>2</td>\n",
       "      <td>2</td>\n",
       "      <td>2</td>\n",
       "    </tr>\n",
       "    <tr>\n",
       "      <th>2</th>\n",
       "      <td>3</td>\n",
       "      <td>3</td>\n",
       "      <td>3</td>\n",
       "      <td>3</td>\n",
       "    </tr>\n",
       "    <tr>\n",
       "      <th>3</th>\n",
       "      <td>4</td>\n",
       "      <td>4</td>\n",
       "      <td>4</td>\n",
       "      <td>4</td>\n",
       "    </tr>\n",
       "    <tr>\n",
       "      <th>4</th>\n",
       "      <td>5</td>\n",
       "      <td>5</td>\n",
       "      <td>5</td>\n",
       "      <td>5</td>\n",
       "    </tr>\n",
       "    <tr>\n",
       "      <th>5</th>\n",
       "      <td>6</td>\n",
       "      <td>6</td>\n",
       "      <td>6</td>\n",
       "      <td>6</td>\n",
       "    </tr>\n",
       "    <tr>\n",
       "      <th>6</th>\n",
       "      <td>7</td>\n",
       "      <td>7</td>\n",
       "      <td>7</td>\n",
       "      <td>7</td>\n",
       "    </tr>\n",
       "    <tr>\n",
       "      <th>7</th>\n",
       "      <td>8</td>\n",
       "      <td>8</td>\n",
       "      <td>8</td>\n",
       "      <td>8</td>\n",
       "    </tr>\n",
       "    <tr>\n",
       "      <th>8</th>\n",
       "      <td>9</td>\n",
       "      <td>9</td>\n",
       "      <td>9</td>\n",
       "      <td>9</td>\n",
       "    </tr>\n",
       "    <tr>\n",
       "      <th>9</th>\n",
       "      <td>J</td>\n",
       "      <td>J</td>\n",
       "      <td>J</td>\n",
       "      <td>J</td>\n",
       "    </tr>\n",
       "    <tr>\n",
       "      <th>10</th>\n",
       "      <td>Q</td>\n",
       "      <td>Q</td>\n",
       "      <td>Q</td>\n",
       "      <td>Q</td>\n",
       "    </tr>\n",
       "    <tr>\n",
       "      <th>11</th>\n",
       "      <td>K</td>\n",
       "      <td>K</td>\n",
       "      <td>K</td>\n",
       "      <td>K</td>\n",
       "    </tr>\n",
       "  </tbody>\n",
       "</table>\n",
       "</div>"
      ],
      "text/plain": [
       "   Clubs Diamond Hearts Spades\n",
       "0      A       A      A      A\n",
       "1      2       2      2      2\n",
       "2      3       3      3      3\n",
       "3      4       4      4      4\n",
       "4      5       5      5      5\n",
       "5      6       6      6      6\n",
       "6      7       7      7      7\n",
       "7      8       8      8      8\n",
       "8      9       9      9      9\n",
       "9      J       J      J      J\n",
       "10     Q       Q      Q      Q\n",
       "11     K       K      K      K"
      ]
     },
     "execution_count": 20,
     "metadata": {},
     "output_type": "execute_result"
    }
   ],
   "source": [
    "decks1"
   ]
  },
  {
   "cell_type": "code",
   "execution_count": 77,
   "metadata": {},
   "outputs": [],
   "source": [
    "#decks2 = decks1.values.T.tolist()\n",
    "#[list(l) for l in zip(*df.values)]\n",
    "#decks3 = decks2[0]\n",
    "#for i in [1,2,3]:\n",
    "#    decks3.extend(decks2[i])\n",
    "#decks3"
   ]
  },
  {
   "cell_type": "code",
   "execution_count": 52,
   "metadata": {},
   "outputs": [],
   "source": [
    "#decks3.remove('A')\n",
    "#decks3"
   ]
  },
  {
   "cell_type": "code",
   "execution_count": 7,
   "metadata": {},
   "outputs": [],
   "source": [
    "tg = decks.loc[[0,4],['Diamond']]"
   ]
  },
  {
   "cell_type": "code",
   "execution_count": 23,
   "metadata": {},
   "outputs": [],
   "source": [
    "decks2[0].remove(8)"
   ]
  },
  {
   "cell_type": "code",
   "execution_count": 24,
   "metadata": {},
   "outputs": [
    {
     "data": {
      "text/plain": [
       "[['A', 2, 3, 4, 5, 6, 7, 9, 'J', 'Q', 'K'],\n",
       " ['A', 2, 3, 4, 5, 6, 7, 8, 9, 'J', 'Q', 'K'],\n",
       " ['A', 2, 3, 4, 5, 6, 7, 8, 9, 'J', 'Q', 'K'],\n",
       " ['A', 2, 3, 4, 5, 6, 7, 8, 9, 'J', 'Q', 'K']]"
      ]
     },
     "execution_count": 24,
     "metadata": {},
     "output_type": "execute_result"
    }
   ],
   "source": [
    "decks2"
   ]
  },
  {
   "cell_type": "code",
   "execution_count": 14,
   "metadata": {},
   "outputs": [],
   "source": [
    "decks2 = list(decks['Diamond']).remove('Q')"
   ]
  },
  {
   "cell_type": "code",
   "execution_count": 16,
   "metadata": {},
   "outputs": [],
   "source": [
    "decks2 = decks['Diamond']"
   ]
  },
  {
   "cell_type": "code",
   "execution_count": 21,
   "metadata": {},
   "outputs": [],
   "source": [
    "deck2 = list(decks2)"
   ]
  },
  {
   "cell_type": "code",
   "execution_count": 23,
   "metadata": {},
   "outputs": [],
   "source": [
    "deck2.remove(2)"
   ]
  },
  {
   "cell_type": "code",
   "execution_count": 24,
   "metadata": {},
   "outputs": [
    {
     "data": {
      "text/plain": [
       "['A', 3, 4, 5, 6, 7, 8, 9, 'J', 'Q', 'K']"
      ]
     },
     "execution_count": 24,
     "metadata": {},
     "output_type": "execute_result"
    }
   ],
   "source": [
    "deck2"
   ]
  },
  {
   "cell_type": "code",
   "execution_count": 7,
   "metadata": {
    "collapsed": true
   },
   "outputs": [],
   "source": [
    "deck2 = decks['Diamond'].sample(frac = 1, axis = 0).reset_index(drop = True)#Shuffle a colum"
   ]
  },
  {
   "cell_type": "code",
   "execution_count": 27,
   "metadata": {},
   "outputs": [
    {
     "data": {
      "text/plain": [
       "['Clubs', 'Diamond', 'Hearts', 'Spades']"
      ]
     },
     "execution_count": 27,
     "metadata": {},
     "output_type": "execute_result"
    }
   ],
   "source": [
    "titles = list(decks.columns.values)\n",
    "titles"
   ]
  },
  {
   "cell_type": "code",
   "execution_count": 29,
   "metadata": {},
   "outputs": [
    {
     "ename": "SyntaxError",
     "evalue": "invalid syntax (<ipython-input-29-f6fcf55748d2>, line 2)",
     "output_type": "error",
     "traceback": [
      "\u001b[0;36m  File \u001b[0;32m\"<ipython-input-29-f6fcf55748d2>\"\u001b[0;36m, line \u001b[0;32m2\u001b[0m\n\u001b[0;31m    list(decks[i]).remove(2) if 2 in list(decks[i])\u001b[0m\n\u001b[0m                                                   ^\u001b[0m\n\u001b[0;31mSyntaxError\u001b[0m\u001b[0;31m:\u001b[0m invalid syntax\n"
     ]
    }
   ],
   "source": [
    "for i in titles:\n",
    "    list(decks[i]).remove(2) if 2 in list(decks[i])"
   ]
  },
  {
   "cell_type": "code",
   "execution_count": 6,
   "metadata": {
    "collapsed": true
   },
   "outputs": [],
   "source": [
    "import random"
   ]
  },
  {
   "cell_type": "code",
   "execution_count": 12,
   "metadata": {},
   "outputs": [],
   "source": [
    "ht = (2,6)\n",
    "gr = random.sample(ht,1)[0]#Randomly select a number from the tuple"
   ]
  },
  {
   "cell_type": "code",
   "execution_count": 13,
   "metadata": {},
   "outputs": [
    {
     "data": {
      "text/plain": [
       "6"
      ]
     },
     "execution_count": 13,
     "metadata": {},
     "output_type": "execute_result"
    }
   ],
   "source": [
    "gr"
   ]
  },
  {
   "cell_type": "code",
   "execution_count": 12,
   "metadata": {
    "collapsed": true
   },
   "outputs": [],
   "source": [
    "#gr = random.randint(0,1).value()"
   ]
  },
  {
   "cell_type": "code",
   "execution_count": 21,
   "metadata": {},
   "outputs": [
    {
     "data": {
      "text/plain": [
       "6"
      ]
     },
     "execution_count": 21,
     "metadata": {},
     "output_type": "execute_result"
    }
   ],
   "source": [
    "gr[0]"
   ]
  },
  {
   "cell_type": "code",
   "execution_count": null,
   "metadata": {
    "collapsed": true
   },
   "outputs": [],
   "source": [
    "yu = [4,8]"
   ]
  },
  {
   "cell_type": "code",
   "execution_count": 29,
   "metadata": {},
   "outputs": [],
   "source": [
    "gth = decks.columns.values\n",
    "tx = random.sample(list(decks[random.sample(list(gth),1)[0]]),1)[0]"
   ]
  },
  {
   "cell_type": "code",
   "execution_count": 30,
   "metadata": {},
   "outputs": [
    {
     "data": {
      "text/plain": [
       "[4, 8, 'Q', 2, 2, 3]"
      ]
     },
     "execution_count": 30,
     "metadata": {},
     "output_type": "execute_result"
    }
   ],
   "source": [
    "yu.append(tx)\n",
    "yu"
   ]
  },
  {
   "cell_type": "code",
   "execution_count": 10,
   "metadata": {},
   "outputs": [
    {
     "data": {
      "text/plain": [
       "6"
      ]
     },
     "execution_count": 10,
     "metadata": {},
     "output_type": "execute_result"
    }
   ],
   "source": [
    "card = [2,6,'A']\n",
    "gth = decks.columns.values\n",
    "gy = random.sample(list(decks[random.sample(list(gth),1)[0]]),1)[0]\n",
    "#card = card.append(gy)\n",
    "#card = card.append(random.sample(list(decks(random.sample(decks.columns.values,1)[0]),1)))\n",
    "gy"
   ]
  },
  {
   "cell_type": "code",
   "execution_count": 60,
   "metadata": {},
   "outputs": [],
   "source": [
    "card = [2,6,'A']"
   ]
  },
  {
   "cell_type": "code",
   "execution_count": 61,
   "metadata": {},
   "outputs": [
    {
     "data": {
      "text/plain": [
       "[2, 6, 'A']"
      ]
     },
     "execution_count": 61,
     "metadata": {},
     "output_type": "execute_result"
    }
   ],
   "source": [
    "card"
   ]
  },
  {
   "cell_type": "code",
   "execution_count": 62,
   "metadata": {
    "collapsed": true
   },
   "outputs": [],
   "source": [
    "SumCards = 4"
   ]
  },
  {
   "cell_type": "code",
   "execution_count": 50,
   "metadata": {},
   "outputs": [],
   "source": [
    "card = [random.sample([1,11],1)[0] if x == 'A' else x for x in card]\n",
    "card = [10 if x in ['K','Q','J'] else x for x in card]"
   ]
  },
  {
   "cell_type": "code",
   "execution_count": 63,
   "metadata": {
    "collapsed": true
   },
   "outputs": [],
   "source": [
    "card = [11 if (x == 'A' and SumCards < 11) else x for x in card]\n",
    "card = [1 if (x == 'A' and SumCards >= 11) else x for x in card]"
   ]
  },
  {
   "cell_type": "code",
   "execution_count": 64,
   "metadata": {},
   "outputs": [
    {
     "data": {
      "text/plain": [
       "[2, 6, 11]"
      ]
     },
     "execution_count": 64,
     "metadata": {},
     "output_type": "execute_result"
    }
   ],
   "source": [
    "card"
   ]
  },
  {
   "cell_type": "code",
   "execution_count": 73,
   "metadata": {},
   "outputs": [
    {
     "ename": "SyntaxError",
     "evalue": "invalid syntax (<ipython-input-73-43e2515b50e3>, line 4)",
     "output_type": "error",
     "traceback": [
      "\u001b[0;36m  File \u001b[0;32m\"<ipython-input-73-43e2515b50e3>\"\u001b[0;36m, line \u001b[0;32m4\u001b[0m\n\u001b[0;31m    card = [x if type(x) == int and x == 1 if x == 'A' else x==10 for x in card]\u001b[0m\n\u001b[0m                                            ^\u001b[0m\n\u001b[0;31mSyntaxError\u001b[0m\u001b[0;31m:\u001b[0m invalid syntax\n"
     ]
    }
   ],
   "source": [
    "card = card + random.sample(list(decks['Diamond']),1)\n",
    "rt = [11 for i in card if i == 'A']\n",
    "ry = [10 for i in card if i == 'K' or i == 'J' or i == 'Q']"
   ]
  },
  {
   "cell_type": "code",
   "execution_count": 71,
   "metadata": {},
   "outputs": [
    {
     "data": {
      "text/plain": [
       "[2, 6, 10, 6, 10]"
      ]
     },
     "execution_count": 71,
     "metadata": {},
     "output_type": "execute_result"
    }
   ],
   "source": [
    "card"
   ]
  },
  {
   "cell_type": "code",
   "execution_count": 58,
   "metadata": {},
   "outputs": [
    {
     "data": {
      "text/plain": [
       "[11]"
      ]
     },
     "execution_count": 58,
     "metadata": {},
     "output_type": "execute_result"
    }
   ],
   "source": [
    "rt"
   ]
  },
  {
   "cell_type": "code",
   "execution_count": 45,
   "metadata": {},
   "outputs": [
    {
     "data": {
      "text/plain": [
       "[2, 6, 'A', 'J', 3]"
      ]
     },
     "execution_count": 45,
     "metadata": {},
     "output_type": "execute_result"
    }
   ],
   "source": [
    "card"
   ]
  },
  {
   "cell_type": "code",
   "execution_count": 47,
   "metadata": {},
   "outputs": [],
   "source": [
    "class deckss():\n",
    "    #deckz = deck\n",
    "    #Creating the deck and decksList\n",
    "    cards = ['A', 2,3,4,5,6,7,8,9,'J','Q','K']\n",
    "    deck = {'Diamond':cards, 'Spades':cards, 'Hearts':cards, 'Clubs':cards}\n",
    "    import pandas as pd\n",
    "    decks1 = pd.DataFrame(deck)\n",
    "    decks2 = decks1.values.T.tolist()\n",
    "    #[list(l) for l in zip(*df.values)]\n",
    "    deckslist = decks2[0]\n",
    "    for i in [1,2,3]:\n",
    "        deckslist.extend(decks2[i])\n",
    "    #Creat attributes of deck\n",
    "    def __init__(self,deckspack):\n",
    "        self.deckspack = deckspack\n",
    "    def card_available(self, select):\n",
    "        select in self.deckspack\n",
    "    #Method to remove from a deck 'removee'\n",
    "    def removee(self, select):\n",
    "        self.deckspack = self.deckspack.remove(select)\n",
    "    #method to check if decklist is empty\n",
    "    #returns true if empty and false if not\n",
    "    def decksempty(self):\n",
    "        return self.deckspack == []\n",
    "    \n",
    "    "
   ]
  },
  {
   "cell_type": "code",
   "execution_count": 88,
   "metadata": {},
   "outputs": [],
   "source": [
    "#return 'A' in decks3\n",
    "my_class.deckspack"
   ]
  },
  {
   "cell_type": "code",
   "execution_count": 40,
   "metadata": {},
   "outputs": [],
   "source": [
    "#sum(card)\n",
    "game_on = True\n",
    "while game_on:\n",
    "    turn = player1\n",
    "    t = player1.hit()\n",
    "    if turn == player1 and t == true:\n",
    "        vt = player1.take_card()\n",
    "        fr = my_deckss.card_available(vt)\n",
    "        while fr == False:\n",
    "            vt = player1.take_card()\n",
    "            fr = my_deckss.card_available(vt)\n",
    "            #if my_decks.decks_empty():\n",
    "                #break\n",
    "        else:\n",
    "            player1.cards.append(vt)\n",
    "            my_decks.removee(vt)\n",
    "            gy = player1.check_win()\n",
    "            if gy == False:\n",
    "                return player1.SumCards\n",
    "                t = player1.hit()\n",
    "                continue\n",
    "            else:\n",
    "                turn == player2\n",
    "                print('Dealer to play')\n",
    "    else:\n",
    "        player2 = player()\n",
    "        #t = player2.hit()\n",
    "        #if t == true:\n",
    "        vt = player2.take_card()\n",
    "        fr = my_deckss.card_available(vt)\n",
    "        while fr == False:\n",
    "            vt = player2.take_card()\n",
    "            fr = my_deckss.card_available(vt)\n",
    "            #if my_decks.decks_empty():\n",
    "                #break\n",
    "        else:\n",
    "            player1.cards.append(vt)\n",
    "            gy = player1.check_win()\n",
    "            if gy == False:\n",
    "                t = player1.hit()\n",
    "                continue\n",
    "        game_on = False\n",
    "#returns the selected card   "
   ]
  },
  {
   "cell_type": "code",
   "execution_count": 50,
   "metadata": {},
   "outputs": [],
   "source": [
    "class Player():\n",
    "    def __init__(self,balance1,cards1,SumCards1,bet_pack):\n",
    "        self.balance1 = balance1#How much available to bet\n",
    "        self.cards1 = cards1 #how many cards it has at hand\n",
    "        self.bet_pack = 0 #the ammount placed on bets\n",
    "        #To substitude a value for A, K, Q, and J\n",
    "        #self.cards = [random.sample([1,11],1)[0] if x == 'A' else x for x in self.cards]\n",
    "        #self.cards = [10 if x in ['K','Q','J'] else x for x in self.cards]\n",
    "        self.SumCards1 = SumCards1#the sum of available cards for player1\n",
    "    def bet(self, ammount):\n",
    "        if self.balance>ammount:\n",
    "            self.bet_pack = ammount\n",
    "            self.balance = self.balance - ammount\n",
    "        else:\n",
    "            print('Not enough money to make a bet')\n",
    "    #TakeCard returns 'select'\n",
    "    def take_card(self):\n",
    "        select = random.sample(deckss,1)[0]\n",
    "        return select\n",
    "    def check_win(self):\n",
    "        [11 if (x == 'A' and self.SumCards < 11) else x for x in self.cards]\n",
    "        [1 if (x == 'A' and self.SumCards >= 11) else x for x in self.cards]\n",
    "        [10 if x in ['K','Q','J'] else x for x in self.cards]\n",
    "        self.SumCards = sum(self.cards)\n",
    "        if self.SumCards == 21:\n",
    "            print('Humman player won')\n",
    "            return True\n",
    "        elif self.SumCards > 21:\n",
    "            print('Dealer won')\n",
    "            return True\n",
    "        else:\n",
    "            return False\n",
    "    def hit(self):\n",
    "        go = input('Do you want to hit?: yes or no')\n",
    "        if go == 'yes':\n",
    "            return True\n",
    "        elif go == 'no':\n",
    "            return False\n",
    "            #gth = decks.columns.values\n",
    "            #select = random.sample(list(decks[random.sample(list(gth),1)[0]]),1)[0]#Chosen card\n",
    "            #decks['Diamond'].remove(select)\n",
    "            #self.cards.append(select)\n",
    "            #self.cards = [random.sample([1,11],1)[0] if x == 'A' else x for x in self.cards]\n"
   ]
  },
  {
   "cell_type": "code",
   "execution_count": null,
   "metadata": {
    "collapsed": true
   },
   "outputs": [],
   "source": [
    "class Player2 ():\n",
    "    def __init__(self,cards2,SumCards2, balance2):\n",
    "        self.cards2 = cards2 #how many cards it has at hand\n",
    "        self.balance2 = balance2\n",
    "        #self.bet_pack = 0 #the ammount placed on bets\n",
    "        #To substitude a value for A, K, Q, and J\n",
    "        #self.cards = [random.sample([1,11],1)[0] if x == 'A' else x for x in self.cards]\n",
    "        #self.cards = [10 if x in ['K','Q','J'] else x for x in self.cards]\n",
    "        self.SumCards2 = SumCards2\n",
    "    def play(self, hit):\n",
    "        #hit = input('Do you want to hit?: yes or no')\n",
    "        while hit == 'yes':\n",
    "            #gth = decks.columns.values\n",
    "            #select = random.sample(list(decks[random.sample(list(gth),1)[0]]),1)[0]#Chosen card\n",
    "            select2 = random.sample(deckss,1)[0]\n",
    "            #decks['Diamond'].remove(select)\n",
    "            self.cards2.append(select2)\n",
    "            #self.cards = [random.sample([1,11],1)[0] if x == 'A' else x for x in self.cards]\n",
    "            [11 if (x == 'A' and self.SumCards2 < 11) else x for x in self.cards2]\n",
    "            [1 if (x == 'A' and self.SumCards2 >= 11) else x for x in self.cards2]\n",
    "            [10 if x in ['K','Q','J'] else x for x in self.cards2]\n",
    "            self.SumCards2 = sum(self.cards2)\n",
    "            if self.SumCards2 > 21:\n",
    "                self.balance2 = self.balance + self.bet_back\n",
    "            hit = input('Do you want to hit?: yes or no')\n",
    "            #print(self.SumCards)"
   ]
  },
  {
   "cell_type": "code",
   "execution_count": null,
   "metadata": {
    "collapsed": true
   },
   "outputs": [],
   "source": [
    "#my_players = Players('Humman',4000,[],0,0)\n",
    "gameon = True\n",
    "while gameon:\n",
    "    my_players.play(hit =)\n",
    "    if self.SumCards > 21:\n",
    "        print('{} lost!'.format(self.player))\n",
    "        my_player2.balance2 = my_player2.balance2 + my_player.bet_pack\n",
    "        break\n",
    "    elif hit ==\n",
    "    "
   ]
  },
  {
   "cell_type": "code",
   "execution_count": 51,
   "metadata": {
    "collapsed": true
   },
   "outputs": [],
   "source": [
    "my_players = Players('Humman',4000,[],0,0)"
   ]
  },
  {
   "cell_type": "code",
   "execution_count": 52,
   "metadata": {},
   "outputs": [
    {
     "ename": "TypeError",
     "evalue": "unsupported operand type(s) for +: 'int' and 'str'",
     "output_type": "error",
     "traceback": [
      "\u001b[0;31m---------------------------------------------------------------------------\u001b[0m",
      "\u001b[0;31mTypeError\u001b[0m                                 Traceback (most recent call last)",
      "\u001b[0;32m<ipython-input-52-222a0aeaf783>\u001b[0m in \u001b[0;36m<module>\u001b[0;34m()\u001b[0m\n\u001b[0;32m----> 1\u001b[0;31m \u001b[0mmy_players\u001b[0m\u001b[1;33m.\u001b[0m\u001b[0mplay\u001b[0m\u001b[1;33m(\u001b[0m\u001b[0mhit\u001b[0m \u001b[1;33m=\u001b[0m \u001b[1;34m'yes'\u001b[0m\u001b[1;33m)\u001b[0m\u001b[1;33m\u001b[0m\u001b[0m\n\u001b[0m",
      "\u001b[0;32m<ipython-input-50-ee240036fec5>\u001b[0m in \u001b[0;36mplay\u001b[0;34m(self, hit)\u001b[0m\n\u001b[1;32m     27\u001b[0m             \u001b[1;33m[\u001b[0m\u001b[1;36m1\u001b[0m \u001b[1;32mif\u001b[0m \u001b[1;33m(\u001b[0m\u001b[0mx\u001b[0m \u001b[1;33m==\u001b[0m \u001b[1;34m'A'\u001b[0m \u001b[1;32mand\u001b[0m \u001b[0mself\u001b[0m\u001b[1;33m.\u001b[0m\u001b[0mSumCards\u001b[0m \u001b[1;33m>=\u001b[0m \u001b[1;36m11\u001b[0m\u001b[1;33m)\u001b[0m \u001b[1;32melse\u001b[0m \u001b[0mx\u001b[0m \u001b[1;32mfor\u001b[0m \u001b[0mx\u001b[0m \u001b[1;32min\u001b[0m \u001b[0mself\u001b[0m\u001b[1;33m.\u001b[0m\u001b[0mcards\u001b[0m\u001b[1;33m]\u001b[0m\u001b[1;33m\u001b[0m\u001b[0m\n\u001b[1;32m     28\u001b[0m             \u001b[1;33m[\u001b[0m\u001b[1;36m10\u001b[0m \u001b[1;32mif\u001b[0m \u001b[0mx\u001b[0m \u001b[1;32min\u001b[0m \u001b[1;33m[\u001b[0m\u001b[1;34m'K'\u001b[0m\u001b[1;33m,\u001b[0m\u001b[1;34m'Q'\u001b[0m\u001b[1;33m,\u001b[0m\u001b[1;34m'J'\u001b[0m\u001b[1;33m]\u001b[0m \u001b[1;32melse\u001b[0m \u001b[0mx\u001b[0m \u001b[1;32mfor\u001b[0m \u001b[0mx\u001b[0m \u001b[1;32min\u001b[0m \u001b[0mself\u001b[0m\u001b[1;33m.\u001b[0m\u001b[0mcards\u001b[0m\u001b[1;33m]\u001b[0m\u001b[1;33m\u001b[0m\u001b[0m\n\u001b[0;32m---> 29\u001b[0;31m             \u001b[0mself\u001b[0m\u001b[1;33m.\u001b[0m\u001b[0mSumCards\u001b[0m \u001b[1;33m=\u001b[0m \u001b[0msum\u001b[0m\u001b[1;33m(\u001b[0m\u001b[0mself\u001b[0m\u001b[1;33m.\u001b[0m\u001b[0mcards\u001b[0m\u001b[1;33m)\u001b[0m\u001b[1;33m\u001b[0m\u001b[0m\n\u001b[0m\u001b[1;32m     30\u001b[0m             \u001b[0mhit\u001b[0m \u001b[1;33m=\u001b[0m \u001b[0minput\u001b[0m\u001b[1;33m(\u001b[0m\u001b[1;34m'Do you want to hit?: yes or no'\u001b[0m\u001b[1;33m)\u001b[0m\u001b[1;33m\u001b[0m\u001b[0m\n\u001b[1;32m     31\u001b[0m             \u001b[1;31m#print(self.SumCards)\u001b[0m\u001b[1;33m\u001b[0m\u001b[1;33m\u001b[0m\u001b[0m\n",
      "\u001b[0;31mTypeError\u001b[0m: unsupported operand type(s) for +: 'int' and 'str'"
     ]
    }
   ],
   "source": [
    "my_players.play(hit = 'yes')"
   ]
  },
  {
   "cell_type": "code",
   "execution_count": 32,
   "metadata": {},
   "outputs": [
    {
     "ename": "NameError",
     "evalue": "name 'card' is not defined",
     "output_type": "error",
     "traceback": [
      "\u001b[0;31m---------------------------------------------------------------------------\u001b[0m",
      "\u001b[0;31mNameError\u001b[0m                                 Traceback (most recent call last)",
      "\u001b[0;32m<ipython-input-32-4c8cc118326d>\u001b[0m in \u001b[0;36m<module>\u001b[0;34m()\u001b[0m\n\u001b[0;32m----> 1\u001b[0;31m \u001b[0mcard\u001b[0m\u001b[1;33m\u001b[0m\u001b[0m\n\u001b[0m",
      "\u001b[0;31mNameError\u001b[0m: name 'card' is not defined"
     ]
    }
   ],
   "source": [
    "card"
   ]
  },
  {
   "cell_type": "code",
   "execution_count": 45,
   "metadata": {},
   "outputs": [
    {
     "data": {
      "text/plain": [
       "['K']"
      ]
     },
     "execution_count": 45,
     "metadata": {},
     "output_type": "execute_result"
    }
   ],
   "source": [
    "my_players.cards"
   ]
  },
  {
   "cell_type": "code",
   "execution_count": 23,
   "metadata": {},
   "outputs": [
    {
     "data": {
      "text/plain": [
       "3600"
      ]
     },
     "execution_count": 23,
     "metadata": {},
     "output_type": "execute_result"
    }
   ],
   "source": [
    "my_players.balance"
   ]
  },
  {
   "cell_type": "code",
   "execution_count": null,
   "metadata": {
    "collapsed": true
   },
   "outputs": [],
   "source": [
    "self.cards = []"
   ]
  },
  {
   "cell_type": "code",
   "execution_count": null,
   "metadata": {
    "collapsed": true
   },
   "outputs": [],
   "source": [
    "decks2 = "
   ]
  },
  {
   "cell_type": "code",
   "execution_count": 121,
   "metadata": {},
   "outputs": [],
   "source": [
    "cards = card + random.sample(list(random.sample(list(decks.columns.values),1)),1)"
   ]
  },
  {
   "cell_type": "code",
   "execution_count": 122,
   "metadata": {},
   "outputs": [
    {
     "data": {
      "text/plain": [
       "[2, 6, 'A', 'Hearts']"
      ]
     },
     "execution_count": 122,
     "metadata": {},
     "output_type": "execute_result"
    }
   ],
   "source": [
    "cards"
   ]
  },
  {
   "cell_type": "code",
   "execution_count": 140,
   "metadata": {},
   "outputs": [],
   "source": [
    "my_play = Players(balance = 2000,cards = card,SumCards = 0,bet_pack = 0)"
   ]
  },
  {
   "cell_type": "code",
   "execution_count": 80,
   "metadata": {},
   "outputs": [],
   "source": [
    "my_play.bet(1999)"
   ]
  },
  {
   "cell_type": "code",
   "execution_count": 81,
   "metadata": {},
   "outputs": [
    {
     "data": {
      "text/plain": [
       "1999"
      ]
     },
     "execution_count": 81,
     "metadata": {},
     "output_type": "execute_result"
    }
   ],
   "source": [
    "my_play.bet_pack"
   ]
  },
  {
   "cell_type": "code",
   "execution_count": 141,
   "metadata": {},
   "outputs": [
    {
     "ename": "TypeError",
     "evalue": "'NoneType' object is not iterable",
     "output_type": "error",
     "traceback": [
      "\u001b[0;31m---------------------------------------------------------------------------\u001b[0m",
      "\u001b[0;31mTypeError\u001b[0m                                 Traceback (most recent call last)",
      "\u001b[0;32m<ipython-input-141-f77886f35a95>\u001b[0m in \u001b[0;36m<module>\u001b[0;34m()\u001b[0m\n\u001b[0;32m----> 1\u001b[0;31m \u001b[0mmy_play\u001b[0m\u001b[1;33m.\u001b[0m\u001b[0mplay\u001b[0m\u001b[1;33m(\u001b[0m\u001b[0mhit\u001b[0m \u001b[1;33m=\u001b[0m \u001b[1;34m'yes'\u001b[0m\u001b[1;33m)\u001b[0m\u001b[1;33m\u001b[0m\u001b[0m\n\u001b[0m",
      "\u001b[0;32m<ipython-input-139-f3651a37b4fa>\u001b[0m in \u001b[0;36mplay\u001b[0;34m(self, hit)\u001b[0m\n\u001b[1;32m     16\u001b[0m             \u001b[0mgth\u001b[0m \u001b[1;33m=\u001b[0m \u001b[0mdecks\u001b[0m\u001b[1;33m.\u001b[0m\u001b[0mcolumns\u001b[0m\u001b[1;33m.\u001b[0m\u001b[0mvalues\u001b[0m\u001b[1;33m\u001b[0m\u001b[0m\n\u001b[1;32m     17\u001b[0m             \u001b[0mself\u001b[0m\u001b[1;33m.\u001b[0m\u001b[0mcards\u001b[0m \u001b[1;33m=\u001b[0m \u001b[0mself\u001b[0m\u001b[1;33m.\u001b[0m\u001b[0mcards\u001b[0m\u001b[1;33m.\u001b[0m\u001b[0mappend\u001b[0m\u001b[1;33m(\u001b[0m\u001b[0mrandom\u001b[0m\u001b[1;33m.\u001b[0m\u001b[0msample\u001b[0m\u001b[1;33m(\u001b[0m\u001b[0mlist\u001b[0m\u001b[1;33m(\u001b[0m\u001b[0mdecks\u001b[0m\u001b[1;33m[\u001b[0m\u001b[0mrandom\u001b[0m\u001b[1;33m.\u001b[0m\u001b[0msample\u001b[0m\u001b[1;33m(\u001b[0m\u001b[0mlist\u001b[0m\u001b[1;33m(\u001b[0m\u001b[0mgth\u001b[0m\u001b[1;33m)\u001b[0m\u001b[1;33m,\u001b[0m\u001b[1;36m1\u001b[0m\u001b[1;33m)\u001b[0m\u001b[1;33m[\u001b[0m\u001b[1;36m0\u001b[0m\u001b[1;33m]\u001b[0m\u001b[1;33m]\u001b[0m\u001b[1;33m)\u001b[0m\u001b[1;33m,\u001b[0m\u001b[1;36m1\u001b[0m\u001b[1;33m)\u001b[0m\u001b[1;33m[\u001b[0m\u001b[1;36m0\u001b[0m\u001b[1;33m]\u001b[0m\u001b[1;33m)\u001b[0m\u001b[1;33m\u001b[0m\u001b[0m\n\u001b[0;32m---> 18\u001b[0;31m             \u001b[0mself\u001b[0m\u001b[1;33m.\u001b[0m\u001b[0mcards\u001b[0m \u001b[1;33m=\u001b[0m \u001b[1;33m[\u001b[0m\u001b[0mrandom\u001b[0m\u001b[1;33m.\u001b[0m\u001b[0msample\u001b[0m\u001b[1;33m(\u001b[0m\u001b[1;33m[\u001b[0m\u001b[1;36m1\u001b[0m\u001b[1;33m,\u001b[0m\u001b[1;36m11\u001b[0m\u001b[1;33m]\u001b[0m\u001b[1;33m,\u001b[0m\u001b[1;36m1\u001b[0m\u001b[1;33m)\u001b[0m\u001b[1;33m[\u001b[0m\u001b[1;36m0\u001b[0m\u001b[1;33m]\u001b[0m \u001b[1;32mif\u001b[0m \u001b[0mx\u001b[0m \u001b[1;33m==\u001b[0m \u001b[1;34m'A'\u001b[0m \u001b[1;32melse\u001b[0m \u001b[0mx\u001b[0m \u001b[1;32mfor\u001b[0m \u001b[0mx\u001b[0m \u001b[1;32min\u001b[0m \u001b[0mself\u001b[0m\u001b[1;33m.\u001b[0m\u001b[0mcards\u001b[0m\u001b[1;33m]\u001b[0m\u001b[1;33m\u001b[0m\u001b[0m\n\u001b[0m\u001b[1;32m     19\u001b[0m             \u001b[0mself\u001b[0m\u001b[1;33m.\u001b[0m\u001b[0mcards\u001b[0m \u001b[1;33m=\u001b[0m \u001b[1;33m[\u001b[0m\u001b[1;36m10\u001b[0m \u001b[1;32mif\u001b[0m \u001b[0mx\u001b[0m \u001b[1;32min\u001b[0m \u001b[1;33m[\u001b[0m\u001b[1;34m'K'\u001b[0m\u001b[1;33m,\u001b[0m\u001b[1;34m'Q'\u001b[0m\u001b[1;33m,\u001b[0m\u001b[1;34m'J'\u001b[0m\u001b[1;33m]\u001b[0m \u001b[1;32melse\u001b[0m \u001b[0mx\u001b[0m \u001b[1;32mfor\u001b[0m \u001b[0mx\u001b[0m \u001b[1;32min\u001b[0m \u001b[0mcards\u001b[0m\u001b[1;33m]\u001b[0m\u001b[1;33m\u001b[0m\u001b[0m\n\u001b[1;32m     20\u001b[0m         \u001b[1;32melse\u001b[0m\u001b[1;33m:\u001b[0m\u001b[1;33m\u001b[0m\u001b[0m\n",
      "\u001b[0;31mTypeError\u001b[0m: 'NoneType' object is not iterable"
     ]
    }
   ],
   "source": [
    "my_play.play(hit = 'yes')"
   ]
  },
  {
   "cell_type": "code",
   "execution_count": 94,
   "metadata": {},
   "outputs": [
    {
     "data": {
      "text/plain": [
       "[3, 'A', 7]"
      ]
     },
     "execution_count": 94,
     "metadata": {},
     "output_type": "execute_result"
    }
   ],
   "source": [
    "my_play.cards"
   ]
  },
  {
   "cell_type": "code",
   "execution_count": 31,
   "metadata": {},
   "outputs": [
    {
     "data": {
      "text/plain": [
       "[3, 'A', 3, 'A', 3, 'A']"
      ]
     },
     "execution_count": 31,
     "metadata": {},
     "output_type": "execute_result"
    }
   ],
   "source": [
    "card = [3,'A']*3\n",
    "card"
   ]
  },
  {
   "cell_type": "code",
   "execution_count": 39,
   "metadata": {},
   "outputs": [
    {
     "data": {
      "text/plain": [
       "3"
      ]
     },
     "execution_count": 39,
     "metadata": {},
     "output_type": "execute_result"
    }
   ],
   "source": [
    "import random\n",
    "select = random.sample(card,1)[0]\n",
    "select"
   ]
  },
  {
   "cell_type": "code",
   "execution_count": 7,
   "metadata": {},
   "outputs": [
    {
     "ename": "SyntaxError",
     "evalue": "invalid syntax (<ipython-input-7-fcf2e7291b46>, line 8)",
     "output_type": "error",
     "traceback": [
      "\u001b[0;36m  File \u001b[0;32m\"<ipython-input-7-fcf2e7291b46>\"\u001b[0;36m, line \u001b[0;32m8\u001b[0m\n\u001b[0;31m    def take_card(self,True):\u001b[0m\n\u001b[0m                          ^\u001b[0m\n\u001b[0;31mSyntaxError\u001b[0m\u001b[0;31m:\u001b[0m invalid syntax\n"
     ]
    }
   ],
   "source": [
    "import random\n",
    "class Deck():\n",
    "    cardi = ['A', 2, 3, 4, 5, 6, 7, 8, 9, 'J', 'Q', 'K']\n",
    "    def __Init__(self, deckss,):\n",
    "        self.deckss = cardi*3\n",
    "    \n",
    "        #self.deckss = pd.DataFrame({'Diamond':cardi, 'Spades':cardi, 'Hearts':cardi, 'Clubs':cardi})\n",
    "    def take_card(self,True):\n",
    "        select = random.sample(self.deckss,1)[0]\n",
    "        self.deckss = self.deckss.remove(select)"
   ]
  },
  {
   "cell_type": "code",
   "execution_count": 2,
   "metadata": {},
   "outputs": [],
   "source": [
    "cardi = ['A', 2, 3, 4, 5, 6, 7, 8, 9, 'J', 'Q', 'K']\n",
    "deckss = cardi*3"
   ]
  },
  {
   "cell_type": "code",
   "execution_count": null,
   "metadata": {
    "collapsed": true
   },
   "outputs": [],
   "source": []
  }
 ],
 "metadata": {
  "anaconda-cloud": {},
  "kernelspec": {
   "display_name": "Python 3",
   "language": "python",
   "name": "python3"
  },
  "language_info": {
   "codemirror_mode": {
    "name": "ipython",
    "version": 3
   },
   "file_extension": ".py",
   "mimetype": "text/x-python",
   "name": "python",
   "nbconvert_exporter": "python",
   "pygments_lexer": "ipython3",
   "version": "3.7.1"
  }
 },
 "nbformat": 4,
 "nbformat_minor": 1
}
