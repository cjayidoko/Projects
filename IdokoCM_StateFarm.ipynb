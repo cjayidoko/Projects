{
 "cells": [
  {
   "cell_type": "code",
   "execution_count": 1,
   "metadata": {},
   "outputs": [],
   "source": [
    "# import libraries\n",
    "import pandas as pd\n",
    "import numpy as np"
   ]
  },
  {
   "cell_type": "code",
   "execution_count": null,
   "metadata": {},
   "outputs": [],
   "source": [
    "### 3.  Anonymous Dataset from statefarm"
   ]
  },
  {
   "cell_type": "code",
   "execution_count": null,
   "metadata": {},
   "outputs": [],
   "source": []
  },
  {
   "cell_type": "code",
   "execution_count": null,
   "metadata": {},
   "outputs": [],
   "source": []
  },
  {
   "cell_type": "code",
   "execution_count": 90,
   "metadata": {},
   "outputs": [],
   "source": [
    "#Load all the libraries required for the project\n",
    "import numpy\n",
    "from numpy import arange\n",
    "from matplotlib import pyplot\n",
    "from pandas import read_csv\n",
    "from pandas import set_option\n",
    "from pandas.tools.plotting import scatter_matrix\n",
    "from sklearn.preprocessing import StandardScaler\n",
    "from sklearn.model_selection import train_test_split\n",
    "from sklearn.model_selection import KFold\n",
    "from sklearn.model_selection import cross_val_score\n",
    "from sklearn.model_selection import GridSearchCV\n",
    "from sklearn.linear_model import LinearRegression\n",
    "from sklearn.linear_model import Lasso\n",
    "from sklearn.linear_model import ElasticNet\n",
    "from sklearn.tree import DecisionTreeRegressor\n",
    "from sklearn.neighbors import KNeighborsRegressor\n",
    "from sklearn.svm import SVR\n",
    "from sklearn.pipeline import Pipeline\n",
    "from sklearn.ensemble import RandomForestRegressor\n",
    "from sklearn.ensemble import GradientBoostingRegressor\n",
    "from sklearn.ensemble import AdaBoostRegressor\n",
    "from sklearn.metrics import mean_squared_error"
   ]
  },
  {
   "cell_type": "code",
   "execution_count": 197,
   "metadata": {},
   "outputs": [],
   "source": [
    "import matplotlib.pyplot as plt"
   ]
  },
  {
   "cell_type": "code",
   "execution_count": 2,
   "metadata": {},
   "outputs": [],
   "source": [
    "# load messages dataset\n",
    "df_train = pd.read_csv('exercise_02_train.csv')\n",
    "df_test = pd.read_csv('exercise_02_test.csv')\n",
    "#df_train.head(5)"
   ]
  },
  {
   "cell_type": "code",
   "execution_count": null,
   "metadata": {},
   "outputs": [],
   "source": []
  },
  {
   "cell_type": "code",
   "execution_count": null,
   "metadata": {},
   "outputs": [],
   "source": []
  },
  {
   "cell_type": "markdown",
   "metadata": {},
   "source": [
    "### 1. Train Data Exploration and Cleansing"
   ]
  },
  {
   "cell_type": "code",
   "execution_count": 3,
   "metadata": {},
   "outputs": [
    {
     "data": {
      "text/html": [
       "<div>\n",
       "<style scoped>\n",
       "    .dataframe tbody tr th:only-of-type {\n",
       "        vertical-align: middle;\n",
       "    }\n",
       "\n",
       "    .dataframe tbody tr th {\n",
       "        vertical-align: top;\n",
       "    }\n",
       "\n",
       "    .dataframe thead th {\n",
       "        text-align: right;\n",
       "    }\n",
       "</style>\n",
       "<table border=\"1\" class=\"dataframe\">\n",
       "  <thead>\n",
       "    <tr style=\"text-align: right;\">\n",
       "      <th></th>\n",
       "      <th>x0</th>\n",
       "      <th>x1</th>\n",
       "      <th>x2</th>\n",
       "      <th>x3</th>\n",
       "      <th>x4</th>\n",
       "      <th>x5</th>\n",
       "      <th>x6</th>\n",
       "      <th>x7</th>\n",
       "      <th>x8</th>\n",
       "      <th>x9</th>\n",
       "      <th>...</th>\n",
       "      <th>x91</th>\n",
       "      <th>x92</th>\n",
       "      <th>x93</th>\n",
       "      <th>x94</th>\n",
       "      <th>x95</th>\n",
       "      <th>x96</th>\n",
       "      <th>x97</th>\n",
       "      <th>x98</th>\n",
       "      <th>x99</th>\n",
       "      <th>y</th>\n",
       "    </tr>\n",
       "  </thead>\n",
       "  <tbody>\n",
       "    <tr>\n",
       "      <th>0</th>\n",
       "      <td>0.198560</td>\n",
       "      <td>74.425320</td>\n",
       "      <td>67.627745</td>\n",
       "      <td>-3.095111</td>\n",
       "      <td>-6.822327</td>\n",
       "      <td>19.048071</td>\n",
       "      <td>-0.362378</td>\n",
       "      <td>-10.699174</td>\n",
       "      <td>-22.699791</td>\n",
       "      <td>-1.561262</td>\n",
       "      <td>...</td>\n",
       "      <td>0.800948</td>\n",
       "      <td>1.553846</td>\n",
       "      <td>asia</td>\n",
       "      <td>-1.093926</td>\n",
       "      <td>16.202557</td>\n",
       "      <td>26.238591</td>\n",
       "      <td>-2.125570</td>\n",
       "      <td>9.644466</td>\n",
       "      <td>1.237667</td>\n",
       "      <td>0</td>\n",
       "    </tr>\n",
       "    <tr>\n",
       "      <th>1</th>\n",
       "      <td>-29.662621</td>\n",
       "      <td>24.320711</td>\n",
       "      <td>-48.205182</td>\n",
       "      <td>1.430339</td>\n",
       "      <td>-6.552206</td>\n",
       "      <td>4.263074</td>\n",
       "      <td>6.551412</td>\n",
       "      <td>4.265483</td>\n",
       "      <td>1.245095</td>\n",
       "      <td>2.246814</td>\n",
       "      <td>...</td>\n",
       "      <td>2.031707</td>\n",
       "      <td>7.544422</td>\n",
       "      <td>asia</td>\n",
       "      <td>-3.659541</td>\n",
       "      <td>29.674259</td>\n",
       "      <td>-15.141647</td>\n",
       "      <td>-36.030599</td>\n",
       "      <td>5.820376</td>\n",
       "      <td>1.952183</td>\n",
       "      <td>1</td>\n",
       "    </tr>\n",
       "    <tr>\n",
       "      <th>2</th>\n",
       "      <td>15.493759</td>\n",
       "      <td>-66.160459</td>\n",
       "      <td>50.512903</td>\n",
       "      <td>-2.265792</td>\n",
       "      <td>14.428578</td>\n",
       "      <td>2.509323</td>\n",
       "      <td>-6.707536</td>\n",
       "      <td>3.820842</td>\n",
       "      <td>-11.100833</td>\n",
       "      <td>-1.459825</td>\n",
       "      <td>...</td>\n",
       "      <td>-0.992474</td>\n",
       "      <td>1.385799</td>\n",
       "      <td>america</td>\n",
       "      <td>1.299144</td>\n",
       "      <td>33.018090</td>\n",
       "      <td>-19.914894</td>\n",
       "      <td>26.212736</td>\n",
       "      <td>2.372690</td>\n",
       "      <td>0.558988</td>\n",
       "      <td>1</td>\n",
       "    </tr>\n",
       "    <tr>\n",
       "      <th>3</th>\n",
       "      <td>-19.837651</td>\n",
       "      <td>33.210943</td>\n",
       "      <td>53.405563</td>\n",
       "      <td>1.079462</td>\n",
       "      <td>11.364251</td>\n",
       "      <td>-1.064581</td>\n",
       "      <td>9.308857</td>\n",
       "      <td>9.266076</td>\n",
       "      <td>14.552959</td>\n",
       "      <td>-2.012755</td>\n",
       "      <td>...</td>\n",
       "      <td>-1.157845</td>\n",
       "      <td>6.036804</td>\n",
       "      <td>asia</td>\n",
       "      <td>0.521396</td>\n",
       "      <td>9.664095</td>\n",
       "      <td>-27.197636</td>\n",
       "      <td>19.221130</td>\n",
       "      <td>13.382712</td>\n",
       "      <td>0.214462</td>\n",
       "      <td>0</td>\n",
       "    </tr>\n",
       "    <tr>\n",
       "      <th>4</th>\n",
       "      <td>11.896655</td>\n",
       "      <td>-26.717872</td>\n",
       "      <td>-17.758176</td>\n",
       "      <td>1.692017</td>\n",
       "      <td>21.553537</td>\n",
       "      <td>-5.852097</td>\n",
       "      <td>-0.857435</td>\n",
       "      <td>-2.186940</td>\n",
       "      <td>18.075272</td>\n",
       "      <td>-1.404618</td>\n",
       "      <td>...</td>\n",
       "      <td>-3.045511</td>\n",
       "      <td>-1.719337</td>\n",
       "      <td>asia</td>\n",
       "      <td>1.526071</td>\n",
       "      <td>-25.608326</td>\n",
       "      <td>33.383803</td>\n",
       "      <td>-5.703269</td>\n",
       "      <td>-11.023730</td>\n",
       "      <td>-1.191319</td>\n",
       "      <td>0</td>\n",
       "    </tr>\n",
       "  </tbody>\n",
       "</table>\n",
       "<p>5 rows × 101 columns</p>\n",
       "</div>"
      ],
      "text/plain": [
       "          x0         x1         x2        x3         x4         x5        x6  \\\n",
       "0   0.198560  74.425320  67.627745 -3.095111  -6.822327  19.048071 -0.362378   \n",
       "1 -29.662621  24.320711 -48.205182  1.430339  -6.552206   4.263074  6.551412   \n",
       "2  15.493759 -66.160459  50.512903 -2.265792  14.428578   2.509323 -6.707536   \n",
       "3 -19.837651  33.210943  53.405563  1.079462  11.364251  -1.064581  9.308857   \n",
       "4  11.896655 -26.717872 -17.758176  1.692017  21.553537  -5.852097 -0.857435   \n",
       "\n",
       "          x7         x8        x9 ...       x91       x92      x93       x94  \\\n",
       "0 -10.699174 -22.699791 -1.561262 ...  0.800948  1.553846     asia -1.093926   \n",
       "1   4.265483   1.245095  2.246814 ...  2.031707  7.544422     asia -3.659541   \n",
       "2   3.820842 -11.100833 -1.459825 ... -0.992474  1.385799  america  1.299144   \n",
       "3   9.266076  14.552959 -2.012755 ... -1.157845  6.036804     asia  0.521396   \n",
       "4  -2.186940  18.075272 -1.404618 ... -3.045511 -1.719337     asia  1.526071   \n",
       "\n",
       "         x95        x96        x97        x98       x99  y  \n",
       "0  16.202557  26.238591  -2.125570   9.644466  1.237667  0  \n",
       "1  29.674259 -15.141647 -36.030599   5.820376  1.952183  1  \n",
       "2  33.018090 -19.914894  26.212736   2.372690  0.558988  1  \n",
       "3   9.664095 -27.197636  19.221130  13.382712  0.214462  0  \n",
       "4 -25.608326  33.383803  -5.703269 -11.023730 -1.191319  0  \n",
       "\n",
       "[5 rows x 101 columns]"
      ]
     },
     "execution_count": 3,
     "metadata": {},
     "output_type": "execute_result"
    }
   ],
   "source": [
    "df_train.head(5)"
   ]
  },
  {
   "cell_type": "code",
   "execution_count": 5,
   "metadata": {},
   "outputs": [
    {
     "data": {
      "text/plain": [
       "(40000, 101)"
      ]
     },
     "execution_count": 5,
     "metadata": {},
     "output_type": "execute_result"
    }
   ],
   "source": [
    "df_train.shape"
   ]
  },
  {
   "cell_type": "code",
   "execution_count": 6,
   "metadata": {},
   "outputs": [
    {
     "data": {
      "text/plain": [
       "Index(['x0', 'x1', 'x2', 'x3', 'x4', 'x5', 'x6', 'x7', 'x8', 'x9', 'x10',\n",
       "       'x11', 'x12', 'x13', 'x14', 'x15', 'x16', 'x17', 'x18', 'x19', 'x20',\n",
       "       'x21', 'x22', 'x23', 'x24', 'x25', 'x26', 'x27', 'x28', 'x29', 'x30',\n",
       "       'x31', 'x32', 'x33', 'x34', 'x35', 'x36', 'x37', 'x38', 'x39', 'x40',\n",
       "       'x41', 'x42', 'x43', 'x44', 'x45', 'x46', 'x47', 'x48', 'x49', 'x50',\n",
       "       'x51', 'x52', 'x53', 'x54', 'x55', 'x56', 'x57', 'x58', 'x59', 'x60',\n",
       "       'x61', 'x62', 'x63', 'x64', 'x65', 'x66', 'x67', 'x68', 'x69', 'x70',\n",
       "       'x71', 'x72', 'x73', 'x74', 'x75', 'x76', 'x77', 'x78', 'x79', 'x80',\n",
       "       'x81', 'x82', 'x83', 'x84', 'x85', 'x86', 'x87', 'x88', 'x89', 'x90',\n",
       "       'x91', 'x92', 'x93', 'x94', 'x95', 'x96', 'x97', 'x98', 'x99'],\n",
       "      dtype='object')"
      ]
     },
     "execution_count": 6,
     "metadata": {},
     "output_type": "execute_result"
    }
   ],
   "source": [
    "df_train.columns[df_train.isna().any().values]"
   ]
  },
  {
   "cell_type": "code",
   "execution_count": 12,
   "metadata": {},
   "outputs": [],
   "source": [
    "#df_train.isnull().sum()#Nunmber of null valuesin each column"
   ]
  },
  {
   "cell_type": "code",
   "execution_count": 8,
   "metadata": {},
   "outputs": [
    {
     "data": {
      "text/plain": [
       "Index([], dtype='object')"
      ]
     },
     "execution_count": 8,
     "metadata": {},
     "output_type": "execute_result"
    }
   ],
   "source": [
    "df_train.columns[(df_train.isnull().sum() * 100) / (df_train.shape[0]) > 1]#Find out how many columns have NaNs up to 1%"
   ]
  },
  {
   "cell_type": "code",
   "execution_count": 9,
   "metadata": {},
   "outputs": [],
   "source": [
    "df = df_train[~df_train.isna().any(axis = 1)]#Remove all instances of nan in the dataframe"
   ]
  },
  {
   "cell_type": "code",
   "execution_count": null,
   "metadata": {},
   "outputs": [],
   "source": []
  },
  {
   "cell_type": "code",
   "execution_count": null,
   "metadata": {},
   "outputs": [],
   "source": []
  },
  {
   "cell_type": "code",
   "execution_count": null,
   "metadata": {},
   "outputs": [],
   "source": []
  },
  {
   "cell_type": "code",
   "execution_count": 84,
   "metadata": {},
   "outputs": [],
   "source": [
    "obj_types = df.select_dtypes(include = ['object']).copy()#Find out categorical datsets"
   ]
  },
  {
   "cell_type": "code",
   "execution_count": 85,
   "metadata": {},
   "outputs": [
    {
     "data": {
      "text/html": [
       "<div>\n",
       "<style scoped>\n",
       "    .dataframe tbody tr th:only-of-type {\n",
       "        vertical-align: middle;\n",
       "    }\n",
       "\n",
       "    .dataframe tbody tr th {\n",
       "        vertical-align: top;\n",
       "    }\n",
       "\n",
       "    .dataframe thead th {\n",
       "        text-align: right;\n",
       "    }\n",
       "</style>\n",
       "<table border=\"1\" class=\"dataframe\">\n",
       "  <thead>\n",
       "    <tr style=\"text-align: right;\">\n",
       "      <th></th>\n",
       "      <th>x34</th>\n",
       "      <th>x35</th>\n",
       "      <th>x68</th>\n",
       "      <th>x93</th>\n",
       "    </tr>\n",
       "  </thead>\n",
       "  <tbody>\n",
       "    <tr>\n",
       "      <th>0</th>\n",
       "      <td>Toyota</td>\n",
       "      <td>wednesday</td>\n",
       "      <td>Jun</td>\n",
       "      <td>asia</td>\n",
       "    </tr>\n",
       "    <tr>\n",
       "      <th>1</th>\n",
       "      <td>Honda</td>\n",
       "      <td>wednesday</td>\n",
       "      <td>sept.</td>\n",
       "      <td>asia</td>\n",
       "    </tr>\n",
       "    <tr>\n",
       "      <th>2</th>\n",
       "      <td>bmw</td>\n",
       "      <td>wednesday</td>\n",
       "      <td>Oct</td>\n",
       "      <td>america</td>\n",
       "    </tr>\n",
       "    <tr>\n",
       "      <th>3</th>\n",
       "      <td>volkswagon</td>\n",
       "      <td>wednesday</td>\n",
       "      <td>Jun</td>\n",
       "      <td>asia</td>\n",
       "    </tr>\n",
       "    <tr>\n",
       "      <th>4</th>\n",
       "      <td>volkswagon</td>\n",
       "      <td>thursday</td>\n",
       "      <td>July</td>\n",
       "      <td>asia</td>\n",
       "    </tr>\n",
       "    <tr>\n",
       "      <th>5</th>\n",
       "      <td>Toyota</td>\n",
       "      <td>wednesday</td>\n",
       "      <td>Aug</td>\n",
       "      <td>asia</td>\n",
       "    </tr>\n",
       "    <tr>\n",
       "      <th>6</th>\n",
       "      <td>bmw</td>\n",
       "      <td>wednesday</td>\n",
       "      <td>Aug</td>\n",
       "      <td>asia</td>\n",
       "    </tr>\n",
       "    <tr>\n",
       "      <th>7</th>\n",
       "      <td>Honda</td>\n",
       "      <td>wednesday</td>\n",
       "      <td>Aug</td>\n",
       "      <td>asia</td>\n",
       "    </tr>\n",
       "    <tr>\n",
       "      <th>8</th>\n",
       "      <td>Toyota</td>\n",
       "      <td>wednesday</td>\n",
       "      <td>Apr</td>\n",
       "      <td>asia</td>\n",
       "    </tr>\n",
       "    <tr>\n",
       "      <th>9</th>\n",
       "      <td>Toyota</td>\n",
       "      <td>thursday</td>\n",
       "      <td>Jun</td>\n",
       "      <td>asia</td>\n",
       "    </tr>\n",
       "  </tbody>\n",
       "</table>\n",
       "</div>"
      ],
      "text/plain": [
       "          x34        x35    x68      x93\n",
       "0      Toyota  wednesday    Jun     asia\n",
       "1       Honda  wednesday  sept.     asia\n",
       "2         bmw  wednesday    Oct  america\n",
       "3  volkswagon  wednesday    Jun     asia\n",
       "4  volkswagon   thursday   July     asia\n",
       "5      Toyota  wednesday    Aug     asia\n",
       "6         bmw  wednesday    Aug     asia\n",
       "7       Honda  wednesday    Aug     asia\n",
       "8      Toyota  wednesday    Apr     asia\n",
       "9      Toyota   thursday    Jun     asia"
      ]
     },
     "execution_count": 85,
     "metadata": {},
     "output_type": "execute_result"
    }
   ],
   "source": [
    "obj_types.head(10)"
   ]
  },
  {
   "cell_type": "code",
   "execution_count": 182,
   "metadata": {},
   "outputs": [
    {
     "data": {
      "text/plain": [
       "volkswagon    12199\n",
       "Toyota        10867\n",
       "bmw            7155\n",
       "Honda          5060\n",
       "tesla          2189\n",
       "chrystler      1188\n",
       "nissan          331\n",
       "ford            156\n",
       "mercades         26\n",
       "chevrolet        11\n",
       "Name: x34, dtype: int64"
      ]
     },
     "execution_count": 182,
     "metadata": {},
     "output_type": "execute_result"
    }
   ],
   "source": [
    "obj_types['x34'].value_counts()"
   ]
  },
  {
   "cell_type": "code",
   "execution_count": null,
   "metadata": {},
   "outputs": [],
   "source": [
    "#treat and engineer the categorical datasets"
   ]
  },
  {
   "cell_type": "code",
   "execution_count": 16,
   "metadata": {},
   "outputs": [],
   "source": [
    "removeSign = lambda x: x[1:]#Remove first element of an element"
   ]
  },
  {
   "cell_type": "code",
   "execution_count": 26,
   "metadata": {
    "scrolled": true
   },
   "outputs": [
    {
     "name": "stderr",
     "output_type": "stream",
     "text": [
      "C:\\Users\\chiji\\AppData\\Local\\Continuum\\anaconda3\\lib\\site-packages\\ipykernel_launcher.py:1: SettingWithCopyWarning: \n",
      "A value is trying to be set on a copy of a slice from a DataFrame.\n",
      "Try using .loc[row_indexer,col_indexer] = value instead\n",
      "\n",
      "See the caveats in the documentation: http://pandas.pydata.org/pandas-docs/stable/indexing.html#indexing-view-versus-copy\n",
      "  \"\"\"Entry point for launching an IPython kernel.\n"
     ]
    }
   ],
   "source": [
    "df['x41'] = df['x41'].apply(removeSign).astype(float)#Changed to float type, and remove the sign"
   ]
  },
  {
   "cell_type": "code",
   "execution_count": 38,
   "metadata": {},
   "outputs": [],
   "source": [
    "removeLast = lambda x: x[:-1]#Remove last memeber of an element"
   ]
  },
  {
   "cell_type": "code",
   "execution_count": 31,
   "metadata": {},
   "outputs": [
    {
     "data": {
      "text/plain": [
       "-0.01%    9393\n",
       "0.01%     9353\n",
       "0.0%      7828\n",
       "-0.0%     7405\n",
       "0.02%     2337\n",
       "-0.02%    2318\n",
       "-0.03%     278\n",
       "0.03%      243\n",
       "-0.04%      17\n",
       "0.04%       10\n",
       "Name: x45, dtype: int64"
      ]
     },
     "execution_count": 31,
     "metadata": {},
     "output_type": "execute_result"
    }
   ],
   "source": [
    "obj_types['x35'] = obj_types['x35'].apply(change_val)"
   ]
  },
  {
   "cell_type": "code",
   "execution_count": 40,
   "metadata": {},
   "outputs": [],
   "source": [
    "#obj_types['x45'] = obj_types['x45'].apply(removeLast).astype(float)"
   ]
  },
  {
   "cell_type": "code",
   "execution_count": 42,
   "metadata": {},
   "outputs": [
    {
     "name": "stderr",
     "output_type": "stream",
     "text": [
      "C:\\Users\\chiji\\AppData\\Local\\Continuum\\anaconda3\\lib\\site-packages\\ipykernel_launcher.py:1: SettingWithCopyWarning: \n",
      "A value is trying to be set on a copy of a slice from a DataFrame.\n",
      "Try using .loc[row_indexer,col_indexer] = value instead\n",
      "\n",
      "See the caveats in the documentation: http://pandas.pydata.org/pandas-docs/stable/indexing.html#indexing-view-versus-copy\n",
      "  \"\"\"Entry point for launching an IPython kernel.\n"
     ]
    }
   ],
   "source": [
    "df['x45'] = df['x45'].apply(removeLast).astype(float)"
   ]
  },
  {
   "cell_type": "code",
   "execution_count": null,
   "metadata": {},
   "outputs": [],
   "source": [
    "#obj_types['x41'] = obj_types['x41'].apply(removLast).astype(float)"
   ]
  },
  {
   "cell_type": "code",
   "execution_count": 75,
   "metadata": {},
   "outputs": [],
   "source": [
    "change_val = lambda x:'Dec' if x=='Dev' else x#Change the value of a given element, say Dev to December, thur to Thursday"
   ]
  },
  {
   "cell_type": "code",
   "execution_count": 63,
   "metadata": {},
   "outputs": [],
   "source": [
    "obj_types['x35'] = obj_types['x35'].apply(change_val)"
   ]
  },
  {
   "cell_type": "code",
   "execution_count": 76,
   "metadata": {},
   "outputs": [
    {
     "name": "stderr",
     "output_type": "stream",
     "text": [
      "C:\\Users\\chiji\\AppData\\Local\\Continuum\\anaconda3\\lib\\site-packages\\ipykernel_launcher.py:1: SettingWithCopyWarning: \n",
      "A value is trying to be set on a copy of a slice from a DataFrame.\n",
      "Try using .loc[row_indexer,col_indexer] = value instead\n",
      "\n",
      "See the caveats in the documentation: http://pandas.pydata.org/pandas-docs/stable/indexing.html#indexing-view-versus-copy\n",
      "  \"\"\"Entry point for launching an IPython kernel.\n"
     ]
    }
   ],
   "source": [
    "df['x68'] = df['x68'].apply(change_val)\n",
    "#obj_types['x41'] = obj_types['x41'].apply(removLast).astype(float)"
   ]
  },
  {
   "cell_type": "code",
   "execution_count": 86,
   "metadata": {},
   "outputs": [],
   "source": [
    "float_types = df.select_dtypes(include = ['float']).copy()#Get only the float d_tyes "
   ]
  },
  {
   "cell_type": "code",
   "execution_count": 92,
   "metadata": {},
   "outputs": [
    {
     "data": {
      "text/html": [
       "<div>\n",
       "<style scoped>\n",
       "    .dataframe tbody tr th:only-of-type {\n",
       "        vertical-align: middle;\n",
       "    }\n",
       "\n",
       "    .dataframe tbody tr th {\n",
       "        vertical-align: top;\n",
       "    }\n",
       "\n",
       "    .dataframe thead th {\n",
       "        text-align: right;\n",
       "    }\n",
       "</style>\n",
       "<table border=\"1\" class=\"dataframe\">\n",
       "  <thead>\n",
       "    <tr style=\"text-align: right;\">\n",
       "      <th></th>\n",
       "      <th>x0</th>\n",
       "      <th>x1</th>\n",
       "      <th>x2</th>\n",
       "      <th>x3</th>\n",
       "      <th>x4</th>\n",
       "      <th>x5</th>\n",
       "      <th>x6</th>\n",
       "      <th>x7</th>\n",
       "      <th>x8</th>\n",
       "      <th>x9</th>\n",
       "      <th>...</th>\n",
       "      <th>x89</th>\n",
       "      <th>x90</th>\n",
       "      <th>x91</th>\n",
       "      <th>x92</th>\n",
       "      <th>x94</th>\n",
       "      <th>x95</th>\n",
       "      <th>x96</th>\n",
       "      <th>x97</th>\n",
       "      <th>x98</th>\n",
       "      <th>x99</th>\n",
       "    </tr>\n",
       "  </thead>\n",
       "  <tbody>\n",
       "    <tr>\n",
       "      <th>0</th>\n",
       "      <td>0.198560</td>\n",
       "      <td>74.425320</td>\n",
       "      <td>67.627745</td>\n",
       "      <td>-3.095111</td>\n",
       "      <td>-6.822327</td>\n",
       "      <td>19.048071</td>\n",
       "      <td>-0.362378</td>\n",
       "      <td>-10.699174</td>\n",
       "      <td>-22.699791</td>\n",
       "      <td>-1.561262</td>\n",
       "      <td>...</td>\n",
       "      <td>-1.960280</td>\n",
       "      <td>-155.442237</td>\n",
       "      <td>0.800948</td>\n",
       "      <td>1.553846</td>\n",
       "      <td>-1.093926</td>\n",
       "      <td>16.202557</td>\n",
       "      <td>26.238591</td>\n",
       "      <td>-2.125570</td>\n",
       "      <td>9.644466</td>\n",
       "      <td>1.237667</td>\n",
       "    </tr>\n",
       "    <tr>\n",
       "      <th>1</th>\n",
       "      <td>-29.662621</td>\n",
       "      <td>24.320711</td>\n",
       "      <td>-48.205182</td>\n",
       "      <td>1.430339</td>\n",
       "      <td>-6.552206</td>\n",
       "      <td>4.263074</td>\n",
       "      <td>6.551412</td>\n",
       "      <td>4.265483</td>\n",
       "      <td>1.245095</td>\n",
       "      <td>2.246814</td>\n",
       "      <td>...</td>\n",
       "      <td>7.242614</td>\n",
       "      <td>-73.365593</td>\n",
       "      <td>2.031707</td>\n",
       "      <td>7.544422</td>\n",
       "      <td>-3.659541</td>\n",
       "      <td>29.674259</td>\n",
       "      <td>-15.141647</td>\n",
       "      <td>-36.030599</td>\n",
       "      <td>5.820376</td>\n",
       "      <td>1.952183</td>\n",
       "    </tr>\n",
       "    <tr>\n",
       "      <th>2</th>\n",
       "      <td>15.493759</td>\n",
       "      <td>-66.160459</td>\n",
       "      <td>50.512903</td>\n",
       "      <td>-2.265792</td>\n",
       "      <td>14.428578</td>\n",
       "      <td>2.509323</td>\n",
       "      <td>-6.707536</td>\n",
       "      <td>3.820842</td>\n",
       "      <td>-11.100833</td>\n",
       "      <td>-1.459825</td>\n",
       "      <td>...</td>\n",
       "      <td>1.740493</td>\n",
       "      <td>-23.433184</td>\n",
       "      <td>-0.992474</td>\n",
       "      <td>1.385799</td>\n",
       "      <td>1.299144</td>\n",
       "      <td>33.018090</td>\n",
       "      <td>-19.914894</td>\n",
       "      <td>26.212736</td>\n",
       "      <td>2.372690</td>\n",
       "      <td>0.558988</td>\n",
       "    </tr>\n",
       "    <tr>\n",
       "      <th>3</th>\n",
       "      <td>-19.837651</td>\n",
       "      <td>33.210943</td>\n",
       "      <td>53.405563</td>\n",
       "      <td>1.079462</td>\n",
       "      <td>11.364251</td>\n",
       "      <td>-1.064581</td>\n",
       "      <td>9.308857</td>\n",
       "      <td>9.266076</td>\n",
       "      <td>14.552959</td>\n",
       "      <td>-2.012755</td>\n",
       "      <td>...</td>\n",
       "      <td>-1.724591</td>\n",
       "      <td>38.547680</td>\n",
       "      <td>-1.157845</td>\n",
       "      <td>6.036804</td>\n",
       "      <td>0.521396</td>\n",
       "      <td>9.664095</td>\n",
       "      <td>-27.197636</td>\n",
       "      <td>19.221130</td>\n",
       "      <td>13.382712</td>\n",
       "      <td>0.214462</td>\n",
       "    </tr>\n",
       "    <tr>\n",
       "      <th>4</th>\n",
       "      <td>11.896655</td>\n",
       "      <td>-26.717872</td>\n",
       "      <td>-17.758176</td>\n",
       "      <td>1.692017</td>\n",
       "      <td>21.553537</td>\n",
       "      <td>-5.852097</td>\n",
       "      <td>-0.857435</td>\n",
       "      <td>-2.186940</td>\n",
       "      <td>18.075272</td>\n",
       "      <td>-1.404618</td>\n",
       "      <td>...</td>\n",
       "      <td>-1.541274</td>\n",
       "      <td>-17.226981</td>\n",
       "      <td>-3.045511</td>\n",
       "      <td>-1.719337</td>\n",
       "      <td>1.526071</td>\n",
       "      <td>-25.608326</td>\n",
       "      <td>33.383803</td>\n",
       "      <td>-5.703269</td>\n",
       "      <td>-11.023730</td>\n",
       "      <td>-1.191319</td>\n",
       "    </tr>\n",
       "  </tbody>\n",
       "</table>\n",
       "<p>5 rows × 96 columns</p>\n",
       "</div>"
      ],
      "text/plain": [
       "          x0         x1         x2        x3         x4         x5        x6  \\\n",
       "0   0.198560  74.425320  67.627745 -3.095111  -6.822327  19.048071 -0.362378   \n",
       "1 -29.662621  24.320711 -48.205182  1.430339  -6.552206   4.263074  6.551412   \n",
       "2  15.493759 -66.160459  50.512903 -2.265792  14.428578   2.509323 -6.707536   \n",
       "3 -19.837651  33.210943  53.405563  1.079462  11.364251  -1.064581  9.308857   \n",
       "4  11.896655 -26.717872 -17.758176  1.692017  21.553537  -5.852097 -0.857435   \n",
       "\n",
       "          x7         x8        x9    ...          x89         x90       x91  \\\n",
       "0 -10.699174 -22.699791 -1.561262    ...    -1.960280 -155.442237  0.800948   \n",
       "1   4.265483   1.245095  2.246814    ...     7.242614  -73.365593  2.031707   \n",
       "2   3.820842 -11.100833 -1.459825    ...     1.740493  -23.433184 -0.992474   \n",
       "3   9.266076  14.552959 -2.012755    ...    -1.724591   38.547680 -1.157845   \n",
       "4  -2.186940  18.075272 -1.404618    ...    -1.541274  -17.226981 -3.045511   \n",
       "\n",
       "        x92       x94        x95        x96        x97        x98       x99  \n",
       "0  1.553846 -1.093926  16.202557  26.238591  -2.125570   9.644466  1.237667  \n",
       "1  7.544422 -3.659541  29.674259 -15.141647 -36.030599   5.820376  1.952183  \n",
       "2  1.385799  1.299144  33.018090 -19.914894  26.212736   2.372690  0.558988  \n",
       "3  6.036804  0.521396   9.664095 -27.197636  19.221130  13.382712  0.214462  \n",
       "4 -1.719337  1.526071 -25.608326  33.383803  -5.703269 -11.023730 -1.191319  \n",
       "\n",
       "[5 rows x 96 columns]"
      ]
     },
     "execution_count": 92,
     "metadata": {},
     "output_type": "execute_result"
    }
   ],
   "source": [
    "float_types.head()"
   ]
  },
  {
   "cell_type": "code",
   "execution_count": 93,
   "metadata": {},
   "outputs": [],
   "source": [
    "df.to_csv('NewTrainDF.csv', index = False)#Saved the new cleaned dataframe"
   ]
  },
  {
   "cell_type": "code",
   "execution_count": null,
   "metadata": {},
   "outputs": [],
   "source": [
    "##Find the outliers in each"
   ]
  },
  {
   "cell_type": "code",
   "execution_count": 95,
   "metadata": {},
   "outputs": [
    {
     "data": {
      "text/html": [
       "<div>\n",
       "<style scoped>\n",
       "    .dataframe tbody tr th:only-of-type {\n",
       "        vertical-align: middle;\n",
       "    }\n",
       "\n",
       "    .dataframe tbody tr th {\n",
       "        vertical-align: top;\n",
       "    }\n",
       "\n",
       "    .dataframe thead th {\n",
       "        text-align: right;\n",
       "    }\n",
       "</style>\n",
       "<table border=\"1\" class=\"dataframe\">\n",
       "  <thead>\n",
       "    <tr style=\"text-align: right;\">\n",
       "      <th></th>\n",
       "      <th>x0</th>\n",
       "      <th>x1</th>\n",
       "      <th>x2</th>\n",
       "      <th>x3</th>\n",
       "      <th>x4</th>\n",
       "      <th>x5</th>\n",
       "      <th>x6</th>\n",
       "      <th>x7</th>\n",
       "      <th>x8</th>\n",
       "      <th>x9</th>\n",
       "      <th>...</th>\n",
       "      <th>x15</th>\n",
       "      <th>x16</th>\n",
       "      <th>x17</th>\n",
       "      <th>x18</th>\n",
       "      <th>x19</th>\n",
       "      <th>x20</th>\n",
       "      <th>x21</th>\n",
       "      <th>x22</th>\n",
       "      <th>x23</th>\n",
       "      <th>x24</th>\n",
       "    </tr>\n",
       "  </thead>\n",
       "  <tbody>\n",
       "    <tr>\n",
       "      <th>0</th>\n",
       "      <td>0.198560</td>\n",
       "      <td>74.425320</td>\n",
       "      <td>67.627745</td>\n",
       "      <td>-3.095111</td>\n",
       "      <td>-6.822327</td>\n",
       "      <td>19.048071</td>\n",
       "      <td>-0.362378</td>\n",
       "      <td>-10.699174</td>\n",
       "      <td>-22.699791</td>\n",
       "      <td>-1.561262</td>\n",
       "      <td>...</td>\n",
       "      <td>-7.340866</td>\n",
       "      <td>0.267735</td>\n",
       "      <td>1.081311</td>\n",
       "      <td>-15.236885</td>\n",
       "      <td>1.159306</td>\n",
       "      <td>-27.961682</td>\n",
       "      <td>11.829013</td>\n",
       "      <td>43.295583</td>\n",
       "      <td>-0.880307</td>\n",
       "      <td>-4.518688</td>\n",
       "    </tr>\n",
       "    <tr>\n",
       "      <th>1</th>\n",
       "      <td>-29.662621</td>\n",
       "      <td>24.320711</td>\n",
       "      <td>-48.205182</td>\n",
       "      <td>1.430339</td>\n",
       "      <td>-6.552206</td>\n",
       "      <td>4.263074</td>\n",
       "      <td>6.551412</td>\n",
       "      <td>4.265483</td>\n",
       "      <td>1.245095</td>\n",
       "      <td>2.246814</td>\n",
       "      <td>...</td>\n",
       "      <td>0.042640</td>\n",
       "      <td>2.354558</td>\n",
       "      <td>-8.940383</td>\n",
       "      <td>19.741290</td>\n",
       "      <td>17.559436</td>\n",
       "      <td>9.841718</td>\n",
       "      <td>-12.457077</td>\n",
       "      <td>15.719526</td>\n",
       "      <td>8.212825</td>\n",
       "      <td>1.067061</td>\n",
       "    </tr>\n",
       "    <tr>\n",
       "      <th>2</th>\n",
       "      <td>15.493759</td>\n",
       "      <td>-66.160459</td>\n",
       "      <td>50.512903</td>\n",
       "      <td>-2.265792</td>\n",
       "      <td>14.428578</td>\n",
       "      <td>2.509323</td>\n",
       "      <td>-6.707536</td>\n",
       "      <td>3.820842</td>\n",
       "      <td>-11.100833</td>\n",
       "      <td>-1.459825</td>\n",
       "      <td>...</td>\n",
       "      <td>1.261521</td>\n",
       "      <td>-1.797489</td>\n",
       "      <td>-0.614719</td>\n",
       "      <td>25.529246</td>\n",
       "      <td>22.418811</td>\n",
       "      <td>7.281959</td>\n",
       "      <td>51.966010</td>\n",
       "      <td>-10.832756</td>\n",
       "      <td>-0.945138</td>\n",
       "      <td>-0.246806</td>\n",
       "    </tr>\n",
       "    <tr>\n",
       "      <th>3</th>\n",
       "      <td>-19.837651</td>\n",
       "      <td>33.210943</td>\n",
       "      <td>53.405563</td>\n",
       "      <td>1.079462</td>\n",
       "      <td>11.364251</td>\n",
       "      <td>-1.064581</td>\n",
       "      <td>9.308857</td>\n",
       "      <td>9.266076</td>\n",
       "      <td>14.552959</td>\n",
       "      <td>-2.012755</td>\n",
       "      <td>...</td>\n",
       "      <td>-8.126781</td>\n",
       "      <td>2.058786</td>\n",
       "      <td>5.796101</td>\n",
       "      <td>53.029270</td>\n",
       "      <td>-16.178983</td>\n",
       "      <td>13.823307</td>\n",
       "      <td>30.155518</td>\n",
       "      <td>12.922670</td>\n",
       "      <td>6.564312</td>\n",
       "      <td>2.556431</td>\n",
       "    </tr>\n",
       "    <tr>\n",
       "      <th>4</th>\n",
       "      <td>11.896655</td>\n",
       "      <td>-26.717872</td>\n",
       "      <td>-17.758176</td>\n",
       "      <td>1.692017</td>\n",
       "      <td>21.553537</td>\n",
       "      <td>-5.852097</td>\n",
       "      <td>-0.857435</td>\n",
       "      <td>-2.186940</td>\n",
       "      <td>18.075272</td>\n",
       "      <td>-1.404618</td>\n",
       "      <td>...</td>\n",
       "      <td>-5.610306</td>\n",
       "      <td>2.768667</td>\n",
       "      <td>-3.690564</td>\n",
       "      <td>1.107321</td>\n",
       "      <td>-13.783970</td>\n",
       "      <td>-4.636736</td>\n",
       "      <td>-10.493426</td>\n",
       "      <td>-21.019953</td>\n",
       "      <td>-3.156979</td>\n",
       "      <td>-1.597321</td>\n",
       "    </tr>\n",
       "  </tbody>\n",
       "</table>\n",
       "<p>5 rows × 25 columns</p>\n",
       "</div>"
      ],
      "text/plain": [
       "          x0         x1         x2        x3         x4         x5        x6  \\\n",
       "0   0.198560  74.425320  67.627745 -3.095111  -6.822327  19.048071 -0.362378   \n",
       "1 -29.662621  24.320711 -48.205182  1.430339  -6.552206   4.263074  6.551412   \n",
       "2  15.493759 -66.160459  50.512903 -2.265792  14.428578   2.509323 -6.707536   \n",
       "3 -19.837651  33.210943  53.405563  1.079462  11.364251  -1.064581  9.308857   \n",
       "4  11.896655 -26.717872 -17.758176  1.692017  21.553537  -5.852097 -0.857435   \n",
       "\n",
       "          x7         x8        x9    ...          x15       x16       x17  \\\n",
       "0 -10.699174 -22.699791 -1.561262    ...    -7.340866  0.267735  1.081311   \n",
       "1   4.265483   1.245095  2.246814    ...     0.042640  2.354558 -8.940383   \n",
       "2   3.820842 -11.100833 -1.459825    ...     1.261521 -1.797489 -0.614719   \n",
       "3   9.266076  14.552959 -2.012755    ...    -8.126781  2.058786  5.796101   \n",
       "4  -2.186940  18.075272 -1.404618    ...    -5.610306  2.768667 -3.690564   \n",
       "\n",
       "         x18        x19        x20        x21        x22       x23       x24  \n",
       "0 -15.236885   1.159306 -27.961682  11.829013  43.295583 -0.880307 -4.518688  \n",
       "1  19.741290  17.559436   9.841718 -12.457077  15.719526  8.212825  1.067061  \n",
       "2  25.529246  22.418811   7.281959  51.966010 -10.832756 -0.945138 -0.246806  \n",
       "3  53.029270 -16.178983  13.823307  30.155518  12.922670  6.564312  2.556431  \n",
       "4   1.107321 -13.783970  -4.636736 -10.493426 -21.019953 -3.156979 -1.597321  \n",
       "\n",
       "[5 rows x 25 columns]"
      ]
     },
     "execution_count": 95,
     "metadata": {},
     "output_type": "execute_result"
    }
   ],
   "source": [
    "float_types.iloc[:,:25].head()"
   ]
  },
  {
   "cell_type": "code",
   "execution_count": 96,
   "metadata": {},
   "outputs": [
    {
     "data": {
      "image/png": "[encoded data removed]",
      "text/plain": [
       "<Figure size 432x288 with 25 Axes>"
      ]
     },
     "metadata": {
      "needs_background": "light"
     },
     "output_type": "display_data"
    }
   ],
   "source": [
    "#Data Visualizations\n",
    "#histograms\n",
    "float_types.iloc[:,:25].hist()\n",
    "pyplot.show()\n",
    "# scatter plot matrix\n",
    "#scatter_matrix(float_types)\n",
    "#pyplot.show()\n",
    "# First 25 Show paramtric distributions"
   ]
  },
  {
   "cell_type": "code",
   "execution_count": 97,
   "metadata": {},
   "outputs": [
    {
     "data": {
      "image/png": "[encoded data removed]",
      "text/plain": [
       "<Figure size 432x288 with 30 Axes>"
      ]
     },
     "metadata": {
      "needs_background": "light"
     },
     "output_type": "display_data"
    }
   ],
   "source": [
    "#Data Visualizations\n",
    "#histograms\n",
    "float_types.iloc[:,25:51].hist()\n",
    "pyplot.show()\n",
    "# scatter plot matrix\n",
    "#scatter_matrix(float_types)\n",
    "#pyplot.show()\n",
    "#2nd 25 Show paramtric distributions"
   ]
  },
  {
   "cell_type": "code",
   "execution_count": 99,
   "metadata": {},
   "outputs": [
    {
     "data": {
      "image/png": "[encoded data removed]",
      "text/plain": [
       "<Figure size 432x288 with 25 Axes>"
      ]
     },
     "metadata": {
      "needs_background": "light"
     },
     "output_type": "display_data"
    }
   ],
   "source": [
    "#Data Visualizations\n",
    "#histograms\n",
    "float_types.iloc[:,51:76].hist()\n",
    "pyplot.show()\n",
    "# scatter plot matrix\n",
    "#scatter_matrix(float_types)\n",
    "#pyplot.show()\n",
    "#3rd 25 Show paramtric distributions"
   ]
  },
  {
   "cell_type": "code",
   "execution_count": 100,
   "metadata": {},
   "outputs": [
    {
     "data": {
      "image/png": "[encoded data removed]",
      "text/plain": [
       "<Figure size 432x288 with 20 Axes>"
      ]
     },
     "metadata": {
      "needs_background": "light"
     },
     "output_type": "display_data"
    }
   ],
   "source": [
    "#Data Visualizations\n",
    "#histograms\n",
    "float_types.iloc[:,76:].hist()\n",
    "pyplot.show()\n",
    "# scatter plot matrix\n",
    "#scatter_matrix(float_types)\n",
    "#pyplot.show()\n",
    "#final batch Show paramtric distributions"
   ]
  },
  {
   "cell_type": "code",
   "execution_count": 109,
   "metadata": {},
   "outputs": [],
   "source": [
    "#from pandas.tools.plotting import scatter_matrix\n",
    "from pandas.plotting import scatter_matrix as scatter"
   ]
  },
  {
   "cell_type": "code",
   "execution_count": 102,
   "metadata": {},
   "outputs": [],
   "source": [
    "#float_types.columns"
   ]
  },
  {
   "cell_type": "markdown",
   "metadata": {},
   "source": [
    "Given that all columns show parametric distributions, I applied zscore in finding outliers"
   ]
  },
  {
   "cell_type": "code",
   "execution_count": 122,
   "metadata": {},
   "outputs": [],
   "source": [
    "#float_types['x99']"
   ]
  },
  {
   "cell_type": "code",
   "execution_count": 106,
   "metadata": {},
   "outputs": [
    {
     "data": {
      "text/html": [
       "<div>\n",
       "<style scoped>\n",
       "    .dataframe tbody tr th:only-of-type {\n",
       "        vertical-align: middle;\n",
       "    }\n",
       "\n",
       "    .dataframe tbody tr th {\n",
       "        vertical-align: top;\n",
       "    }\n",
       "\n",
       "    .dataframe thead th {\n",
       "        text-align: right;\n",
       "    }\n",
       "</style>\n",
       "<table border=\"1\" class=\"dataframe\">\n",
       "  <thead>\n",
       "    <tr style=\"text-align: right;\">\n",
       "      <th></th>\n",
       "      <th>x0</th>\n",
       "      <th>x1</th>\n",
       "      <th>x2</th>\n",
       "      <th>x3</th>\n",
       "      <th>x4</th>\n",
       "      <th>x5</th>\n",
       "      <th>x6</th>\n",
       "      <th>x7</th>\n",
       "      <th>x8</th>\n",
       "      <th>x9</th>\n",
       "      <th>...</th>\n",
       "      <th>x90</th>\n",
       "      <th>x91</th>\n",
       "      <th>x92</th>\n",
       "      <th>x94</th>\n",
       "      <th>x95</th>\n",
       "      <th>x96</th>\n",
       "      <th>x97</th>\n",
       "      <th>x98</th>\n",
       "      <th>x99</th>\n",
       "      <th>zscore</th>\n",
       "    </tr>\n",
       "  </thead>\n",
       "  <tbody>\n",
       "    <tr>\n",
       "      <th>count</th>\n",
       "      <td>39182.000000</td>\n",
       "      <td>39182.000000</td>\n",
       "      <td>39182.000000</td>\n",
       "      <td>39182.000000</td>\n",
       "      <td>39182.000000</td>\n",
       "      <td>39182.000000</td>\n",
       "      <td>39182.000000</td>\n",
       "      <td>39182.000000</td>\n",
       "      <td>39182.000000</td>\n",
       "      <td>39182.000000</td>\n",
       "      <td>...</td>\n",
       "      <td>39182.000000</td>\n",
       "      <td>39182.000000</td>\n",
       "      <td>39182.000000</td>\n",
       "      <td>39182.000000</td>\n",
       "      <td>39182.000000</td>\n",
       "      <td>39182.000000</td>\n",
       "      <td>39182.000000</td>\n",
       "      <td>39182.000000</td>\n",
       "      <td>39182.000000</td>\n",
       "      <td>3.918200e+04</td>\n",
       "    </tr>\n",
       "    <tr>\n",
       "      <th>mean</th>\n",
       "      <td>3.449241</td>\n",
       "      <td>-7.804870</td>\n",
       "      <td>1.713236</td>\n",
       "      <td>-0.073733</td>\n",
       "      <td>0.133611</td>\n",
       "      <td>-0.614352</td>\n",
       "      <td>0.040018</td>\n",
       "      <td>-0.053879</td>\n",
       "      <td>-2.913257</td>\n",
       "      <td>-0.022921</td>\n",
       "      <td>...</td>\n",
       "      <td>-9.117386</td>\n",
       "      <td>-0.001451</td>\n",
       "      <td>-0.004901</td>\n",
       "      <td>-0.014700</td>\n",
       "      <td>-0.106153</td>\n",
       "      <td>-0.836994</td>\n",
       "      <td>-2.538000</td>\n",
       "      <td>0.053037</td>\n",
       "      <td>0.043160</td>\n",
       "      <td>1.966451e-17</td>\n",
       "    </tr>\n",
       "    <tr>\n",
       "      <th>std</th>\n",
       "      <td>16.239205</td>\n",
       "      <td>37.011629</td>\n",
       "      <td>38.387685</td>\n",
       "      <td>1.504220</td>\n",
       "      <td>16.286201</td>\n",
       "      <td>15.586373</td>\n",
       "      <td>9.045815</td>\n",
       "      <td>6.948283</td>\n",
       "      <td>13.142383</td>\n",
       "      <td>2.939357</td>\n",
       "      <td>...</td>\n",
       "      <td>96.689524</td>\n",
       "      <td>2.628554</td>\n",
       "      <td>4.606942</td>\n",
       "      <td>2.164805</td>\n",
       "      <td>27.534484</td>\n",
       "      <td>23.832197</td>\n",
       "      <td>18.554920</td>\n",
       "      <td>8.450041</td>\n",
       "      <td>1.115332</td>\n",
       "      <td>1.000013e+00</td>\n",
       "    </tr>\n",
       "    <tr>\n",
       "      <th>min</th>\n",
       "      <td>-60.113902</td>\n",
       "      <td>-157.341119</td>\n",
       "      <td>-163.339956</td>\n",
       "      <td>-6.276969</td>\n",
       "      <td>-61.632319</td>\n",
       "      <td>-62.808995</td>\n",
       "      <td>-35.060656</td>\n",
       "      <td>-26.736717</td>\n",
       "      <td>-53.735586</td>\n",
       "      <td>-11.497395</td>\n",
       "      <td>...</td>\n",
       "      <td>-422.711982</td>\n",
       "      <td>-10.179216</td>\n",
       "      <td>-20.044113</td>\n",
       "      <td>-9.396153</td>\n",
       "      <td>-125.064735</td>\n",
       "      <td>-108.474714</td>\n",
       "      <td>-73.908741</td>\n",
       "      <td>-35.416133</td>\n",
       "      <td>-4.376614</td>\n",
       "      <td>-3.962792e+00</td>\n",
       "    </tr>\n",
       "    <tr>\n",
       "      <th>25%</th>\n",
       "      <td>-7.593210</td>\n",
       "      <td>-32.716512</td>\n",
       "      <td>-24.156128</td>\n",
       "      <td>-1.088384</td>\n",
       "      <td>-10.888105</td>\n",
       "      <td>-11.199135</td>\n",
       "      <td>-6.084171</td>\n",
       "      <td>-4.745854</td>\n",
       "      <td>-11.722776</td>\n",
       "      <td>-2.002027</td>\n",
       "      <td>...</td>\n",
       "      <td>-73.399497</td>\n",
       "      <td>-1.777953</td>\n",
       "      <td>-3.105805</td>\n",
       "      <td>-1.490699</td>\n",
       "      <td>-18.499927</td>\n",
       "      <td>-16.858572</td>\n",
       "      <td>-15.041889</td>\n",
       "      <td>-5.635960</td>\n",
       "      <td>-0.710921</td>\n",
       "      <td>-6.761129e-01</td>\n",
       "    </tr>\n",
       "    <tr>\n",
       "      <th>50%</th>\n",
       "      <td>3.458413</td>\n",
       "      <td>-8.026095</td>\n",
       "      <td>1.959583</td>\n",
       "      <td>-0.062894</td>\n",
       "      <td>0.138015</td>\n",
       "      <td>-0.575871</td>\n",
       "      <td>0.043832</td>\n",
       "      <td>-0.043912</td>\n",
       "      <td>-2.960221</td>\n",
       "      <td>-0.053051</td>\n",
       "      <td>...</td>\n",
       "      <td>-6.892592</td>\n",
       "      <td>-0.018473</td>\n",
       "      <td>-0.003659</td>\n",
       "      <td>-0.013689</td>\n",
       "      <td>0.058288</td>\n",
       "      <td>-0.680395</td>\n",
       "      <td>-2.526155</td>\n",
       "      <td>0.051164</td>\n",
       "      <td>0.041732</td>\n",
       "      <td>-1.280126e-03</td>\n",
       "    </tr>\n",
       "    <tr>\n",
       "      <th>75%</th>\n",
       "      <td>14.267872</td>\n",
       "      <td>16.793057</td>\n",
       "      <td>27.517244</td>\n",
       "      <td>0.940109</td>\n",
       "      <td>11.095779</td>\n",
       "      <td>9.962899</td>\n",
       "      <td>6.101419</td>\n",
       "      <td>4.635347</td>\n",
       "      <td>5.844992</td>\n",
       "      <td>1.959467</td>\n",
       "      <td>...</td>\n",
       "      <td>56.625317</td>\n",
       "      <td>1.761148</td>\n",
       "      <td>3.100599</td>\n",
       "      <td>1.446040</td>\n",
       "      <td>18.527298</td>\n",
       "      <td>15.248345</td>\n",
       "      <td>9.864689</td>\n",
       "      <td>5.746475</td>\n",
       "      <td>0.797410</td>\n",
       "      <td>6.762643e-01</td>\n",
       "    </tr>\n",
       "    <tr>\n",
       "      <th>max</th>\n",
       "      <td>75.311659</td>\n",
       "      <td>153.469221</td>\n",
       "      <td>154.051060</td>\n",
       "      <td>5.837559</td>\n",
       "      <td>65.949709</td>\n",
       "      <td>63.424046</td>\n",
       "      <td>45.053946</td>\n",
       "      <td>34.267792</td>\n",
       "      <td>66.936936</td>\n",
       "      <td>11.271939</td>\n",
       "      <td>...</td>\n",
       "      <td>378.752405</td>\n",
       "      <td>11.295740</td>\n",
       "      <td>19.414284</td>\n",
       "      <td>9.136848</td>\n",
       "      <td>112.390710</td>\n",
       "      <td>92.926545</td>\n",
       "      <td>76.120119</td>\n",
       "      <td>34.170189</td>\n",
       "      <td>4.490209</td>\n",
       "      <td>3.987247e+00</td>\n",
       "    </tr>\n",
       "  </tbody>\n",
       "</table>\n",
       "<p>8 rows × 97 columns</p>\n",
       "</div>"
      ],
      "text/plain": [
       "                 x0            x1            x2            x3            x4  \\\n",
       "count  39182.000000  39182.000000  39182.000000  39182.000000  39182.000000   \n",
       "mean       3.449241     -7.804870      1.713236     -0.073733      0.133611   \n",
       "std       16.239205     37.011629     38.387685      1.504220     16.286201   \n",
       "min      -60.113902   -157.341119   -163.339956     -6.276969    -61.632319   \n",
       "25%       -7.593210    -32.716512    -24.156128     -1.088384    -10.888105   \n",
       "50%        3.458413     -8.026095      1.959583     -0.062894      0.138015   \n",
       "75%       14.267872     16.793057     27.517244      0.940109     11.095779   \n",
       "max       75.311659    153.469221    154.051060      5.837559     65.949709   \n",
       "\n",
       "                 x5            x6            x7            x8            x9  \\\n",
       "count  39182.000000  39182.000000  39182.000000  39182.000000  39182.000000   \n",
       "mean      -0.614352      0.040018     -0.053879     -2.913257     -0.022921   \n",
       "std       15.586373      9.045815      6.948283     13.142383      2.939357   \n",
       "min      -62.808995    -35.060656    -26.736717    -53.735586    -11.497395   \n",
       "25%      -11.199135     -6.084171     -4.745854    -11.722776     -2.002027   \n",
       "50%       -0.575871      0.043832     -0.043912     -2.960221     -0.053051   \n",
       "75%        9.962899      6.101419      4.635347      5.844992      1.959467   \n",
       "max       63.424046     45.053946     34.267792     66.936936     11.271939   \n",
       "\n",
       "           ...                x90           x91           x92           x94  \\\n",
       "count      ...       39182.000000  39182.000000  39182.000000  39182.000000   \n",
       "mean       ...          -9.117386     -0.001451     -0.004901     -0.014700   \n",
       "std        ...          96.689524      2.628554      4.606942      2.164805   \n",
       "min        ...        -422.711982    -10.179216    -20.044113     -9.396153   \n",
       "25%        ...         -73.399497     -1.777953     -3.105805     -1.490699   \n",
       "50%        ...          -6.892592     -0.018473     -0.003659     -0.013689   \n",
       "75%        ...          56.625317      1.761148      3.100599      1.446040   \n",
       "max        ...         378.752405     11.295740     19.414284      9.136848   \n",
       "\n",
       "                x95           x96           x97           x98           x99  \\\n",
       "count  39182.000000  39182.000000  39182.000000  39182.000000  39182.000000   \n",
       "mean      -0.106153     -0.836994     -2.538000      0.053037      0.043160   \n",
       "std       27.534484     23.832197     18.554920      8.450041      1.115332   \n",
       "min     -125.064735   -108.474714    -73.908741    -35.416133     -4.376614   \n",
       "25%      -18.499927    -16.858572    -15.041889     -5.635960     -0.710921   \n",
       "50%        0.058288     -0.680395     -2.526155      0.051164      0.041732   \n",
       "75%       18.527298     15.248345      9.864689      5.746475      0.797410   \n",
       "max      112.390710     92.926545     76.120119     34.170189      4.490209   \n",
       "\n",
       "             zscore  \n",
       "count  3.918200e+04  \n",
       "mean   1.966451e-17  \n",
       "std    1.000013e+00  \n",
       "min   -3.962792e+00  \n",
       "25%   -6.761129e-01  \n",
       "50%   -1.280126e-03  \n",
       "75%    6.762643e-01  \n",
       "max    3.987247e+00  \n",
       "\n",
       "[8 rows x 97 columns]"
      ]
     },
     "execution_count": 106,
     "metadata": {},
     "output_type": "execute_result"
    }
   ],
   "source": [
    "float_types.describe()"
   ]
  },
  {
   "cell_type": "code",
   "execution_count": null,
   "metadata": {},
   "outputs": [],
   "source": []
  },
  {
   "cell_type": "code",
   "execution_count": 127,
   "metadata": {},
   "outputs": [
    {
     "data": {
      "text/plain": [
       "'\\'#Using Z-score\\noutlier = lambda x: x <= -3 or x >= 3\\nfrom scipy.stats import zscore\\ncols = list(float_types.columns)\\nfloat_types[\"zscore\"] = zscore(float_types[\\'x99\\'])\\nfloat_types[\\'is_outlier\\'] = float_types[\\'zscore\\'].apply(outlier)\\nfloat_types[float_types[\"is_outlier\"]]'"
      ]
     },
     "execution_count": 127,
     "metadata": {},
     "output_type": "execute_result"
    }
   ],
   "source": [
    "''''#Using Z-score\n",
    "outlier = lambda x: x <= -3 or x >= 3\n",
    "from scipy.stats import zscore\n",
    "cols = list(float_types.columns)\n",
    "float_types[\"zscore\"] = zscore(float_types['x99'])\n",
    "float_types['is_outlier'] = float_types['zscore'].apply(outlier)\n",
    "float_types[float_types[\"is_outlier\"]]'''"
   ]
  },
  {
   "cell_type": "code",
   "execution_count": 118,
   "metadata": {},
   "outputs": [
    {
     "data": {
      "text/plain": [
       "Int64Index([0, 1, 2], dtype='int64')"
      ]
     },
     "execution_count": 118,
     "metadata": {},
     "output_type": "execute_result"
    }
   ],
   "source": [
    "#float_types.drop(['zscore','is_outlier'], axis = 1, inplace = True)\n",
    "float_types.head(3).index"
   ]
  },
  {
   "cell_type": "code",
   "execution_count": 123,
   "metadata": {},
   "outputs": [],
   "source": [
    "float_types = df.select_dtypes(include = ['float']).copy()#Get only the float d_tyes "
   ]
  },
  {
   "cell_type": "code",
   "execution_count": 124,
   "metadata": {},
   "outputs": [
    {
     "data": {
      "text/plain": [
       "(39182, 96)"
      ]
     },
     "execution_count": 124,
     "metadata": {},
     "output_type": "execute_result"
    }
   ],
   "source": [
    "float_types.shape"
   ]
  },
  {
   "cell_type": "code",
   "execution_count": 125,
   "metadata": {},
   "outputs": [],
   "source": [
    "#Using Z-score\n",
    "outlier = lambda x: x <= -3 or x >= 3#Take out any data point greater from the 3rd standard dev\n",
    "from scipy.stats import zscore\n",
    "cols = list(float_types.columns)\n",
    "for col in cols:\n",
    "    float_types[\"zscore\"] = zscore(float_types[col])\n",
    "    float_types['is_outlier'] = float_types['zscore'].apply(outlier)\n",
    "    out_ind = list(float_types[float_types[\"is_outlier\"]].index)\n",
    "    float_types.drop(out_ind, axis = 0, inplace = True)\n",
    "    float_types.drop(['zscore','is_outlier'], axis = 1, inplace = True)"
   ]
  },
  {
   "cell_type": "code",
   "execution_count": 126,
   "metadata": {},
   "outputs": [
    {
     "data": {
      "text/plain": [
       "(30131, 96)"
      ]
     },
     "execution_count": 126,
     "metadata": {},
     "output_type": "execute_result"
    }
   ],
   "source": [
    "float_types.shape"
   ]
  },
  {
   "cell_type": "code",
   "execution_count": 130,
   "metadata": {},
   "outputs": [],
   "source": [
    "#index of all cleaned \n",
    "indices = list(float_types.index)"
   ]
  },
  {
   "cell_type": "code",
   "execution_count": 132,
   "metadata": {},
   "outputs": [],
   "source": [
    "#New cleaned dataframe\n",
    "new_df = df[df.index.isin(indices)]"
   ]
  },
  {
   "cell_type": "code",
   "execution_count": 134,
   "metadata": {},
   "outputs": [
    {
     "data": {
      "text/plain": [
       "(30131, 101)"
      ]
     },
     "execution_count": 134,
     "metadata": {},
     "output_type": "execute_result"
    }
   ],
   "source": [
    "new_df.shape"
   ]
  },
  {
   "cell_type": "code",
   "execution_count": 210,
   "metadata": {},
   "outputs": [],
   "source": [
    "new_df.to_csv('NewCleanDF.csv', index = False)#Saved the new cleaned dataframe"
   ]
  },
  {
   "cell_type": "code",
   "execution_count": 139,
   "metadata": {},
   "outputs": [],
   "source": [
    "#Split into dependent and independent variables\n",
    "X = new_df.iloc[:,:100].values\n",
    "y = new_df.iloc[:,100].values"
   ]
  },
  {
   "cell_type": "code",
   "execution_count": 140,
   "metadata": {},
   "outputs": [
    {
     "data": {
      "text/plain": [
       "30131"
      ]
     },
     "execution_count": 140,
     "metadata": {},
     "output_type": "execute_result"
    }
   ],
   "source": [
    "len(y)"
   ]
  },
  {
   "cell_type": "code",
   "execution_count": 145,
   "metadata": {},
   "outputs": [
    {
     "data": {
      "text/html": [
       "<div>\n",
       "<style scoped>\n",
       "    .dataframe tbody tr th:only-of-type {\n",
       "        vertical-align: middle;\n",
       "    }\n",
       "\n",
       "    .dataframe tbody tr th {\n",
       "        vertical-align: top;\n",
       "    }\n",
       "\n",
       "    .dataframe thead th {\n",
       "        text-align: right;\n",
       "    }\n",
       "</style>\n",
       "<table border=\"1\" class=\"dataframe\">\n",
       "  <thead>\n",
       "    <tr style=\"text-align: right;\">\n",
       "      <th></th>\n",
       "      <th>x0</th>\n",
       "      <th>x1</th>\n",
       "      <th>x2</th>\n",
       "      <th>x3</th>\n",
       "      <th>x4</th>\n",
       "      <th>x5</th>\n",
       "      <th>x6</th>\n",
       "      <th>x7</th>\n",
       "      <th>x8</th>\n",
       "      <th>x9</th>\n",
       "      <th>...</th>\n",
       "      <th>x91</th>\n",
       "      <th>x92</th>\n",
       "      <th>x93</th>\n",
       "      <th>x94</th>\n",
       "      <th>x95</th>\n",
       "      <th>x96</th>\n",
       "      <th>x97</th>\n",
       "      <th>x98</th>\n",
       "      <th>x99</th>\n",
       "      <th>y</th>\n",
       "    </tr>\n",
       "  </thead>\n",
       "  <tbody>\n",
       "    <tr>\n",
       "      <th>0</th>\n",
       "      <td>0.198560</td>\n",
       "      <td>74.425320</td>\n",
       "      <td>67.627745</td>\n",
       "      <td>-3.095111</td>\n",
       "      <td>-6.822327</td>\n",
       "      <td>19.048071</td>\n",
       "      <td>-0.362378</td>\n",
       "      <td>-10.699174</td>\n",
       "      <td>-22.699791</td>\n",
       "      <td>-1.561262</td>\n",
       "      <td>...</td>\n",
       "      <td>0.800948</td>\n",
       "      <td>1.553846</td>\n",
       "      <td>asia</td>\n",
       "      <td>-1.093926</td>\n",
       "      <td>16.202557</td>\n",
       "      <td>26.238591</td>\n",
       "      <td>-2.125570</td>\n",
       "      <td>9.644466</td>\n",
       "      <td>1.237667</td>\n",
       "      <td>0</td>\n",
       "    </tr>\n",
       "    <tr>\n",
       "      <th>1</th>\n",
       "      <td>-29.662621</td>\n",
       "      <td>24.320711</td>\n",
       "      <td>-48.205182</td>\n",
       "      <td>1.430339</td>\n",
       "      <td>-6.552206</td>\n",
       "      <td>4.263074</td>\n",
       "      <td>6.551412</td>\n",
       "      <td>4.265483</td>\n",
       "      <td>1.245095</td>\n",
       "      <td>2.246814</td>\n",
       "      <td>...</td>\n",
       "      <td>2.031707</td>\n",
       "      <td>7.544422</td>\n",
       "      <td>asia</td>\n",
       "      <td>-3.659541</td>\n",
       "      <td>29.674259</td>\n",
       "      <td>-15.141647</td>\n",
       "      <td>-36.030599</td>\n",
       "      <td>5.820376</td>\n",
       "      <td>1.952183</td>\n",
       "      <td>1</td>\n",
       "    </tr>\n",
       "  </tbody>\n",
       "</table>\n",
       "<p>2 rows × 101 columns</p>\n",
       "</div>"
      ],
      "text/plain": [
       "          x0         x1         x2        x3        x4         x5        x6  \\\n",
       "0   0.198560  74.425320  67.627745 -3.095111 -6.822327  19.048071 -0.362378   \n",
       "1 -29.662621  24.320711 -48.205182  1.430339 -6.552206   4.263074  6.551412   \n",
       "\n",
       "          x7         x8        x9 ...       x91       x92   x93       x94  \\\n",
       "0 -10.699174 -22.699791 -1.561262 ...  0.800948  1.553846  asia -1.093926   \n",
       "1   4.265483   1.245095  2.246814 ...  2.031707  7.544422  asia -3.659541   \n",
       "\n",
       "         x95        x96        x97       x98       x99  y  \n",
       "0  16.202557  26.238591  -2.125570  9.644466  1.237667  0  \n",
       "1  29.674259 -15.141647 -36.030599  5.820376  1.952183  1  \n",
       "\n",
       "[2 rows x 101 columns]"
      ]
     },
     "execution_count": 145,
     "metadata": {},
     "output_type": "execute_result"
    }
   ],
   "source": [
    "new_df.head(2)"
   ]
  },
  {
   "cell_type": "code",
   "execution_count": 146,
   "metadata": {},
   "outputs": [],
   "source": [
    "obj_types1 = new_df.select_dtypes(include = ['object']).copy()"
   ]
  },
  {
   "cell_type": "code",
   "execution_count": 147,
   "metadata": {},
   "outputs": [
    {
     "data": {
      "text/html": [
       "<div>\n",
       "<style scoped>\n",
       "    .dataframe tbody tr th:only-of-type {\n",
       "        vertical-align: middle;\n",
       "    }\n",
       "\n",
       "    .dataframe tbody tr th {\n",
       "        vertical-align: top;\n",
       "    }\n",
       "\n",
       "    .dataframe thead th {\n",
       "        text-align: right;\n",
       "    }\n",
       "</style>\n",
       "<table border=\"1\" class=\"dataframe\">\n",
       "  <thead>\n",
       "    <tr style=\"text-align: right;\">\n",
       "      <th></th>\n",
       "      <th>x34</th>\n",
       "      <th>x35</th>\n",
       "      <th>x68</th>\n",
       "      <th>x93</th>\n",
       "    </tr>\n",
       "  </thead>\n",
       "  <tbody>\n",
       "    <tr>\n",
       "      <th>0</th>\n",
       "      <td>Toyota</td>\n",
       "      <td>wednesday</td>\n",
       "      <td>Jun</td>\n",
       "      <td>asia</td>\n",
       "    </tr>\n",
       "    <tr>\n",
       "      <th>1</th>\n",
       "      <td>Honda</td>\n",
       "      <td>wednesday</td>\n",
       "      <td>sept.</td>\n",
       "      <td>asia</td>\n",
       "    </tr>\n",
       "    <tr>\n",
       "      <th>2</th>\n",
       "      <td>bmw</td>\n",
       "      <td>wednesday</td>\n",
       "      <td>Oct</td>\n",
       "      <td>america</td>\n",
       "    </tr>\n",
       "    <tr>\n",
       "      <th>3</th>\n",
       "      <td>volkswagon</td>\n",
       "      <td>wednesday</td>\n",
       "      <td>Jun</td>\n",
       "      <td>asia</td>\n",
       "    </tr>\n",
       "    <tr>\n",
       "      <th>4</th>\n",
       "      <td>volkswagon</td>\n",
       "      <td>thursday</td>\n",
       "      <td>July</td>\n",
       "      <td>asia</td>\n",
       "    </tr>\n",
       "  </tbody>\n",
       "</table>\n",
       "</div>"
      ],
      "text/plain": [
       "          x34        x35    x68      x93\n",
       "0      Toyota  wednesday    Jun     asia\n",
       "1       Honda  wednesday  sept.     asia\n",
       "2         bmw  wednesday    Oct  america\n",
       "3  volkswagon  wednesday    Jun     asia\n",
       "4  volkswagon   thursday   July     asia"
      ]
     },
     "execution_count": 147,
     "metadata": {},
     "output_type": "execute_result"
    }
   ],
   "source": [
    "obj_types1.head()"
   ]
  },
  {
   "cell_type": "code",
   "execution_count": 162,
   "metadata": {},
   "outputs": [
    {
     "data": {
      "text/plain": [
       "asia       26672\n",
       "america     2358\n",
       "euorpe      1101\n",
       "Name: x93, dtype: int64"
      ]
     },
     "execution_count": 162,
     "metadata": {},
     "output_type": "execute_result"
    }
   ],
   "source": [
    "obj_types1['x93'].value_counts()"
   ]
  },
  {
   "cell_type": "code",
   "execution_count": null,
   "metadata": {},
   "outputs": [],
   "source": []
  },
  {
   "cell_type": "code",
   "execution_count": null,
   "metadata": {},
   "outputs": [],
   "source": []
  },
  {
   "cell_type": "markdown",
   "metadata": {},
   "source": [
    "### 2.  Feature Engineering"
   ]
  },
  {
   "cell_type": "code",
   "execution_count": null,
   "metadata": {},
   "outputs": [],
   "source": [
    "#Indices of categorical variables: 34-x34, 35-x35,..."
   ]
  },
  {
   "cell_type": "code",
   "execution_count": 153,
   "metadata": {},
   "outputs": [
    {
     "data": {
      "text/plain": [
       "'asia'"
      ]
     },
     "execution_count": 153,
     "metadata": {},
     "output_type": "execute_result"
    }
   ],
   "source": [
    "new_df.iloc[0,93]"
   ]
  },
  {
   "cell_type": "code",
   "execution_count": 158,
   "metadata": {},
   "outputs": [
    {
     "data": {
      "text/plain": [
       "30131"
      ]
     },
     "execution_count": 158,
     "metadata": {},
     "output_type": "execute_result"
    }
   ],
   "source": [
    "len(X)"
   ]
  },
  {
   "cell_type": "code",
   "execution_count": 159,
   "metadata": {},
   "outputs": [
    {
     "data": {
      "text/plain": [
       "array(['asia', 'asia', 'america', ..., 'asia', 'asia', 'asia'],\n",
       "      dtype=object)"
      ]
     },
     "execution_count": 159,
     "metadata": {},
     "output_type": "execute_result"
    }
   ],
   "source": [
    "X[:,93]"
   ]
  },
  {
   "cell_type": "code",
   "execution_count": 160,
   "metadata": {},
   "outputs": [],
   "source": [
    "# Encoding categorical data\n",
    "from sklearn.preprocessing import LabelEncoder, OneHotEncoder\n",
    "labelencoder_X_1 = LabelEncoder()\n",
    "X[:, 34] = labelencoder_X_1.fit_transform(X[:, 34])\n",
    "labelencoder_X_2 = LabelEncoder()\n",
    "X[:, 35] = labelencoder_X_2.fit_transform(X[:, 35])\n",
    "labelencoder_X_3 = LabelEncoder()\n",
    "X[:, 68] = labelencoder_X_3.fit_transform(X[:, 68])\n",
    "labelencoder_X_4 = LabelEncoder()\n",
    "X[:, 93] = labelencoder_X_4.fit_transform(X[:, 93])"
   ]
  },
  {
   "cell_type": "code",
   "execution_count": 164,
   "metadata": {},
   "outputs": [
    {
     "data": {
      "text/plain": [
       "{0, 1, 2}"
      ]
     },
     "execution_count": 164,
     "metadata": {},
     "output_type": "execute_result"
    }
   ],
   "source": [
    "set(X[:,93])#Check to see some results"
   ]
  },
  {
   "cell_type": "code",
   "execution_count": 171,
   "metadata": {},
   "outputs": [
    {
     "name": "stderr",
     "output_type": "stream",
     "text": [
      "C:\\Users\\chiji\\AppData\\Local\\Continuum\\anaconda3\\lib\\site-packages\\sklearn\\preprocessing\\_encoders.py:368: FutureWarning: The handling of integer data will change in version 0.22. Currently, the categories are determined based on the range [0, max(values)], while in the future they will be determined based on the unique values.\n",
      "If you want the future behaviour and silence this warning, you can specify \"categories='auto'\".\n",
      "In case you used a LabelEncoder before this OneHotEncoder to convert the categories to integers, then you can now use the OneHotEncoder directly.\n",
      "  warnings.warn(msg, FutureWarning)\n",
      "C:\\Users\\chiji\\AppData\\Local\\Continuum\\anaconda3\\lib\\site-packages\\sklearn\\preprocessing\\_encoders.py:390: DeprecationWarning: The 'categorical_features' keyword is deprecated in version 0.20 and will be removed in 0.22. You can use the ColumnTransformer instead.\n",
      "  \"use the ColumnTransformer instead.\", DeprecationWarning)\n"
     ]
    }
   ],
   "source": [
    "onehotencoder = OneHotEncoder(categorical_features = [34,35,68,93])\n",
    "Xn = onehotencoder.fit_transform(X).toarray()#X encoded a Xn"
   ]
  },
  {
   "cell_type": "code",
   "execution_count": 190,
   "metadata": {},
   "outputs": [],
   "source": [
    "Xn = Xn[:,4:]#Avoiding the dummy_variable trap"
   ]
  },
  {
   "cell_type": "code",
   "execution_count": 191,
   "metadata": {},
   "outputs": [
    {
     "data": {
      "text/plain": [
       "(30131, 122)"
      ]
     },
     "execution_count": 191,
     "metadata": {},
     "output_type": "execute_result"
    }
   ],
   "source": [
    "Xn.shape"
   ]
  },
  {
   "cell_type": "code",
   "execution_count": 192,
   "metadata": {},
   "outputs": [],
   "source": [
    "# Splitting the dataset into the Training set and Test set\n",
    "from sklearn.model_selection import train_test_split\n",
    "X_train, X_test, y_train, y_test = train_test_split(Xn, y, test_size = 0.20, random_state = 0)"
   ]
  },
  {
   "cell_type": "code",
   "execution_count": null,
   "metadata": {},
   "outputs": [],
   "source": []
  },
  {
   "cell_type": "code",
   "execution_count": 671,
   "metadata": {},
   "outputs": [
    {
     "data": {
      "text/plain": [
       "(6027, 122)"
      ]
     },
     "execution_count": 671,
     "metadata": {},
     "output_type": "execute_result"
    }
   ],
   "source": [
    "X_test.shape"
   ]
  },
  {
   "cell_type": "code",
   "execution_count": 672,
   "metadata": {},
   "outputs": [
    {
     "data": {
      "text/plain": [
       "(24104, 122)"
      ]
     },
     "execution_count": 672,
     "metadata": {},
     "output_type": "execute_result"
    }
   ],
   "source": [
    "X_train.shape"
   ]
  },
  {
   "cell_type": "code",
   "execution_count": 673,
   "metadata": {},
   "outputs": [
    {
     "data": {
      "text/plain": [
       "(10000, 122)"
      ]
     },
     "execution_count": 673,
     "metadata": {},
     "output_type": "execute_result"
    }
   ],
   "source": [
    "testX.shape"
   ]
  },
  {
   "cell_type": "code",
   "execution_count": 193,
   "metadata": {},
   "outputs": [],
   "source": [
    "# Feature Scaling#UtilizedStandardScaler against RubustScaler since i have removed the outliers\n",
    "from sklearn.preprocessing import StandardScaler\n",
    "sc = StandardScaler()\n",
    "X_train_sc = sc.fit_transform(X_train)\n",
    "X_test_sc = sc.transform(X_test)"
   ]
  },
  {
   "cell_type": "code",
   "execution_count": null,
   "metadata": {},
   "outputs": [],
   "source": [
    "df.to_csv('NewTrainDF.csv', index = False)#Saved the new cleaned dataframe"
   ]
  },
  {
   "cell_type": "code",
   "execution_count": 194,
   "metadata": {},
   "outputs": [],
   "source": [
    "#Apply PrinicialComponentAnalysis in finding out the parameters that explain the most variance"
   ]
  },
  {
   "cell_type": "code",
   "execution_count": 198,
   "metadata": {},
   "outputs": [
    {
     "data": {
      "text/plain": [
       "[<matplotlib.lines.Line2D at 0x1f0854afcf8>]"
      ]
     },
     "execution_count": 198,
     "metadata": {},
     "output_type": "execute_result"
    },
    {
     "data": {
      "image/png": "[encoded data removed]",
      "text/plain": [
       "<Figure size 432x288 with 1 Axes>"
      ]
     },
     "metadata": {
      "needs_background": "light"
     },
     "output_type": "display_data"
    }
   ],
   "source": [
    "# Applying PCA\n",
    "from sklearn.decomposition import PCA\n",
    "pca = PCA(n_components = None)#Use none first to get a look at the data\n",
    "X_train_sc = pca.fit_transform(X_train_sc)\n",
    "X_test_sc = pca.transform(X_test_sc)\n",
    "explained_variance = pca.explained_variance_ratio_\n",
    "#Use this last two to visualize\n",
    "var1=np.cumsum(np.round(pca.explained_variance_ratio_, decimals=4)*100)\n",
    "plt.plot(var1)"
   ]
  },
  {
   "cell_type": "code",
   "execution_count": 199,
   "metadata": {},
   "outputs": [],
   "source": [
    "##About 115 variables explain most of the variance in the dataset."
   ]
  },
  {
   "cell_type": "code",
   "execution_count": 200,
   "metadata": {},
   "outputs": [
    {
     "data": {
      "text/plain": [
       "[<matplotlib.lines.Line2D at 0x1f085f53048>]"
      ]
     },
     "execution_count": 200,
     "metadata": {},
     "output_type": "execute_result"
    },
    {
     "data": {
      "image/png": "[encoded data removed]",
      "text/plain": [
       "<Figure size 432x288 with 1 Axes>"
      ]
     },
     "metadata": {
      "needs_background": "light"
     },
     "output_type": "display_data"
    }
   ],
   "source": [
    "# Applying PCA\n",
    "from sklearn.decomposition import PCA\n",
    "pca = PCA(n_components = 115)#Use none first to get a look at the data\n",
    "X_train_sc = pca.fit_transform(X_train_sc)\n",
    "X_test_sc = pca.transform(X_test_sc)\n",
    "explained_variance = pca.explained_variance_ratio_\n",
    "#Use this last two to visualize\n",
    "var1=np.cumsum(np.round(pca.explained_variance_ratio_, decimals=4)*100)\n",
    "plt.plot(var1)"
   ]
  },
  {
   "cell_type": "code",
   "execution_count": 680,
   "metadata": {},
   "outputs": [
    {
     "data": {
      "text/plain": [
       "(24104, 115)"
      ]
     },
     "execution_count": 680,
     "metadata": {},
     "output_type": "execute_result"
    }
   ],
   "source": [
    "X_train_sc.shape"
   ]
  },
  {
   "cell_type": "code",
   "execution_count": null,
   "metadata": {},
   "outputs": [],
   "source": []
  },
  {
   "cell_type": "markdown",
   "metadata": {},
   "source": [
    "### 3.  Building Predictive/Machine Learning Models"
   ]
  },
  {
   "cell_type": "code",
   "execution_count": 201,
   "metadata": {},
   "outputs": [],
   "source": [
    "#Lets define the cross validation metrics for defining the train and test data\n",
    "#Lets use 10-fold validation and default parameters as the scoring parameter\n",
    "num_folds = 10\n",
    "seed =7"
   ]
  },
  {
   "cell_type": "code",
   "execution_count": null,
   "metadata": {},
   "outputs": [],
   "source": []
  },
  {
   "cell_type": "code",
   "execution_count": null,
   "metadata": {},
   "outputs": [],
   "source": []
  },
  {
   "cell_type": "code",
   "execution_count": 202,
   "metadata": {},
   "outputs": [],
   "source": [
    "from sklearn.neighbors import KNeighborsClassifier\n",
    "from sklearn.linear_model import LogisticRegression\n",
    "from sklearn.ensemble import RandomForestClassifier"
   ]
  },
  {
   "cell_type": "code",
   "execution_count": 206,
   "metadata": {},
   "outputs": [],
   "source": [
    "#I chose three models to test for best performing\n",
    "models =[]\n",
    "models.append(('LR',LogisticRegression()))\n",
    "models.append(('KNN',KNeighborsClassifier(n_neighbors = 5, metric = 'minkowski', p = 2)))\n",
    "models.append(('FRST',RandomForestClassifier(n_estimators = 10, criterion = 'entropy')))"
   ]
  },
  {
   "cell_type": "code",
   "execution_count": 207,
   "metadata": {},
   "outputs": [
    {
     "name": "stderr",
     "output_type": "stream",
     "text": [
      "C:\\Users\\chiji\\AppData\\Local\\Continuum\\anaconda3\\lib\\site-packages\\sklearn\\linear_model\\logistic.py:433: FutureWarning: Default solver will be changed to 'lbfgs' in 0.22. Specify a solver to silence this warning.\n",
      "  FutureWarning)\n",
      "C:\\Users\\chiji\\AppData\\Local\\Continuum\\anaconda3\\lib\\site-packages\\sklearn\\linear_model\\logistic.py:433: FutureWarning: Default solver will be changed to 'lbfgs' in 0.22. Specify a solver to silence this warning.\n",
      "  FutureWarning)\n",
      "C:\\Users\\chiji\\AppData\\Local\\Continuum\\anaconda3\\lib\\site-packages\\sklearn\\linear_model\\logistic.py:433: FutureWarning: Default solver will be changed to 'lbfgs' in 0.22. Specify a solver to silence this warning.\n",
      "  FutureWarning)\n",
      "C:\\Users\\chiji\\AppData\\Local\\Continuum\\anaconda3\\lib\\site-packages\\sklearn\\linear_model\\logistic.py:433: FutureWarning: Default solver will be changed to 'lbfgs' in 0.22. Specify a solver to silence this warning.\n",
      "  FutureWarning)\n",
      "C:\\Users\\chiji\\AppData\\Local\\Continuum\\anaconda3\\lib\\site-packages\\sklearn\\linear_model\\logistic.py:433: FutureWarning: Default solver will be changed to 'lbfgs' in 0.22. Specify a solver to silence this warning.\n",
      "  FutureWarning)\n",
      "C:\\Users\\chiji\\AppData\\Local\\Continuum\\anaconda3\\lib\\site-packages\\sklearn\\linear_model\\logistic.py:433: FutureWarning: Default solver will be changed to 'lbfgs' in 0.22. Specify a solver to silence this warning.\n",
      "  FutureWarning)\n",
      "C:\\Users\\chiji\\AppData\\Local\\Continuum\\anaconda3\\lib\\site-packages\\sklearn\\linear_model\\logistic.py:433: FutureWarning: Default solver will be changed to 'lbfgs' in 0.22. Specify a solver to silence this warning.\n",
      "  FutureWarning)\n",
      "C:\\Users\\chiji\\AppData\\Local\\Continuum\\anaconda3\\lib\\site-packages\\sklearn\\linear_model\\logistic.py:433: FutureWarning: Default solver will be changed to 'lbfgs' in 0.22. Specify a solver to silence this warning.\n",
      "  FutureWarning)\n",
      "C:\\Users\\chiji\\AppData\\Local\\Continuum\\anaconda3\\lib\\site-packages\\sklearn\\linear_model\\logistic.py:433: FutureWarning: Default solver will be changed to 'lbfgs' in 0.22. Specify a solver to silence this warning.\n",
      "  FutureWarning)\n",
      "C:\\Users\\chiji\\AppData\\Local\\Continuum\\anaconda3\\lib\\site-packages\\sklearn\\linear_model\\logistic.py:433: FutureWarning: Default solver will be changed to 'lbfgs' in 0.22. Specify a solver to silence this warning.\n",
      "  FutureWarning)\n"
     ]
    },
    {
     "name": "stdout",
     "output_type": "stream",
     "text": [
      "LR: 0.891263 (0.005308)\n",
      "KNN: 0.910969 (0.004275)\n",
      "FRST: 0.906572 (0.005001)\n"
     ]
    }
   ],
   "source": [
    "#Evaluate each model\n",
    "results =[]\n",
    "names=[]\n",
    "for name, model in models:\n",
    "    kfold = KFold(n_splits=num_folds,random_state = seed)\n",
    "    cv_results = cross_val_score(model,X_train_sc,y_train,cv=kfold)\n",
    "    results.append(cv_results)\n",
    "    names.append(name)\n",
    "    msg=\"%s: %f (%f)\" % (name,cv_results.mean(),cv_results.std())\n",
    "    print(msg)"
   ]
  },
  {
   "cell_type": "code",
   "execution_count": 208,
   "metadata": {},
   "outputs": [
    {
     "name": "stdout",
     "output_type": "stream",
     "text": [
      "Help on KNeighborsClassifier in module sklearn.neighbors.classification object:\n",
      "\n",
      "class KNeighborsClassifier(sklearn.neighbors.base.NeighborsBase, sklearn.neighbors.base.KNeighborsMixin, sklearn.neighbors.base.SupervisedIntegerMixin, sklearn.base.ClassifierMixin)\n",
      " |  KNeighborsClassifier(n_neighbors=5, weights='uniform', algorithm='auto', leaf_size=30, p=2, metric='minkowski', metric_params=None, n_jobs=None, **kwargs)\n",
      " |  \n",
      " |  Classifier implementing the k-nearest neighbors vote.\n",
      " |  \n",
      " |  Read more in the :ref:`User Guide <classification>`.\n",
      " |  \n",
      " |  Parameters\n",
      " |  ----------\n",
      " |  n_neighbors : int, optional (default = 5)\n",
      " |      Number of neighbors to use by default for :meth:`kneighbors` queries.\n",
      " |  \n",
      " |  weights : str or callable, optional (default = 'uniform')\n",
      " |      weight function used in prediction.  Possible values:\n",
      " |  \n",
      " |      - 'uniform' : uniform weights.  All points in each neighborhood\n",
      " |        are weighted equally.\n",
      " |      - 'distance' : weight points by the inverse of their distance.\n",
      " |        in this case, closer neighbors of a query point will have a\n",
      " |        greater influence than neighbors which are further away.\n",
      " |      - [callable] : a user-defined function which accepts an\n",
      " |        array of distances, and returns an array of the same shape\n",
      " |        containing the weights.\n",
      " |  \n",
      " |  algorithm : {'auto', 'ball_tree', 'kd_tree', 'brute'}, optional\n",
      " |      Algorithm used to compute the nearest neighbors:\n",
      " |  \n",
      " |      - 'ball_tree' will use :class:`BallTree`\n",
      " |      - 'kd_tree' will use :class:`KDTree`\n",
      " |      - 'brute' will use a brute-force search.\n",
      " |      - 'auto' will attempt to decide the most appropriate algorithm\n",
      " |        based on the values passed to :meth:`fit` method.\n",
      " |  \n",
      " |      Note: fitting on sparse input will override the setting of\n",
      " |      this parameter, using brute force.\n",
      " |  \n",
      " |  leaf_size : int, optional (default = 30)\n",
      " |      Leaf size passed to BallTree or KDTree.  This can affect the\n",
      " |      speed of the construction and query, as well as the memory\n",
      " |      required to store the tree.  The optimal value depends on the\n",
      " |      nature of the problem.\n",
      " |  \n",
      " |  p : integer, optional (default = 2)\n",
      " |      Power parameter for the Minkowski metric. When p = 1, this is\n",
      " |      equivalent to using manhattan_distance (l1), and euclidean_distance\n",
      " |      (l2) for p = 2. For arbitrary p, minkowski_distance (l_p) is used.\n",
      " |  \n",
      " |  metric : string or callable, default 'minkowski'\n",
      " |      the distance metric to use for the tree.  The default metric is\n",
      " |      minkowski, and with p=2 is equivalent to the standard Euclidean\n",
      " |      metric. See the documentation of the DistanceMetric class for a\n",
      " |      list of available metrics.\n",
      " |  \n",
      " |  metric_params : dict, optional (default = None)\n",
      " |      Additional keyword arguments for the metric function.\n",
      " |  \n",
      " |  n_jobs : int or None, optional (default=None)\n",
      " |      The number of parallel jobs to run for neighbors search.\n",
      " |      ``None`` means 1 unless in a :obj:`joblib.parallel_backend` context.\n",
      " |      ``-1`` means using all processors. See :term:`Glossary <n_jobs>`\n",
      " |      for more details.\n",
      " |      Doesn't affect :meth:`fit` method.\n",
      " |  \n",
      " |  Examples\n",
      " |  --------\n",
      " |  >>> X = [[0], [1], [2], [3]]\n",
      " |  >>> y = [0, 0, 1, 1]\n",
      " |  >>> from sklearn.neighbors import KNeighborsClassifier\n",
      " |  >>> neigh = KNeighborsClassifier(n_neighbors=3)\n",
      " |  >>> neigh.fit(X, y) # doctest: +ELLIPSIS\n",
      " |  KNeighborsClassifier(...)\n",
      " |  >>> print(neigh.predict([[1.1]]))\n",
      " |  [0]\n",
      " |  >>> print(neigh.predict_proba([[0.9]]))\n",
      " |  [[0.66666667 0.33333333]]\n",
      " |  \n",
      " |  See also\n",
      " |  --------\n",
      " |  RadiusNeighborsClassifier\n",
      " |  KNeighborsRegressor\n",
      " |  RadiusNeighborsRegressor\n",
      " |  NearestNeighbors\n",
      " |  \n",
      " |  Notes\n",
      " |  -----\n",
      " |  See :ref:`Nearest Neighbors <neighbors>` in the online documentation\n",
      " |  for a discussion of the choice of ``algorithm`` and ``leaf_size``.\n",
      " |  \n",
      " |  .. warning::\n",
      " |  \n",
      " |     Regarding the Nearest Neighbors algorithms, if it is found that two\n",
      " |     neighbors, neighbor `k+1` and `k`, have identical distances\n",
      " |     but different labels, the results will depend on the ordering of the\n",
      " |     training data.\n",
      " |  \n",
      " |  https://en.wikipedia.org/wiki/K-nearest_neighbor_algorithm\n",
      " |  \n",
      " |  Method resolution order:\n",
      " |      KNeighborsClassifier\n",
      " |      sklearn.neighbors.base.NeighborsBase\n",
      " |      abc.NewBase\n",
      " |      sklearn.base.BaseEstimator\n",
      " |      sklearn.neighbors.base.KNeighborsMixin\n",
      " |      sklearn.neighbors.base.SupervisedIntegerMixin\n",
      " |      sklearn.base.ClassifierMixin\n",
      " |      builtins.object\n",
      " |  \n",
      " |  Methods defined here:\n",
      " |  \n",
      " |  __init__(self, n_neighbors=5, weights='uniform', algorithm='auto', leaf_size=30, p=2, metric='minkowski', metric_params=None, n_jobs=None, **kwargs)\n",
      " |      Initialize self.  See help(type(self)) for accurate signature.\n",
      " |  \n",
      " |  predict(self, X)\n",
      " |      Predict the class labels for the provided data\n",
      " |      \n",
      " |      Parameters\n",
      " |      ----------\n",
      " |      X : array-like, shape (n_query, n_features),                 or (n_query, n_indexed) if metric == 'precomputed'\n",
      " |          Test samples.\n",
      " |      \n",
      " |      Returns\n",
      " |      -------\n",
      " |      y : array of shape [n_samples] or [n_samples, n_outputs]\n",
      " |          Class labels for each data sample.\n",
      " |  \n",
      " |  predict_proba(self, X)\n",
      " |      Return probability estimates for the test data X.\n",
      " |      \n",
      " |      Parameters\n",
      " |      ----------\n",
      " |      X : array-like, shape (n_query, n_features),                 or (n_query, n_indexed) if metric == 'precomputed'\n",
      " |          Test samples.\n",
      " |      \n",
      " |      Returns\n",
      " |      -------\n",
      " |      p : array of shape = [n_samples, n_classes], or a list of n_outputs\n",
      " |          of such arrays if n_outputs > 1.\n",
      " |          The class probabilities of the input samples. Classes are ordered\n",
      " |          by lexicographic order.\n",
      " |  \n",
      " |  ----------------------------------------------------------------------\n",
      " |  Data and other attributes defined here:\n",
      " |  \n",
      " |  __abstractmethods__ = frozenset()\n",
      " |  \n",
      " |  ----------------------------------------------------------------------\n",
      " |  Methods inherited from sklearn.base.BaseEstimator:\n",
      " |  \n",
      " |  __getstate__(self)\n",
      " |  \n",
      " |  __repr__(self)\n",
      " |      Return repr(self).\n",
      " |  \n",
      " |  __setstate__(self, state)\n",
      " |  \n",
      " |  get_params(self, deep=True)\n",
      " |      Get parameters for this estimator.\n",
      " |      \n",
      " |      Parameters\n",
      " |      ----------\n",
      " |      deep : boolean, optional\n",
      " |          If True, will return the parameters for this estimator and\n",
      " |          contained subobjects that are estimators.\n",
      " |      \n",
      " |      Returns\n",
      " |      -------\n",
      " |      params : mapping of string to any\n",
      " |          Parameter names mapped to their values.\n",
      " |  \n",
      " |  set_params(self, **params)\n",
      " |      Set the parameters of this estimator.\n",
      " |      \n",
      " |      The method works on simple estimators as well as on nested objects\n",
      " |      (such as pipelines). The latter have parameters of the form\n",
      " |      ``<component>__<parameter>`` so that it's possible to update each\n",
      " |      component of a nested object.\n",
      " |      \n",
      " |      Returns\n",
      " |      -------\n",
      " |      self\n",
      " |  \n",
      " |  ----------------------------------------------------------------------\n",
      " |  Data descriptors inherited from sklearn.base.BaseEstimator:\n",
      " |  \n",
      " |  __dict__\n",
      " |      dictionary for instance variables (if defined)\n",
      " |  \n",
      " |  __weakref__\n",
      " |      list of weak references to the object (if defined)\n",
      " |  \n",
      " |  ----------------------------------------------------------------------\n",
      " |  Methods inherited from sklearn.neighbors.base.KNeighborsMixin:\n",
      " |  \n",
      " |  kneighbors(self, X=None, n_neighbors=None, return_distance=True)\n",
      " |      Finds the K-neighbors of a point.\n",
      " |      Returns indices of and distances to the neighbors of each point.\n",
      " |      \n",
      " |      Parameters\n",
      " |      ----------\n",
      " |      X : array-like, shape (n_query, n_features),                 or (n_query, n_indexed) if metric == 'precomputed'\n",
      " |          The query point or points.\n",
      " |          If not provided, neighbors of each indexed point are returned.\n",
      " |          In this case, the query point is not considered its own neighbor.\n",
      " |      \n",
      " |      n_neighbors : int\n",
      " |          Number of neighbors to get (default is the value\n",
      " |          passed to the constructor).\n",
      " |      \n",
      " |      return_distance : boolean, optional. Defaults to True.\n",
      " |          If False, distances will not be returned\n",
      " |      \n",
      " |      Returns\n",
      " |      -------\n",
      " |      dist : array\n",
      " |          Array representing the lengths to points, only present if\n",
      " |          return_distance=True\n",
      " |      \n",
      " |      ind : array\n",
      " |          Indices of the nearest points in the population matrix.\n",
      " |      \n",
      " |      Examples\n",
      " |      --------\n",
      " |      In the following example, we construct a NeighborsClassifier\n",
      " |      class from an array representing our data set and ask who's\n",
      " |      the closest point to [1,1,1]\n",
      " |      \n",
      " |      >>> samples = [[0., 0., 0.], [0., .5, 0.], [1., 1., .5]]\n",
      " |      >>> from sklearn.neighbors import NearestNeighbors\n",
      " |      >>> neigh = NearestNeighbors(n_neighbors=1)\n",
      " |      >>> neigh.fit(samples) # doctest: +ELLIPSIS\n",
      " |      NearestNeighbors(algorithm='auto', leaf_size=30, ...)\n",
      " |      >>> print(neigh.kneighbors([[1., 1., 1.]])) # doctest: +ELLIPSIS\n",
      " |      (array([[0.5]]), array([[2]]))\n",
      " |      \n",
      " |      As you can see, it returns [[0.5]], and [[2]], which means that the\n",
      " |      element is at distance 0.5 and is the third element of samples\n",
      " |      (indexes start at 0). You can also query for multiple points:\n",
      " |      \n",
      " |      >>> X = [[0., 1., 0.], [1., 0., 1.]]\n",
      " |      >>> neigh.kneighbors(X, return_distance=False) # doctest: +ELLIPSIS\n",
      " |      array([[1],\n",
      " |             [2]]...)\n",
      " |  \n",
      " |  kneighbors_graph(self, X=None, n_neighbors=None, mode='connectivity')\n",
      " |      Computes the (weighted) graph of k-Neighbors for points in X\n",
      " |      \n",
      " |      Parameters\n",
      " |      ----------\n",
      " |      X : array-like, shape (n_query, n_features),                 or (n_query, n_indexed) if metric == 'precomputed'\n",
      " |          The query point or points.\n",
      " |          If not provided, neighbors of each indexed point are returned.\n",
      " |          In this case, the query point is not considered its own neighbor.\n",
      " |      \n",
      " |      n_neighbors : int\n",
      " |          Number of neighbors for each sample.\n",
      " |          (default is value passed to the constructor).\n",
      " |      \n",
      " |      mode : {'connectivity', 'distance'}, optional\n",
      " |          Type of returned matrix: 'connectivity' will return the\n",
      " |          connectivity matrix with ones and zeros, in 'distance' the\n",
      " |          edges are Euclidean distance between points.\n",
      " |      \n",
      " |      Returns\n",
      " |      -------\n",
      " |      A : sparse matrix in CSR format, shape = [n_samples, n_samples_fit]\n",
      " |          n_samples_fit is the number of samples in the fitted data\n",
      " |          A[i, j] is assigned the weight of edge that connects i to j.\n",
      " |      \n",
      " |      Examples\n",
      " |      --------\n",
      " |      >>> X = [[0], [3], [1]]\n",
      " |      >>> from sklearn.neighbors import NearestNeighbors\n",
      " |      >>> neigh = NearestNeighbors(n_neighbors=2)\n",
      " |      >>> neigh.fit(X) # doctest: +ELLIPSIS\n",
      " |      NearestNeighbors(algorithm='auto', leaf_size=30, ...)\n",
      " |      >>> A = neigh.kneighbors_graph(X)\n",
      " |      >>> A.toarray()\n",
      " |      array([[1., 0., 1.],\n",
      " |             [0., 1., 1.],\n",
      " |             [1., 0., 1.]])\n",
      " |      \n",
      " |      See also\n",
      " |      --------\n",
      " |      NearestNeighbors.radius_neighbors_graph\n",
      " |  \n",
      " |  ----------------------------------------------------------------------\n",
      " |  Methods inherited from sklearn.neighbors.base.SupervisedIntegerMixin:\n",
      " |  \n",
      " |  fit(self, X, y)\n",
      " |      Fit the model using X as training data and y as target values\n",
      " |      \n",
      " |      Parameters\n",
      " |      ----------\n",
      " |      X : {array-like, sparse matrix, BallTree, KDTree}\n",
      " |          Training data. If array or matrix, shape [n_samples, n_features],\n",
      " |          or [n_samples, n_samples] if metric='precomputed'.\n",
      " |      \n",
      " |      y : {array-like, sparse matrix}\n",
      " |          Target values of shape = [n_samples] or [n_samples, n_outputs]\n",
      " |  \n",
      " |  ----------------------------------------------------------------------\n",
      " |  Methods inherited from sklearn.base.ClassifierMixin:\n",
      " |  \n",
      " |  score(self, X, y, sample_weight=None)\n",
      " |      Returns the mean accuracy on the given test data and labels.\n",
      " |      \n",
      " |      In multi-label classification, this is the subset accuracy\n",
      " |      which is a harsh metric since you require for each sample that\n",
      " |      each label set be correctly predicted.\n",
      " |      \n",
      " |      Parameters\n",
      " |      ----------\n",
      " |      X : array-like, shape = (n_samples, n_features)\n",
      " |          Test samples.\n",
      " |      \n",
      " |      y : array-like, shape = (n_samples) or (n_samples, n_outputs)\n",
      " |          True labels for X.\n",
      " |      \n",
      " |      sample_weight : array-like, shape = [n_samples], optional\n",
      " |          Sample weights.\n",
      " |      \n",
      " |      Returns\n",
      " |      -------\n",
      " |      score : float\n",
      " |          Mean accuracy of self.predict(X) wrt. y.\n",
      "\n"
     ]
    }
   ],
   "source": [
    "help(KNeighborsClassifier())"
   ]
  },
  {
   "cell_type": "code",
   "execution_count": null,
   "metadata": {},
   "outputs": [],
   "source": [
    "#Looks like KNN performs better that the other two. Now let me try fine-tune the parameters even more."
   ]
  },
  {
   "cell_type": "code",
   "execution_count": 211,
   "metadata": {},
   "outputs": [
    {
     "data": {
      "text/plain": [
       "KNeighborsClassifier(algorithm='auto', leaf_size=30, metric='minkowski',\n",
       "           metric_params=None, n_jobs=None, n_neighbors=5, p=2,\n",
       "           weights='uniform')"
      ]
     },
     "execution_count": 211,
     "metadata": {},
     "output_type": "execute_result"
    }
   ],
   "source": [
    "classifier = KNeighborsClassifier(n_neighbors = 5, metric = 'minkowski', p = 2)\n",
    "classifier.fit(X_train_sc, y_train)"
   ]
  },
  {
   "cell_type": "code",
   "execution_count": 213,
   "metadata": {},
   "outputs": [],
   "source": [
    "y_pred = classifier.predict(X_test_sc)#Using the parameter chosen"
   ]
  },
  {
   "cell_type": "code",
   "execution_count": 214,
   "metadata": {},
   "outputs": [],
   "source": [
    "# Making the Confusion Matrix\n",
    "from sklearn.metrics import confusion_matrix\n",
    "cm = confusion_matrix(y_test, y_pred)"
   ]
  },
  {
   "cell_type": "code",
   "execution_count": 215,
   "metadata": {},
   "outputs": [
    {
     "data": {
      "text/plain": [
       "array([[4743,   30],\n",
       "       [ 508,  746]], dtype=int64)"
      ]
     },
     "execution_count": 215,
     "metadata": {},
     "output_type": "execute_result"
    }
   ],
   "source": [
    "cm"
   ]
  },
  {
   "cell_type": "code",
   "execution_count": 216,
   "metadata": {},
   "outputs": [
    {
     "data": {
      "text/plain": [
       "0.9107350257176041"
      ]
     },
     "execution_count": 216,
     "metadata": {},
     "output_type": "execute_result"
    }
   ],
   "source": [
    "(4743+746)/(4743+746+30+508)"
   ]
  },
  {
   "cell_type": "code",
   "execution_count": 695,
   "metadata": {},
   "outputs": [
    {
     "ename": "KeyboardInterrupt",
     "evalue": "",
     "output_type": "error",
     "traceback": [
      "\u001b[1;31m---------------------------------------------------------------------------\u001b[0m",
      "\u001b[1;31mKeyboardInterrupt\u001b[0m                         Traceback (most recent call last)",
      "\u001b[1;32m<ipython-input-695-3fb32784f5fb>\u001b[0m in \u001b[0;36m<module>\u001b[1;34m\u001b[0m\n\u001b[0;32m      5\u001b[0m \u001b[0mkfold\u001b[0m \u001b[1;33m=\u001b[0m \u001b[0mKFold\u001b[0m\u001b[1;33m(\u001b[0m\u001b[0mn_splits\u001b[0m\u001b[1;33m=\u001b[0m\u001b[0mnum_folds\u001b[0m\u001b[1;33m,\u001b[0m \u001b[0mrandom_state\u001b[0m\u001b[1;33m=\u001b[0m\u001b[0mseed\u001b[0m\u001b[1;33m)\u001b[0m\u001b[1;33m\u001b[0m\u001b[1;33m\u001b[0m\u001b[0m\n\u001b[0;32m      6\u001b[0m \u001b[0mgrid\u001b[0m \u001b[1;33m=\u001b[0m \u001b[0mGridSearchCV\u001b[0m\u001b[1;33m(\u001b[0m\u001b[0mestimator\u001b[0m\u001b[1;33m=\u001b[0m\u001b[0mmodel\u001b[0m\u001b[1;33m,\u001b[0m \u001b[0mparam_grid\u001b[0m\u001b[1;33m=\u001b[0m\u001b[0mparam_grid\u001b[0m\u001b[1;33m,\u001b[0m \u001b[0mcv\u001b[0m\u001b[1;33m=\u001b[0m\u001b[0mkfold\u001b[0m\u001b[1;33m)\u001b[0m\u001b[1;33m\u001b[0m\u001b[1;33m\u001b[0m\u001b[0m\n\u001b[1;32m----> 7\u001b[1;33m \u001b[0mgrid_result\u001b[0m \u001b[1;33m=\u001b[0m \u001b[0mgrid\u001b[0m\u001b[1;33m.\u001b[0m\u001b[0mfit\u001b[0m\u001b[1;33m(\u001b[0m\u001b[0mX_train_sc\u001b[0m\u001b[1;33m,\u001b[0m \u001b[0my_train\u001b[0m\u001b[1;33m)\u001b[0m\u001b[1;33m\u001b[0m\u001b[1;33m\u001b[0m\u001b[0m\n\u001b[0m\u001b[0;32m      8\u001b[0m \u001b[1;33m\u001b[0m\u001b[0m\n\u001b[0;32m      9\u001b[0m \u001b[0mprint\u001b[0m\u001b[1;33m(\u001b[0m\u001b[1;34m\"Best: %f using %s\"\u001b[0m \u001b[1;33m%\u001b[0m \u001b[1;33m(\u001b[0m\u001b[0mgrid_result\u001b[0m\u001b[1;33m.\u001b[0m\u001b[0mbest_score_\u001b[0m\u001b[1;33m,\u001b[0m \u001b[0mgrid_result\u001b[0m\u001b[1;33m.\u001b[0m\u001b[0mbest_params_\u001b[0m\u001b[1;33m)\u001b[0m\u001b[1;33m)\u001b[0m\u001b[1;33m\u001b[0m\u001b[1;33m\u001b[0m\u001b[0m\n",
      "\u001b[1;32m~\\AppData\\Local\\Continuum\\anaconda3\\lib\\site-packages\\sklearn\\model_selection\\_search.py\u001b[0m in \u001b[0;36mfit\u001b[1;34m(self, X, y, groups, **fit_params)\u001b[0m\n\u001b[0;32m    720\u001b[0m                 \u001b[1;32mreturn\u001b[0m \u001b[0mresults_container\u001b[0m\u001b[1;33m[\u001b[0m\u001b[1;36m0\u001b[0m\u001b[1;33m]\u001b[0m\u001b[1;33m\u001b[0m\u001b[1;33m\u001b[0m\u001b[0m\n\u001b[0;32m    721\u001b[0m \u001b[1;33m\u001b[0m\u001b[0m\n\u001b[1;32m--> 722\u001b[1;33m             \u001b[0mself\u001b[0m\u001b[1;33m.\u001b[0m\u001b[0m_run_search\u001b[0m\u001b[1;33m(\u001b[0m\u001b[0mevaluate_candidates\u001b[0m\u001b[1;33m)\u001b[0m\u001b[1;33m\u001b[0m\u001b[1;33m\u001b[0m\u001b[0m\n\u001b[0m\u001b[0;32m    723\u001b[0m \u001b[1;33m\u001b[0m\u001b[0m\n\u001b[0;32m    724\u001b[0m         \u001b[0mresults\u001b[0m \u001b[1;33m=\u001b[0m \u001b[0mresults_container\u001b[0m\u001b[1;33m[\u001b[0m\u001b[1;36m0\u001b[0m\u001b[1;33m]\u001b[0m\u001b[1;33m\u001b[0m\u001b[1;33m\u001b[0m\u001b[0m\n",
      "\u001b[1;32m~\\AppData\\Local\\Continuum\\anaconda3\\lib\\site-packages\\sklearn\\model_selection\\_search.py\u001b[0m in \u001b[0;36m_run_search\u001b[1;34m(self, evaluate_candidates)\u001b[0m\n\u001b[0;32m   1189\u001b[0m     \u001b[1;32mdef\u001b[0m \u001b[0m_run_search\u001b[0m\u001b[1;33m(\u001b[0m\u001b[0mself\u001b[0m\u001b[1;33m,\u001b[0m \u001b[0mevaluate_candidates\u001b[0m\u001b[1;33m)\u001b[0m\u001b[1;33m:\u001b[0m\u001b[1;33m\u001b[0m\u001b[1;33m\u001b[0m\u001b[0m\n\u001b[0;32m   1190\u001b[0m         \u001b[1;34m\"\"\"Search all candidates in param_grid\"\"\"\u001b[0m\u001b[1;33m\u001b[0m\u001b[1;33m\u001b[0m\u001b[0m\n\u001b[1;32m-> 1191\u001b[1;33m         \u001b[0mevaluate_candidates\u001b[0m\u001b[1;33m(\u001b[0m\u001b[0mParameterGrid\u001b[0m\u001b[1;33m(\u001b[0m\u001b[0mself\u001b[0m\u001b[1;33m.\u001b[0m\u001b[0mparam_grid\u001b[0m\u001b[1;33m)\u001b[0m\u001b[1;33m)\u001b[0m\u001b[1;33m\u001b[0m\u001b[1;33m\u001b[0m\u001b[0m\n\u001b[0m\u001b[0;32m   1192\u001b[0m \u001b[1;33m\u001b[0m\u001b[0m\n\u001b[0;32m   1193\u001b[0m \u001b[1;33m\u001b[0m\u001b[0m\n",
      "\u001b[1;32m~\\AppData\\Local\\Continuum\\anaconda3\\lib\\site-packages\\sklearn\\model_selection\\_search.py\u001b[0m in \u001b[0;36mevaluate_candidates\u001b[1;34m(candidate_params)\u001b[0m\n\u001b[0;32m    709\u001b[0m                                \u001b[1;32mfor\u001b[0m \u001b[0mparameters\u001b[0m\u001b[1;33m,\u001b[0m \u001b[1;33m(\u001b[0m\u001b[0mtrain\u001b[0m\u001b[1;33m,\u001b[0m \u001b[0mtest\u001b[0m\u001b[1;33m)\u001b[0m\u001b[1;33m\u001b[0m\u001b[1;33m\u001b[0m\u001b[0m\n\u001b[0;32m    710\u001b[0m                                in product(candidate_params,\n\u001b[1;32m--> 711\u001b[1;33m                                           cv.split(X, y, groups)))\n\u001b[0m\u001b[0;32m    712\u001b[0m \u001b[1;33m\u001b[0m\u001b[0m\n\u001b[0;32m    713\u001b[0m                 \u001b[0mall_candidate_params\u001b[0m\u001b[1;33m.\u001b[0m\u001b[0mextend\u001b[0m\u001b[1;33m(\u001b[0m\u001b[0mcandidate_params\u001b[0m\u001b[1;33m)\u001b[0m\u001b[1;33m\u001b[0m\u001b[1;33m\u001b[0m\u001b[0m\n",
      "\u001b[1;32m~\\AppData\\Local\\Continuum\\anaconda3\\lib\\site-packages\\sklearn\\externals\\joblib\\parallel.py\u001b[0m in \u001b[0;36m__call__\u001b[1;34m(self, iterable)\u001b[0m\n\u001b[0;32m    918\u001b[0m                 \u001b[0mself\u001b[0m\u001b[1;33m.\u001b[0m\u001b[0m_iterating\u001b[0m \u001b[1;33m=\u001b[0m \u001b[0mself\u001b[0m\u001b[1;33m.\u001b[0m\u001b[0m_original_iterator\u001b[0m \u001b[1;32mis\u001b[0m \u001b[1;32mnot\u001b[0m \u001b[1;32mNone\u001b[0m\u001b[1;33m\u001b[0m\u001b[1;33m\u001b[0m\u001b[0m\n\u001b[0;32m    919\u001b[0m \u001b[1;33m\u001b[0m\u001b[0m\n\u001b[1;32m--> 920\u001b[1;33m             \u001b[1;32mwhile\u001b[0m \u001b[0mself\u001b[0m\u001b[1;33m.\u001b[0m\u001b[0mdispatch_one_batch\u001b[0m\u001b[1;33m(\u001b[0m\u001b[0miterator\u001b[0m\u001b[1;33m)\u001b[0m\u001b[1;33m:\u001b[0m\u001b[1;33m\u001b[0m\u001b[1;33m\u001b[0m\u001b[0m\n\u001b[0m\u001b[0;32m    921\u001b[0m                 \u001b[1;32mpass\u001b[0m\u001b[1;33m\u001b[0m\u001b[1;33m\u001b[0m\u001b[0m\n\u001b[0;32m    922\u001b[0m \u001b[1;33m\u001b[0m\u001b[0m\n",
      "\u001b[1;32m~\\AppData\\Local\\Continuum\\anaconda3\\lib\\site-packages\\sklearn\\externals\\joblib\\parallel.py\u001b[0m in \u001b[0;36mdispatch_one_batch\u001b[1;34m(self, iterator)\u001b[0m\n\u001b[0;32m    757\u001b[0m                 \u001b[1;32mreturn\u001b[0m \u001b[1;32mFalse\u001b[0m\u001b[1;33m\u001b[0m\u001b[1;33m\u001b[0m\u001b[0m\n\u001b[0;32m    758\u001b[0m             \u001b[1;32melse\u001b[0m\u001b[1;33m:\u001b[0m\u001b[1;33m\u001b[0m\u001b[1;33m\u001b[0m\u001b[0m\n\u001b[1;32m--> 759\u001b[1;33m                 \u001b[0mself\u001b[0m\u001b[1;33m.\u001b[0m\u001b[0m_dispatch\u001b[0m\u001b[1;33m(\u001b[0m\u001b[0mtasks\u001b[0m\u001b[1;33m)\u001b[0m\u001b[1;33m\u001b[0m\u001b[1;33m\u001b[0m\u001b[0m\n\u001b[0m\u001b[0;32m    760\u001b[0m                 \u001b[1;32mreturn\u001b[0m \u001b[1;32mTrue\u001b[0m\u001b[1;33m\u001b[0m\u001b[1;33m\u001b[0m\u001b[0m\n\u001b[0;32m    761\u001b[0m \u001b[1;33m\u001b[0m\u001b[0m\n",
      "\u001b[1;32m~\\AppData\\Local\\Continuum\\anaconda3\\lib\\site-packages\\sklearn\\externals\\joblib\\parallel.py\u001b[0m in \u001b[0;36m_dispatch\u001b[1;34m(self, batch)\u001b[0m\n\u001b[0;32m    714\u001b[0m         \u001b[1;32mwith\u001b[0m \u001b[0mself\u001b[0m\u001b[1;33m.\u001b[0m\u001b[0m_lock\u001b[0m\u001b[1;33m:\u001b[0m\u001b[1;33m\u001b[0m\u001b[1;33m\u001b[0m\u001b[0m\n\u001b[0;32m    715\u001b[0m             \u001b[0mjob_idx\u001b[0m \u001b[1;33m=\u001b[0m \u001b[0mlen\u001b[0m\u001b[1;33m(\u001b[0m\u001b[0mself\u001b[0m\u001b[1;33m.\u001b[0m\u001b[0m_jobs\u001b[0m\u001b[1;33m)\u001b[0m\u001b[1;33m\u001b[0m\u001b[1;33m\u001b[0m\u001b[0m\n\u001b[1;32m--> 716\u001b[1;33m             \u001b[0mjob\u001b[0m \u001b[1;33m=\u001b[0m \u001b[0mself\u001b[0m\u001b[1;33m.\u001b[0m\u001b[0m_backend\u001b[0m\u001b[1;33m.\u001b[0m\u001b[0mapply_async\u001b[0m\u001b[1;33m(\u001b[0m\u001b[0mbatch\u001b[0m\u001b[1;33m,\u001b[0m \u001b[0mcallback\u001b[0m\u001b[1;33m=\u001b[0m\u001b[0mcb\u001b[0m\u001b[1;33m)\u001b[0m\u001b[1;33m\u001b[0m\u001b[1;33m\u001b[0m\u001b[0m\n\u001b[0m\u001b[0;32m    717\u001b[0m             \u001b[1;31m# A job can complete so quickly than its callback is\u001b[0m\u001b[1;33m\u001b[0m\u001b[1;33m\u001b[0m\u001b[1;33m\u001b[0m\u001b[0m\n\u001b[0;32m    718\u001b[0m             \u001b[1;31m# called before we get here, causing self._jobs to\u001b[0m\u001b[1;33m\u001b[0m\u001b[1;33m\u001b[0m\u001b[1;33m\u001b[0m\u001b[0m\n",
      "\u001b[1;32m~\\AppData\\Local\\Continuum\\anaconda3\\lib\\site-packages\\sklearn\\externals\\joblib\\_parallel_backends.py\u001b[0m in \u001b[0;36mapply_async\u001b[1;34m(self, func, callback)\u001b[0m\n\u001b[0;32m    180\u001b[0m     \u001b[1;32mdef\u001b[0m \u001b[0mapply_async\u001b[0m\u001b[1;33m(\u001b[0m\u001b[0mself\u001b[0m\u001b[1;33m,\u001b[0m \u001b[0mfunc\u001b[0m\u001b[1;33m,\u001b[0m \u001b[0mcallback\u001b[0m\u001b[1;33m=\u001b[0m\u001b[1;32mNone\u001b[0m\u001b[1;33m)\u001b[0m\u001b[1;33m:\u001b[0m\u001b[1;33m\u001b[0m\u001b[1;33m\u001b[0m\u001b[0m\n\u001b[0;32m    181\u001b[0m         \u001b[1;34m\"\"\"Schedule a func to be run\"\"\"\u001b[0m\u001b[1;33m\u001b[0m\u001b[1;33m\u001b[0m\u001b[0m\n\u001b[1;32m--> 182\u001b[1;33m         \u001b[0mresult\u001b[0m \u001b[1;33m=\u001b[0m \u001b[0mImmediateResult\u001b[0m\u001b[1;33m(\u001b[0m\u001b[0mfunc\u001b[0m\u001b[1;33m)\u001b[0m\u001b[1;33m\u001b[0m\u001b[1;33m\u001b[0m\u001b[0m\n\u001b[0m\u001b[0;32m    183\u001b[0m         \u001b[1;32mif\u001b[0m \u001b[0mcallback\u001b[0m\u001b[1;33m:\u001b[0m\u001b[1;33m\u001b[0m\u001b[1;33m\u001b[0m\u001b[0m\n\u001b[0;32m    184\u001b[0m             \u001b[0mcallback\u001b[0m\u001b[1;33m(\u001b[0m\u001b[0mresult\u001b[0m\u001b[1;33m)\u001b[0m\u001b[1;33m\u001b[0m\u001b[1;33m\u001b[0m\u001b[0m\n",
      "\u001b[1;32m~\\AppData\\Local\\Continuum\\anaconda3\\lib\\site-packages\\sklearn\\externals\\joblib\\_parallel_backends.py\u001b[0m in \u001b[0;36m__init__\u001b[1;34m(self, batch)\u001b[0m\n\u001b[0;32m    547\u001b[0m         \u001b[1;31m# Don't delay the application, to avoid keeping the input\u001b[0m\u001b[1;33m\u001b[0m\u001b[1;33m\u001b[0m\u001b[1;33m\u001b[0m\u001b[0m\n\u001b[0;32m    548\u001b[0m         \u001b[1;31m# arguments in memory\u001b[0m\u001b[1;33m\u001b[0m\u001b[1;33m\u001b[0m\u001b[1;33m\u001b[0m\u001b[0m\n\u001b[1;32m--> 549\u001b[1;33m         \u001b[0mself\u001b[0m\u001b[1;33m.\u001b[0m\u001b[0mresults\u001b[0m \u001b[1;33m=\u001b[0m \u001b[0mbatch\u001b[0m\u001b[1;33m(\u001b[0m\u001b[1;33m)\u001b[0m\u001b[1;33m\u001b[0m\u001b[1;33m\u001b[0m\u001b[0m\n\u001b[0m\u001b[0;32m    550\u001b[0m \u001b[1;33m\u001b[0m\u001b[0m\n\u001b[0;32m    551\u001b[0m     \u001b[1;32mdef\u001b[0m \u001b[0mget\u001b[0m\u001b[1;33m(\u001b[0m\u001b[0mself\u001b[0m\u001b[1;33m)\u001b[0m\u001b[1;33m:\u001b[0m\u001b[1;33m\u001b[0m\u001b[1;33m\u001b[0m\u001b[0m\n",
      "\u001b[1;32m~\\AppData\\Local\\Continuum\\anaconda3\\lib\\site-packages\\sklearn\\externals\\joblib\\parallel.py\u001b[0m in \u001b[0;36m__call__\u001b[1;34m(self)\u001b[0m\n\u001b[0;32m    223\u001b[0m         \u001b[1;32mwith\u001b[0m \u001b[0mparallel_backend\u001b[0m\u001b[1;33m(\u001b[0m\u001b[0mself\u001b[0m\u001b[1;33m.\u001b[0m\u001b[0m_backend\u001b[0m\u001b[1;33m,\u001b[0m \u001b[0mn_jobs\u001b[0m\u001b[1;33m=\u001b[0m\u001b[0mself\u001b[0m\u001b[1;33m.\u001b[0m\u001b[0m_n_jobs\u001b[0m\u001b[1;33m)\u001b[0m\u001b[1;33m:\u001b[0m\u001b[1;33m\u001b[0m\u001b[1;33m\u001b[0m\u001b[0m\n\u001b[0;32m    224\u001b[0m             return [func(*args, **kwargs)\n\u001b[1;32m--> 225\u001b[1;33m                     for func, args, kwargs in self.items]\n\u001b[0m\u001b[0;32m    226\u001b[0m \u001b[1;33m\u001b[0m\u001b[0m\n\u001b[0;32m    227\u001b[0m     \u001b[1;32mdef\u001b[0m \u001b[0m__len__\u001b[0m\u001b[1;33m(\u001b[0m\u001b[0mself\u001b[0m\u001b[1;33m)\u001b[0m\u001b[1;33m:\u001b[0m\u001b[1;33m\u001b[0m\u001b[1;33m\u001b[0m\u001b[0m\n",
      "\u001b[1;32m~\\AppData\\Local\\Continuum\\anaconda3\\lib\\site-packages\\sklearn\\externals\\joblib\\parallel.py\u001b[0m in \u001b[0;36m<listcomp>\u001b[1;34m(.0)\u001b[0m\n\u001b[0;32m    223\u001b[0m         \u001b[1;32mwith\u001b[0m \u001b[0mparallel_backend\u001b[0m\u001b[1;33m(\u001b[0m\u001b[0mself\u001b[0m\u001b[1;33m.\u001b[0m\u001b[0m_backend\u001b[0m\u001b[1;33m,\u001b[0m \u001b[0mn_jobs\u001b[0m\u001b[1;33m=\u001b[0m\u001b[0mself\u001b[0m\u001b[1;33m.\u001b[0m\u001b[0m_n_jobs\u001b[0m\u001b[1;33m)\u001b[0m\u001b[1;33m:\u001b[0m\u001b[1;33m\u001b[0m\u001b[1;33m\u001b[0m\u001b[0m\n\u001b[0;32m    224\u001b[0m             return [func(*args, **kwargs)\n\u001b[1;32m--> 225\u001b[1;33m                     for func, args, kwargs in self.items]\n\u001b[0m\u001b[0;32m    226\u001b[0m \u001b[1;33m\u001b[0m\u001b[0m\n\u001b[0;32m    227\u001b[0m     \u001b[1;32mdef\u001b[0m \u001b[0m__len__\u001b[0m\u001b[1;33m(\u001b[0m\u001b[0mself\u001b[0m\u001b[1;33m)\u001b[0m\u001b[1;33m:\u001b[0m\u001b[1;33m\u001b[0m\u001b[1;33m\u001b[0m\u001b[0m\n",
      "\u001b[1;32m~\\AppData\\Local\\Continuum\\anaconda3\\lib\\site-packages\\sklearn\\model_selection\\_validation.py\u001b[0m in \u001b[0;36m_fit_and_score\u001b[1;34m(estimator, X, y, scorer, train, test, verbose, parameters, fit_params, return_train_score, return_parameters, return_n_test_samples, return_times, return_estimator, error_score)\u001b[0m\n\u001b[0;32m    570\u001b[0m         \u001b[1;32mif\u001b[0m \u001b[0mreturn_train_score\u001b[0m\u001b[1;33m:\u001b[0m\u001b[1;33m\u001b[0m\u001b[1;33m\u001b[0m\u001b[0m\n\u001b[0;32m    571\u001b[0m             train_scores = _score(estimator, X_train, y_train, scorer,\n\u001b[1;32m--> 572\u001b[1;33m                                   is_multimetric)\n\u001b[0m\u001b[0;32m    573\u001b[0m \u001b[1;33m\u001b[0m\u001b[0m\n\u001b[0;32m    574\u001b[0m     \u001b[1;32mif\u001b[0m \u001b[0mverbose\u001b[0m \u001b[1;33m>\u001b[0m \u001b[1;36m2\u001b[0m\u001b[1;33m:\u001b[0m\u001b[1;33m\u001b[0m\u001b[1;33m\u001b[0m\u001b[0m\n",
      "\u001b[1;32m~\\AppData\\Local\\Continuum\\anaconda3\\lib\\site-packages\\sklearn\\model_selection\\_validation.py\u001b[0m in \u001b[0;36m_score\u001b[1;34m(estimator, X_test, y_test, scorer, is_multimetric)\u001b[0m\n\u001b[0;32m    603\u001b[0m     \"\"\"\n\u001b[0;32m    604\u001b[0m     \u001b[1;32mif\u001b[0m \u001b[0mis_multimetric\u001b[0m\u001b[1;33m:\u001b[0m\u001b[1;33m\u001b[0m\u001b[1;33m\u001b[0m\u001b[0m\n\u001b[1;32m--> 605\u001b[1;33m         \u001b[1;32mreturn\u001b[0m \u001b[0m_multimetric_score\u001b[0m\u001b[1;33m(\u001b[0m\u001b[0mestimator\u001b[0m\u001b[1;33m,\u001b[0m \u001b[0mX_test\u001b[0m\u001b[1;33m,\u001b[0m \u001b[0my_test\u001b[0m\u001b[1;33m,\u001b[0m \u001b[0mscorer\u001b[0m\u001b[1;33m)\u001b[0m\u001b[1;33m\u001b[0m\u001b[1;33m\u001b[0m\u001b[0m\n\u001b[0m\u001b[0;32m    606\u001b[0m     \u001b[1;32melse\u001b[0m\u001b[1;33m:\u001b[0m\u001b[1;33m\u001b[0m\u001b[1;33m\u001b[0m\u001b[0m\n\u001b[0;32m    607\u001b[0m         \u001b[1;32mif\u001b[0m \u001b[0my_test\u001b[0m \u001b[1;32mis\u001b[0m \u001b[1;32mNone\u001b[0m\u001b[1;33m:\u001b[0m\u001b[1;33m\u001b[0m\u001b[1;33m\u001b[0m\u001b[0m\n",
      "\u001b[1;32m~\\AppData\\Local\\Continuum\\anaconda3\\lib\\site-packages\\sklearn\\model_selection\\_validation.py\u001b[0m in \u001b[0;36m_multimetric_score\u001b[1;34m(estimator, X_test, y_test, scorers)\u001b[0m\n\u001b[0;32m    633\u001b[0m             \u001b[0mscore\u001b[0m \u001b[1;33m=\u001b[0m \u001b[0mscorer\u001b[0m\u001b[1;33m(\u001b[0m\u001b[0mestimator\u001b[0m\u001b[1;33m,\u001b[0m \u001b[0mX_test\u001b[0m\u001b[1;33m)\u001b[0m\u001b[1;33m\u001b[0m\u001b[1;33m\u001b[0m\u001b[0m\n\u001b[0;32m    634\u001b[0m         \u001b[1;32melse\u001b[0m\u001b[1;33m:\u001b[0m\u001b[1;33m\u001b[0m\u001b[1;33m\u001b[0m\u001b[0m\n\u001b[1;32m--> 635\u001b[1;33m             \u001b[0mscore\u001b[0m \u001b[1;33m=\u001b[0m \u001b[0mscorer\u001b[0m\u001b[1;33m(\u001b[0m\u001b[0mestimator\u001b[0m\u001b[1;33m,\u001b[0m \u001b[0mX_test\u001b[0m\u001b[1;33m,\u001b[0m \u001b[0my_test\u001b[0m\u001b[1;33m)\u001b[0m\u001b[1;33m\u001b[0m\u001b[1;33m\u001b[0m\u001b[0m\n\u001b[0m\u001b[0;32m    636\u001b[0m \u001b[1;33m\u001b[0m\u001b[0m\n\u001b[0;32m    637\u001b[0m         \u001b[1;32mif\u001b[0m \u001b[0mhasattr\u001b[0m\u001b[1;33m(\u001b[0m\u001b[0mscore\u001b[0m\u001b[1;33m,\u001b[0m \u001b[1;34m'item'\u001b[0m\u001b[1;33m)\u001b[0m\u001b[1;33m:\u001b[0m\u001b[1;33m\u001b[0m\u001b[1;33m\u001b[0m\u001b[0m\n",
      "\u001b[1;32m~\\AppData\\Local\\Continuum\\anaconda3\\lib\\site-packages\\sklearn\\metrics\\scorer.py\u001b[0m in \u001b[0;36m_passthrough_scorer\u001b[1;34m(estimator, *args, **kwargs)\u001b[0m\n\u001b[0;32m    239\u001b[0m \u001b[1;32mdef\u001b[0m \u001b[0m_passthrough_scorer\u001b[0m\u001b[1;33m(\u001b[0m\u001b[0mestimator\u001b[0m\u001b[1;33m,\u001b[0m \u001b[1;33m*\u001b[0m\u001b[0margs\u001b[0m\u001b[1;33m,\u001b[0m \u001b[1;33m**\u001b[0m\u001b[0mkwargs\u001b[0m\u001b[1;33m)\u001b[0m\u001b[1;33m:\u001b[0m\u001b[1;33m\u001b[0m\u001b[1;33m\u001b[0m\u001b[0m\n\u001b[0;32m    240\u001b[0m     \u001b[1;34m\"\"\"Function that wraps estimator.score\"\"\"\u001b[0m\u001b[1;33m\u001b[0m\u001b[1;33m\u001b[0m\u001b[0m\n\u001b[1;32m--> 241\u001b[1;33m     \u001b[1;32mreturn\u001b[0m \u001b[0mestimator\u001b[0m\u001b[1;33m.\u001b[0m\u001b[0mscore\u001b[0m\u001b[1;33m(\u001b[0m\u001b[1;33m*\u001b[0m\u001b[0margs\u001b[0m\u001b[1;33m,\u001b[0m \u001b[1;33m**\u001b[0m\u001b[0mkwargs\u001b[0m\u001b[1;33m)\u001b[0m\u001b[1;33m\u001b[0m\u001b[1;33m\u001b[0m\u001b[0m\n\u001b[0m\u001b[0;32m    242\u001b[0m \u001b[1;33m\u001b[0m\u001b[0m\n\u001b[0;32m    243\u001b[0m \u001b[1;33m\u001b[0m\u001b[0m\n",
      "\u001b[1;32m~\\AppData\\Local\\Continuum\\anaconda3\\lib\\site-packages\\sklearn\\base.py\u001b[0m in \u001b[0;36mscore\u001b[1;34m(self, X, y, sample_weight)\u001b[0m\n\u001b[0;32m    286\u001b[0m         \"\"\"\n\u001b[0;32m    287\u001b[0m         \u001b[1;32mfrom\u001b[0m \u001b[1;33m.\u001b[0m\u001b[0mmetrics\u001b[0m \u001b[1;32mimport\u001b[0m \u001b[0maccuracy_score\u001b[0m\u001b[1;33m\u001b[0m\u001b[1;33m\u001b[0m\u001b[0m\n\u001b[1;32m--> 288\u001b[1;33m         \u001b[1;32mreturn\u001b[0m \u001b[0maccuracy_score\u001b[0m\u001b[1;33m(\u001b[0m\u001b[0my\u001b[0m\u001b[1;33m,\u001b[0m \u001b[0mself\u001b[0m\u001b[1;33m.\u001b[0m\u001b[0mpredict\u001b[0m\u001b[1;33m(\u001b[0m\u001b[0mX\u001b[0m\u001b[1;33m)\u001b[0m\u001b[1;33m,\u001b[0m \u001b[0msample_weight\u001b[0m\u001b[1;33m=\u001b[0m\u001b[0msample_weight\u001b[0m\u001b[1;33m)\u001b[0m\u001b[1;33m\u001b[0m\u001b[1;33m\u001b[0m\u001b[0m\n\u001b[0m\u001b[0;32m    289\u001b[0m \u001b[1;33m\u001b[0m\u001b[0m\n\u001b[0;32m    290\u001b[0m \u001b[1;33m\u001b[0m\u001b[0m\n",
      "\u001b[1;32m~\\AppData\\Local\\Continuum\\anaconda3\\lib\\site-packages\\sklearn\\neighbors\\classification.py\u001b[0m in \u001b[0;36mpredict\u001b[1;34m(self, X)\u001b[0m\n\u001b[0;32m    147\u001b[0m         \u001b[0mX\u001b[0m \u001b[1;33m=\u001b[0m \u001b[0mcheck_array\u001b[0m\u001b[1;33m(\u001b[0m\u001b[0mX\u001b[0m\u001b[1;33m,\u001b[0m \u001b[0maccept_sparse\u001b[0m\u001b[1;33m=\u001b[0m\u001b[1;34m'csr'\u001b[0m\u001b[1;33m)\u001b[0m\u001b[1;33m\u001b[0m\u001b[1;33m\u001b[0m\u001b[0m\n\u001b[0;32m    148\u001b[0m \u001b[1;33m\u001b[0m\u001b[0m\n\u001b[1;32m--> 149\u001b[1;33m         \u001b[0mneigh_dist\u001b[0m\u001b[1;33m,\u001b[0m \u001b[0mneigh_ind\u001b[0m \u001b[1;33m=\u001b[0m \u001b[0mself\u001b[0m\u001b[1;33m.\u001b[0m\u001b[0mkneighbors\u001b[0m\u001b[1;33m(\u001b[0m\u001b[0mX\u001b[0m\u001b[1;33m)\u001b[0m\u001b[1;33m\u001b[0m\u001b[1;33m\u001b[0m\u001b[0m\n\u001b[0m\u001b[0;32m    150\u001b[0m         \u001b[0mclasses_\u001b[0m \u001b[1;33m=\u001b[0m \u001b[0mself\u001b[0m\u001b[1;33m.\u001b[0m\u001b[0mclasses_\u001b[0m\u001b[1;33m\u001b[0m\u001b[1;33m\u001b[0m\u001b[0m\n\u001b[0;32m    151\u001b[0m         \u001b[0m_y\u001b[0m \u001b[1;33m=\u001b[0m \u001b[0mself\u001b[0m\u001b[1;33m.\u001b[0m\u001b[0m_y\u001b[0m\u001b[1;33m\u001b[0m\u001b[1;33m\u001b[0m\u001b[0m\n",
      "\u001b[1;32m~\\AppData\\Local\\Continuum\\anaconda3\\lib\\site-packages\\sklearn\\neighbors\\base.py\u001b[0m in \u001b[0;36mkneighbors\u001b[1;34m(self, X, n_neighbors, return_distance)\u001b[0m\n\u001b[0;32m    453\u001b[0m                 delayed_query(\n\u001b[0;32m    454\u001b[0m                     self._tree, X[s], n_neighbors, return_distance)\n\u001b[1;32m--> 455\u001b[1;33m                 \u001b[1;32mfor\u001b[0m \u001b[0ms\u001b[0m \u001b[1;32min\u001b[0m \u001b[0mgen_even_slices\u001b[0m\u001b[1;33m(\u001b[0m\u001b[0mX\u001b[0m\u001b[1;33m.\u001b[0m\u001b[0mshape\u001b[0m\u001b[1;33m[\u001b[0m\u001b[1;36m0\u001b[0m\u001b[1;33m]\u001b[0m\u001b[1;33m,\u001b[0m \u001b[0mn_jobs\u001b[0m\u001b[1;33m)\u001b[0m\u001b[1;33m\u001b[0m\u001b[1;33m\u001b[0m\u001b[0m\n\u001b[0m\u001b[0;32m    456\u001b[0m             )\n\u001b[0;32m    457\u001b[0m         \u001b[1;32melse\u001b[0m\u001b[1;33m:\u001b[0m\u001b[1;33m\u001b[0m\u001b[1;33m\u001b[0m\u001b[0m\n",
      "\u001b[1;32m~\\AppData\\Local\\Continuum\\anaconda3\\lib\\site-packages\\sklearn\\externals\\joblib\\parallel.py\u001b[0m in \u001b[0;36m__call__\u001b[1;34m(self, iterable)\u001b[0m\n\u001b[0;32m    915\u001b[0m             \u001b[1;31m# remaining jobs.\u001b[0m\u001b[1;33m\u001b[0m\u001b[1;33m\u001b[0m\u001b[1;33m\u001b[0m\u001b[0m\n\u001b[0;32m    916\u001b[0m             \u001b[0mself\u001b[0m\u001b[1;33m.\u001b[0m\u001b[0m_iterating\u001b[0m \u001b[1;33m=\u001b[0m \u001b[1;32mFalse\u001b[0m\u001b[1;33m\u001b[0m\u001b[1;33m\u001b[0m\u001b[0m\n\u001b[1;32m--> 917\u001b[1;33m             \u001b[1;32mif\u001b[0m \u001b[0mself\u001b[0m\u001b[1;33m.\u001b[0m\u001b[0mdispatch_one_batch\u001b[0m\u001b[1;33m(\u001b[0m\u001b[0miterator\u001b[0m\u001b[1;33m)\u001b[0m\u001b[1;33m:\u001b[0m\u001b[1;33m\u001b[0m\u001b[1;33m\u001b[0m\u001b[0m\n\u001b[0m\u001b[0;32m    918\u001b[0m                 \u001b[0mself\u001b[0m\u001b[1;33m.\u001b[0m\u001b[0m_iterating\u001b[0m \u001b[1;33m=\u001b[0m \u001b[0mself\u001b[0m\u001b[1;33m.\u001b[0m\u001b[0m_original_iterator\u001b[0m \u001b[1;32mis\u001b[0m \u001b[1;32mnot\u001b[0m \u001b[1;32mNone\u001b[0m\u001b[1;33m\u001b[0m\u001b[1;33m\u001b[0m\u001b[0m\n\u001b[0;32m    919\u001b[0m \u001b[1;33m\u001b[0m\u001b[0m\n",
      "\u001b[1;32m~\\AppData\\Local\\Continuum\\anaconda3\\lib\\site-packages\\sklearn\\externals\\joblib\\parallel.py\u001b[0m in \u001b[0;36mdispatch_one_batch\u001b[1;34m(self, iterator)\u001b[0m\n\u001b[0;32m    757\u001b[0m                 \u001b[1;32mreturn\u001b[0m \u001b[1;32mFalse\u001b[0m\u001b[1;33m\u001b[0m\u001b[1;33m\u001b[0m\u001b[0m\n\u001b[0;32m    758\u001b[0m             \u001b[1;32melse\u001b[0m\u001b[1;33m:\u001b[0m\u001b[1;33m\u001b[0m\u001b[1;33m\u001b[0m\u001b[0m\n\u001b[1;32m--> 759\u001b[1;33m                 \u001b[0mself\u001b[0m\u001b[1;33m.\u001b[0m\u001b[0m_dispatch\u001b[0m\u001b[1;33m(\u001b[0m\u001b[0mtasks\u001b[0m\u001b[1;33m)\u001b[0m\u001b[1;33m\u001b[0m\u001b[1;33m\u001b[0m\u001b[0m\n\u001b[0m\u001b[0;32m    760\u001b[0m                 \u001b[1;32mreturn\u001b[0m \u001b[1;32mTrue\u001b[0m\u001b[1;33m\u001b[0m\u001b[1;33m\u001b[0m\u001b[0m\n\u001b[0;32m    761\u001b[0m \u001b[1;33m\u001b[0m\u001b[0m\n",
      "\u001b[1;32m~\\AppData\\Local\\Continuum\\anaconda3\\lib\\site-packages\\sklearn\\externals\\joblib\\parallel.py\u001b[0m in \u001b[0;36m_dispatch\u001b[1;34m(self, batch)\u001b[0m\n\u001b[0;32m    714\u001b[0m         \u001b[1;32mwith\u001b[0m \u001b[0mself\u001b[0m\u001b[1;33m.\u001b[0m\u001b[0m_lock\u001b[0m\u001b[1;33m:\u001b[0m\u001b[1;33m\u001b[0m\u001b[1;33m\u001b[0m\u001b[0m\n\u001b[0;32m    715\u001b[0m             \u001b[0mjob_idx\u001b[0m \u001b[1;33m=\u001b[0m \u001b[0mlen\u001b[0m\u001b[1;33m(\u001b[0m\u001b[0mself\u001b[0m\u001b[1;33m.\u001b[0m\u001b[0m_jobs\u001b[0m\u001b[1;33m)\u001b[0m\u001b[1;33m\u001b[0m\u001b[1;33m\u001b[0m\u001b[0m\n\u001b[1;32m--> 716\u001b[1;33m             \u001b[0mjob\u001b[0m \u001b[1;33m=\u001b[0m \u001b[0mself\u001b[0m\u001b[1;33m.\u001b[0m\u001b[0m_backend\u001b[0m\u001b[1;33m.\u001b[0m\u001b[0mapply_async\u001b[0m\u001b[1;33m(\u001b[0m\u001b[0mbatch\u001b[0m\u001b[1;33m,\u001b[0m \u001b[0mcallback\u001b[0m\u001b[1;33m=\u001b[0m\u001b[0mcb\u001b[0m\u001b[1;33m)\u001b[0m\u001b[1;33m\u001b[0m\u001b[1;33m\u001b[0m\u001b[0m\n\u001b[0m\u001b[0;32m    717\u001b[0m             \u001b[1;31m# A job can complete so quickly than its callback is\u001b[0m\u001b[1;33m\u001b[0m\u001b[1;33m\u001b[0m\u001b[1;33m\u001b[0m\u001b[0m\n\u001b[0;32m    718\u001b[0m             \u001b[1;31m# called before we get here, causing self._jobs to\u001b[0m\u001b[1;33m\u001b[0m\u001b[1;33m\u001b[0m\u001b[1;33m\u001b[0m\u001b[0m\n",
      "\u001b[1;32m~\\AppData\\Local\\Continuum\\anaconda3\\lib\\site-packages\\sklearn\\externals\\joblib\\_parallel_backends.py\u001b[0m in \u001b[0;36mapply_async\u001b[1;34m(self, func, callback)\u001b[0m\n\u001b[0;32m    180\u001b[0m     \u001b[1;32mdef\u001b[0m \u001b[0mapply_async\u001b[0m\u001b[1;33m(\u001b[0m\u001b[0mself\u001b[0m\u001b[1;33m,\u001b[0m \u001b[0mfunc\u001b[0m\u001b[1;33m,\u001b[0m \u001b[0mcallback\u001b[0m\u001b[1;33m=\u001b[0m\u001b[1;32mNone\u001b[0m\u001b[1;33m)\u001b[0m\u001b[1;33m:\u001b[0m\u001b[1;33m\u001b[0m\u001b[1;33m\u001b[0m\u001b[0m\n\u001b[0;32m    181\u001b[0m         \u001b[1;34m\"\"\"Schedule a func to be run\"\"\"\u001b[0m\u001b[1;33m\u001b[0m\u001b[1;33m\u001b[0m\u001b[0m\n\u001b[1;32m--> 182\u001b[1;33m         \u001b[0mresult\u001b[0m \u001b[1;33m=\u001b[0m \u001b[0mImmediateResult\u001b[0m\u001b[1;33m(\u001b[0m\u001b[0mfunc\u001b[0m\u001b[1;33m)\u001b[0m\u001b[1;33m\u001b[0m\u001b[1;33m\u001b[0m\u001b[0m\n\u001b[0m\u001b[0;32m    183\u001b[0m         \u001b[1;32mif\u001b[0m \u001b[0mcallback\u001b[0m\u001b[1;33m:\u001b[0m\u001b[1;33m\u001b[0m\u001b[1;33m\u001b[0m\u001b[0m\n\u001b[0;32m    184\u001b[0m             \u001b[0mcallback\u001b[0m\u001b[1;33m(\u001b[0m\u001b[0mresult\u001b[0m\u001b[1;33m)\u001b[0m\u001b[1;33m\u001b[0m\u001b[1;33m\u001b[0m\u001b[0m\n",
      "\u001b[1;32m~\\AppData\\Local\\Continuum\\anaconda3\\lib\\site-packages\\sklearn\\externals\\joblib\\_parallel_backends.py\u001b[0m in \u001b[0;36m__init__\u001b[1;34m(self, batch)\u001b[0m\n\u001b[0;32m    547\u001b[0m         \u001b[1;31m# Don't delay the application, to avoid keeping the input\u001b[0m\u001b[1;33m\u001b[0m\u001b[1;33m\u001b[0m\u001b[1;33m\u001b[0m\u001b[0m\n\u001b[0;32m    548\u001b[0m         \u001b[1;31m# arguments in memory\u001b[0m\u001b[1;33m\u001b[0m\u001b[1;33m\u001b[0m\u001b[1;33m\u001b[0m\u001b[0m\n\u001b[1;32m--> 549\u001b[1;33m         \u001b[0mself\u001b[0m\u001b[1;33m.\u001b[0m\u001b[0mresults\u001b[0m \u001b[1;33m=\u001b[0m \u001b[0mbatch\u001b[0m\u001b[1;33m(\u001b[0m\u001b[1;33m)\u001b[0m\u001b[1;33m\u001b[0m\u001b[1;33m\u001b[0m\u001b[0m\n\u001b[0m\u001b[0;32m    550\u001b[0m \u001b[1;33m\u001b[0m\u001b[0m\n\u001b[0;32m    551\u001b[0m     \u001b[1;32mdef\u001b[0m \u001b[0mget\u001b[0m\u001b[1;33m(\u001b[0m\u001b[0mself\u001b[0m\u001b[1;33m)\u001b[0m\u001b[1;33m:\u001b[0m\u001b[1;33m\u001b[0m\u001b[1;33m\u001b[0m\u001b[0m\n",
      "\u001b[1;32m~\\AppData\\Local\\Continuum\\anaconda3\\lib\\site-packages\\sklearn\\externals\\joblib\\parallel.py\u001b[0m in \u001b[0;36m__call__\u001b[1;34m(self)\u001b[0m\n\u001b[0;32m    223\u001b[0m         \u001b[1;32mwith\u001b[0m \u001b[0mparallel_backend\u001b[0m\u001b[1;33m(\u001b[0m\u001b[0mself\u001b[0m\u001b[1;33m.\u001b[0m\u001b[0m_backend\u001b[0m\u001b[1;33m,\u001b[0m \u001b[0mn_jobs\u001b[0m\u001b[1;33m=\u001b[0m\u001b[0mself\u001b[0m\u001b[1;33m.\u001b[0m\u001b[0m_n_jobs\u001b[0m\u001b[1;33m)\u001b[0m\u001b[1;33m:\u001b[0m\u001b[1;33m\u001b[0m\u001b[1;33m\u001b[0m\u001b[0m\n\u001b[0;32m    224\u001b[0m             return [func(*args, **kwargs)\n\u001b[1;32m--> 225\u001b[1;33m                     for func, args, kwargs in self.items]\n\u001b[0m\u001b[0;32m    226\u001b[0m \u001b[1;33m\u001b[0m\u001b[0m\n\u001b[0;32m    227\u001b[0m     \u001b[1;32mdef\u001b[0m \u001b[0m__len__\u001b[0m\u001b[1;33m(\u001b[0m\u001b[0mself\u001b[0m\u001b[1;33m)\u001b[0m\u001b[1;33m:\u001b[0m\u001b[1;33m\u001b[0m\u001b[1;33m\u001b[0m\u001b[0m\n",
      "\u001b[1;32m~\\AppData\\Local\\Continuum\\anaconda3\\lib\\site-packages\\sklearn\\externals\\joblib\\parallel.py\u001b[0m in \u001b[0;36m<listcomp>\u001b[1;34m(.0)\u001b[0m\n\u001b[0;32m    223\u001b[0m         \u001b[1;32mwith\u001b[0m \u001b[0mparallel_backend\u001b[0m\u001b[1;33m(\u001b[0m\u001b[0mself\u001b[0m\u001b[1;33m.\u001b[0m\u001b[0m_backend\u001b[0m\u001b[1;33m,\u001b[0m \u001b[0mn_jobs\u001b[0m\u001b[1;33m=\u001b[0m\u001b[0mself\u001b[0m\u001b[1;33m.\u001b[0m\u001b[0m_n_jobs\u001b[0m\u001b[1;33m)\u001b[0m\u001b[1;33m:\u001b[0m\u001b[1;33m\u001b[0m\u001b[1;33m\u001b[0m\u001b[0m\n\u001b[0;32m    224\u001b[0m             return [func(*args, **kwargs)\n\u001b[1;32m--> 225\u001b[1;33m                     for func, args, kwargs in self.items]\n\u001b[0m\u001b[0;32m    226\u001b[0m \u001b[1;33m\u001b[0m\u001b[0m\n\u001b[0;32m    227\u001b[0m     \u001b[1;32mdef\u001b[0m \u001b[0m__len__\u001b[0m\u001b[1;33m(\u001b[0m\u001b[0mself\u001b[0m\u001b[1;33m)\u001b[0m\u001b[1;33m:\u001b[0m\u001b[1;33m\u001b[0m\u001b[1;33m\u001b[0m\u001b[0m\n",
      "\u001b[1;32m~\\AppData\\Local\\Continuum\\anaconda3\\lib\\site-packages\\sklearn\\neighbors\\base.py\u001b[0m in \u001b[0;36m_tree_query_parallel_helper\u001b[1;34m(tree, data, n_neighbors, return_distance)\u001b[0m\n\u001b[0;32m    290\u001b[0m     \u001b[0munder\u001b[0m \u001b[0mPyPy\u001b[0m\u001b[1;33m.\u001b[0m\u001b[1;33m\u001b[0m\u001b[1;33m\u001b[0m\u001b[0m\n\u001b[0;32m    291\u001b[0m     \"\"\"\n\u001b[1;32m--> 292\u001b[1;33m     \u001b[1;32mreturn\u001b[0m \u001b[0mtree\u001b[0m\u001b[1;33m.\u001b[0m\u001b[0mquery\u001b[0m\u001b[1;33m(\u001b[0m\u001b[0mdata\u001b[0m\u001b[1;33m,\u001b[0m \u001b[0mn_neighbors\u001b[0m\u001b[1;33m,\u001b[0m \u001b[0mreturn_distance\u001b[0m\u001b[1;33m)\u001b[0m\u001b[1;33m\u001b[0m\u001b[1;33m\u001b[0m\u001b[0m\n\u001b[0m\u001b[0;32m    293\u001b[0m \u001b[1;33m\u001b[0m\u001b[0m\n\u001b[0;32m    294\u001b[0m \u001b[1;33m\u001b[0m\u001b[0m\n",
      "\u001b[1;31mKeyboardInterrupt\u001b[0m: "
     ]
    }
   ],
   "source": [
    "# KNeighbourClassifier Algorithm tuning\n",
    "k_values = numpy.array([3,5,7,9,11,13])\n",
    "param_grid = dict(n_neighbors=k_values)\n",
    "model = KNeighborsClassifier()\n",
    "kfold = KFold(n_splits=num_folds, random_state=seed)\n",
    "grid = GridSearchCV(estimator=model, param_grid=param_grid, cv=kfold)\n",
    "grid_result = grid.fit(X_train_sc, y_train)\n",
    "\n",
    "print(\"Best: %f using %s\" % (grid_result.best_score_, grid_result.best_params_))\n",
    "means = grid_result.cv_results_['mean_test_score']\n",
    "stds = grid_result.cv_results_['std_test_score']\n",
    "params = grid_result.cv_results_['params']\n",
    "for mean, stdev, param in zip(means, stds, params):\n",
    "    print(\"%f (%f) with: %r\" % (mean, stdev, param))"
   ]
  },
  {
   "cell_type": "code",
   "execution_count": 687,
   "metadata": {},
   "outputs": [
    {
     "data": {
      "text/plain": [
       "RandomForestClassifier(bootstrap=True, class_weight=None, criterion='entropy',\n",
       "            max_depth=None, max_features='auto', max_leaf_nodes=None,\n",
       "            min_impurity_decrease=0.0, min_impurity_split=None,\n",
       "            min_samples_leaf=1, min_samples_split=2,\n",
       "            min_weight_fraction_leaf=0.0, n_estimators=10, n_jobs=None,\n",
       "            oob_score=False, random_state=None, verbose=0,\n",
       "            warm_start=False)"
      ]
     },
     "execution_count": 687,
     "metadata": {},
     "output_type": "execute_result"
    }
   ],
   "source": [
    "#use the RandomForest Classifier\n",
    "classifier2 = RandomForestClassifier(n_estimators = 10, criterion = 'entropy')\n",
    "classifier2.fit(X_train_sc, y_train)"
   ]
  },
  {
   "cell_type": "code",
   "execution_count": 688,
   "metadata": {},
   "outputs": [],
   "source": [
    "y_pred2 = classifier2.predict(X_test_sc)#Using the parameter chosen"
   ]
  },
  {
   "cell_type": "code",
   "execution_count": 689,
   "metadata": {},
   "outputs": [],
   "source": [
    "cm2 = confusion_matrix(y_test, y_pred2)"
   ]
  },
  {
   "cell_type": "code",
   "execution_count": 690,
   "metadata": {},
   "outputs": [
    {
     "data": {
      "text/plain": [
       "array([[4735,   38],\n",
       "       [ 543,  711]], dtype=int64)"
      ]
     },
     "execution_count": 690,
     "metadata": {},
     "output_type": "execute_result"
    }
   ],
   "source": [
    "cm2"
   ]
  },
  {
   "cell_type": "code",
   "execution_count": 691,
   "metadata": {},
   "outputs": [
    {
     "data": {
      "text/plain": [
       "0.9036004645760743"
      ]
     },
     "execution_count": 691,
     "metadata": {},
     "output_type": "execute_result"
    }
   ],
   "source": [
    "(4735+711)/(4735+711+38+543)#90%accuracy"
   ]
  },
  {
   "cell_type": "markdown",
   "metadata": {},
   "source": [
    "### 4.  Make predictions on the test datasets"
   ]
  },
  {
   "cell_type": "code",
   "execution_count": 572,
   "metadata": {},
   "outputs": [],
   "source": [
    "df_test = pd.read_csv('exercise_02_test.csv')"
   ]
  },
  {
   "cell_type": "markdown",
   "metadata": {},
   "source": [
    "#### Exploration and Cleaning of test data"
   ]
  },
  {
   "cell_type": "code",
   "execution_count": 333,
   "metadata": {
    "scrolled": true
   },
   "outputs": [
    {
     "data": {
      "text/html": [
       "<div>\n",
       "<style scoped>\n",
       "    .dataframe tbody tr th:only-of-type {\n",
       "        vertical-align: middle;\n",
       "    }\n",
       "\n",
       "    .dataframe tbody tr th {\n",
       "        vertical-align: top;\n",
       "    }\n",
       "\n",
       "    .dataframe thead th {\n",
       "        text-align: right;\n",
       "    }\n",
       "</style>\n",
       "<table border=\"1\" class=\"dataframe\">\n",
       "  <thead>\n",
       "    <tr style=\"text-align: right;\">\n",
       "      <th></th>\n",
       "      <th>x0</th>\n",
       "      <th>x1</th>\n",
       "      <th>x2</th>\n",
       "      <th>x3</th>\n",
       "      <th>x4</th>\n",
       "      <th>x5</th>\n",
       "      <th>x6</th>\n",
       "      <th>x7</th>\n",
       "      <th>x8</th>\n",
       "      <th>x9</th>\n",
       "      <th>...</th>\n",
       "      <th>x90</th>\n",
       "      <th>x91</th>\n",
       "      <th>x92</th>\n",
       "      <th>x93</th>\n",
       "      <th>x94</th>\n",
       "      <th>x95</th>\n",
       "      <th>x96</th>\n",
       "      <th>x97</th>\n",
       "      <th>x98</th>\n",
       "      <th>x99</th>\n",
       "    </tr>\n",
       "  </thead>\n",
       "  <tbody>\n",
       "    <tr>\n",
       "      <th>0</th>\n",
       "      <td>6.625366</td>\n",
       "      <td>54.479467</td>\n",
       "      <td>15.285444</td>\n",
       "      <td>-0.794648</td>\n",
       "      <td>22.498346</td>\n",
       "      <td>-29.212209</td>\n",
       "      <td>1.435134</td>\n",
       "      <td>-4.551934</td>\n",
       "      <td>5.930404</td>\n",
       "      <td>-3.319388</td>\n",
       "      <td>...</td>\n",
       "      <td>-18.919238</td>\n",
       "      <td>1.774657</td>\n",
       "      <td>2.216406</td>\n",
       "      <td>america</td>\n",
       "      <td>0.987554</td>\n",
       "      <td>34.396477</td>\n",
       "      <td>-55.883515</td>\n",
       "      <td>13.739194</td>\n",
       "      <td>2.824056</td>\n",
       "      <td>1.141799</td>\n",
       "    </tr>\n",
       "    <tr>\n",
       "      <th>1</th>\n",
       "      <td>3.796927</td>\n",
       "      <td>-20.244923</td>\n",
       "      <td>-18.084196</td>\n",
       "      <td>-1.113454</td>\n",
       "      <td>-3.551728</td>\n",
       "      <td>-4.025589</td>\n",
       "      <td>1.971885</td>\n",
       "      <td>-1.965186</td>\n",
       "      <td>13.210722</td>\n",
       "      <td>-4.262240</td>\n",
       "      <td>...</td>\n",
       "      <td>33.878264</td>\n",
       "      <td>-1.027421</td>\n",
       "      <td>7.924785</td>\n",
       "      <td>asia</td>\n",
       "      <td>2.615088</td>\n",
       "      <td>15.038461</td>\n",
       "      <td>-13.110477</td>\n",
       "      <td>-13.018951</td>\n",
       "      <td>-5.069025</td>\n",
       "      <td>0.568757</td>\n",
       "    </tr>\n",
       "    <tr>\n",
       "      <th>2</th>\n",
       "      <td>31.875080</td>\n",
       "      <td>-61.467354</td>\n",
       "      <td>14.943580</td>\n",
       "      <td>0.979055</td>\n",
       "      <td>6.796937</td>\n",
       "      <td>-29.708041</td>\n",
       "      <td>4.778812</td>\n",
       "      <td>-2.682217</td>\n",
       "      <td>-17.122526</td>\n",
       "      <td>0.903299</td>\n",
       "      <td>...</td>\n",
       "      <td>-28.553940</td>\n",
       "      <td>1.755786</td>\n",
       "      <td>-0.325669</td>\n",
       "      <td>asia</td>\n",
       "      <td>-0.986222</td>\n",
       "      <td>-1.769850</td>\n",
       "      <td>-7.140415</td>\n",
       "      <td>0.791425</td>\n",
       "      <td>-3.224037</td>\n",
       "      <td>-0.816682</td>\n",
       "    </tr>\n",
       "    <tr>\n",
       "      <th>3</th>\n",
       "      <td>15.266588</td>\n",
       "      <td>-18.454831</td>\n",
       "      <td>1.105534</td>\n",
       "      <td>-2.718771</td>\n",
       "      <td>-5.511702</td>\n",
       "      <td>2.252314</td>\n",
       "      <td>-8.017649</td>\n",
       "      <td>3.635776</td>\n",
       "      <td>-13.024884</td>\n",
       "      <td>-1.751722</td>\n",
       "      <td>...</td>\n",
       "      <td>14.380384</td>\n",
       "      <td>-0.756253</td>\n",
       "      <td>5.930171</td>\n",
       "      <td>asia</td>\n",
       "      <td>-2.199690</td>\n",
       "      <td>-16.389740</td>\n",
       "      <td>-2.564346</td>\n",
       "      <td>-16.716012</td>\n",
       "      <td>5.559949</td>\n",
       "      <td>0.603007</td>\n",
       "    </tr>\n",
       "    <tr>\n",
       "      <th>4</th>\n",
       "      <td>-17.616761</td>\n",
       "      <td>15.810515</td>\n",
       "      <td>-17.972025</td>\n",
       "      <td>-1.995724</td>\n",
       "      <td>-23.112552</td>\n",
       "      <td>-15.899861</td>\n",
       "      <td>-17.054154</td>\n",
       "      <td>4.097427</td>\n",
       "      <td>-7.755402</td>\n",
       "      <td>-2.553410</td>\n",
       "      <td>...</td>\n",
       "      <td>-22.999896</td>\n",
       "      <td>-1.364063</td>\n",
       "      <td>1.207973</td>\n",
       "      <td>asia</td>\n",
       "      <td>1.694508</td>\n",
       "      <td>-4.086831</td>\n",
       "      <td>-28.709156</td>\n",
       "      <td>23.003355</td>\n",
       "      <td>-4.358594</td>\n",
       "      <td>1.929231</td>\n",
       "    </tr>\n",
       "  </tbody>\n",
       "</table>\n",
       "<p>5 rows × 100 columns</p>\n",
       "</div>"
      ],
      "text/plain": [
       "          x0         x1         x2        x3         x4         x5         x6  \\\n",
       "0   6.625366  54.479467  15.285444 -0.794648  22.498346 -29.212209   1.435134   \n",
       "1   3.796927 -20.244923 -18.084196 -1.113454  -3.551728  -4.025589   1.971885   \n",
       "2  31.875080 -61.467354  14.943580  0.979055   6.796937 -29.708041   4.778812   \n",
       "3  15.266588 -18.454831   1.105534 -2.718771  -5.511702   2.252314  -8.017649   \n",
       "4 -17.616761  15.810515 -17.972025 -1.995724 -23.112552 -15.899861 -17.054154   \n",
       "\n",
       "         x7         x8        x9    ...           x90       x91       x92  \\\n",
       "0 -4.551934   5.930404 -3.319388    ...    -18.919238  1.774657  2.216406   \n",
       "1 -1.965186  13.210722 -4.262240    ...     33.878264 -1.027421  7.924785   \n",
       "2 -2.682217 -17.122526  0.903299    ...    -28.553940  1.755786 -0.325669   \n",
       "3  3.635776 -13.024884 -1.751722    ...     14.380384 -0.756253  5.930171   \n",
       "4  4.097427  -7.755402 -2.553410    ...    -22.999896 -1.364063  1.207973   \n",
       "\n",
       "       x93       x94        x95        x96        x97       x98       x99  \n",
       "0  america  0.987554  34.396477 -55.883515  13.739194  2.824056  1.141799  \n",
       "1     asia  2.615088  15.038461 -13.110477 -13.018951 -5.069025  0.568757  \n",
       "2     asia -0.986222  -1.769850  -7.140415   0.791425 -3.224037 -0.816682  \n",
       "3     asia -2.199690 -16.389740  -2.564346 -16.716012  5.559949  0.603007  \n",
       "4     asia  1.694508  -4.086831 -28.709156  23.003355 -4.358594  1.929231  \n",
       "\n",
       "[5 rows x 100 columns]"
      ]
     },
     "execution_count": 333,
     "metadata": {},
     "output_type": "execute_result"
    }
   ],
   "source": [
    "df_test.head(5)"
   ]
  },
  {
   "cell_type": "code",
   "execution_count": 218,
   "metadata": {},
   "outputs": [
    {
     "data": {
      "text/plain": [
       "(10000, 100)"
      ]
     },
     "execution_count": 218,
     "metadata": {},
     "output_type": "execute_result"
    }
   ],
   "source": [
    "df_test.shape"
   ]
  },
  {
   "cell_type": "code",
   "execution_count": 223,
   "metadata": {},
   "outputs": [],
   "source": [
    "#df_test.isnull().sum()#Nunmber of null valuesin each column"
   ]
  },
  {
   "cell_type": "code",
   "execution_count": null,
   "metadata": {},
   "outputs": [],
   "source": [
    "#Fill null values with mean for float types, and median for obj types"
   ]
  },
  {
   "cell_type": "code",
   "execution_count": 477,
   "metadata": {},
   "outputs": [],
   "source": [
    "fill_mean = lambda col:col.fillna(col.mean())"
   ]
  },
  {
   "cell_type": "code",
   "execution_count": 611,
   "metadata": {},
   "outputs": [],
   "source": [
    "fill_mode = lambda col:col.fillna(stat.mode(col))"
   ]
  },
  {
   "cell_type": "code",
   "execution_count": null,
   "metadata": {},
   "outputs": [],
   "source": [
    "#df = df_train[~df_train.isna().any(axis = 1)]#Remove all instances of nan in the dataframe"
   ]
  },
  {
   "cell_type": "code",
   "execution_count": 573,
   "metadata": {},
   "outputs": [],
   "source": [
    "float_cols = list(df_test.select_dtypes(include = ['float']).copy().columns)"
   ]
  },
  {
   "cell_type": "code",
   "execution_count": 328,
   "metadata": {},
   "outputs": [
    {
     "data": {
      "text/plain": [
       "94"
      ]
     },
     "execution_count": 328,
     "metadata": {},
     "output_type": "execute_result"
    }
   ],
   "source": [
    "len(float_cols)"
   ]
  },
  {
   "cell_type": "code",
   "execution_count": 574,
   "metadata": {},
   "outputs": [],
   "source": [
    "float_types = df_test.select_dtypes(include = ['float']).copy()"
   ]
  },
  {
   "cell_type": "code",
   "execution_count": 576,
   "metadata": {},
   "outputs": [
    {
     "name": "stderr",
     "output_type": "stream",
     "text": [
      "C:\\Users\\chiji\\AppData\\Local\\Continuum\\anaconda3\\lib\\site-packages\\sklearn\\utils\\deprecation.py:58: DeprecationWarning: Class Imputer is deprecated; Imputer was deprecated in version 0.20 and will be removed in 0.22. Import impute.SimpleImputer from sklearn instead.\n",
      "  warnings.warn(msg, category=DeprecationWarning)\n"
     ]
    }
   ],
   "source": [
    "#Fill the missing values with mean for all the float_type columns\n",
    "from sklearn.preprocessing import Imputer\n",
    "imputer = Imputer(missing_values = 'NaN', strategy = 'mean', axis = 1)\n",
    "imputer = imputer.fit(float_types.loc[:, :])\n",
    "float_types.loc[:, :] = imputer.transform(float_types.loc[:, :])"
   ]
  },
  {
   "cell_type": "code",
   "execution_count": 578,
   "metadata": {},
   "outputs": [],
   "source": [
    "#float_types.isnull().sum()"
   ]
  },
  {
   "cell_type": "code",
   "execution_count": 343,
   "metadata": {},
   "outputs": [],
   "source": []
  },
  {
   "cell_type": "code",
   "execution_count": 344,
   "metadata": {},
   "outputs": [],
   "source": [
    "#float_types = df_test.select_dtypes(include = ['float']).copy()"
   ]
  },
  {
   "cell_type": "code",
   "execution_count": 479,
   "metadata": {},
   "outputs": [],
   "source": [
    "bg = float_types['x0'].fillna(fill_mean)"
   ]
  },
  {
   "cell_type": "code",
   "execution_count": 481,
   "metadata": {},
   "outputs": [
    {
     "data": {
      "text/plain": [
       "0"
      ]
     },
     "execution_count": 481,
     "metadata": {},
     "output_type": "execute_result"
    }
   ],
   "source": [
    "bg.isnull().sum()"
   ]
  },
  {
   "cell_type": "code",
   "execution_count": 345,
   "metadata": {
    "scrolled": true
   },
   "outputs": [
    {
     "data": {
      "text/html": [
       "<div>\n",
       "<style scoped>\n",
       "    .dataframe tbody tr th:only-of-type {\n",
       "        vertical-align: middle;\n",
       "    }\n",
       "\n",
       "    .dataframe tbody tr th {\n",
       "        vertical-align: top;\n",
       "    }\n",
       "\n",
       "    .dataframe thead th {\n",
       "        text-align: right;\n",
       "    }\n",
       "</style>\n",
       "<table border=\"1\" class=\"dataframe\">\n",
       "  <thead>\n",
       "    <tr style=\"text-align: right;\">\n",
       "      <th></th>\n",
       "      <th>x0</th>\n",
       "      <th>x1</th>\n",
       "      <th>x2</th>\n",
       "      <th>x3</th>\n",
       "      <th>x4</th>\n",
       "      <th>x5</th>\n",
       "      <th>x6</th>\n",
       "      <th>x7</th>\n",
       "      <th>x8</th>\n",
       "      <th>x9</th>\n",
       "      <th>...</th>\n",
       "      <th>x89</th>\n",
       "      <th>x90</th>\n",
       "      <th>x91</th>\n",
       "      <th>x92</th>\n",
       "      <th>x94</th>\n",
       "      <th>x95</th>\n",
       "      <th>x96</th>\n",
       "      <th>x97</th>\n",
       "      <th>x98</th>\n",
       "      <th>x99</th>\n",
       "    </tr>\n",
       "  </thead>\n",
       "  <tbody>\n",
       "    <tr>\n",
       "      <th>0</th>\n",
       "      <td>6.62537</td>\n",
       "      <td>54.4795</td>\n",
       "      <td>15.2854</td>\n",
       "      <td>-0.794648</td>\n",
       "      <td>22.498346</td>\n",
       "      <td>-29.2122</td>\n",
       "      <td>1.43513</td>\n",
       "      <td>-4.55193</td>\n",
       "      <td>5.9304</td>\n",
       "      <td>-3.31939</td>\n",
       "      <td>...</td>\n",
       "      <td>2.48715</td>\n",
       "      <td>-18.9192</td>\n",
       "      <td>1.77466</td>\n",
       "      <td>2.21641</td>\n",
       "      <td>0.987554</td>\n",
       "      <td>34.3965</td>\n",
       "      <td>-55.8835</td>\n",
       "      <td>13.739194</td>\n",
       "      <td>2.82406</td>\n",
       "      <td>1.1418</td>\n",
       "    </tr>\n",
       "    <tr>\n",
       "      <th>1</th>\n",
       "      <td>3.79693</td>\n",
       "      <td>-20.2449</td>\n",
       "      <td>-18.0842</td>\n",
       "      <td>-1.11345</td>\n",
       "      <td>-3.551728</td>\n",
       "      <td>-4.02559</td>\n",
       "      <td>1.97189</td>\n",
       "      <td>-1.96519</td>\n",
       "      <td>13.2107</td>\n",
       "      <td>-4.26224</td>\n",
       "      <td>...</td>\n",
       "      <td>0.0819481</td>\n",
       "      <td>33.8783</td>\n",
       "      <td>-1.02742</td>\n",
       "      <td>7.92478</td>\n",
       "      <td>2.61509</td>\n",
       "      <td>15.0385</td>\n",
       "      <td>-13.1105</td>\n",
       "      <td>-13.018951</td>\n",
       "      <td>-5.06902</td>\n",
       "      <td>0.568757</td>\n",
       "    </tr>\n",
       "    <tr>\n",
       "      <th>2</th>\n",
       "      <td>31.8751</td>\n",
       "      <td>-61.4674</td>\n",
       "      <td>14.9436</td>\n",
       "      <td>0.979055</td>\n",
       "      <td>6.796937</td>\n",
       "      <td>-29.708</td>\n",
       "      <td>4.77881</td>\n",
       "      <td>-2.68222</td>\n",
       "      <td>-17.1225</td>\n",
       "      <td>0.903299</td>\n",
       "      <td>...</td>\n",
       "      <td>-1.42048</td>\n",
       "      <td>-28.5539</td>\n",
       "      <td>1.75579</td>\n",
       "      <td>-0.325669</td>\n",
       "      <td>-0.986222</td>\n",
       "      <td>-1.76985</td>\n",
       "      <td>-7.14042</td>\n",
       "      <td>0.791425</td>\n",
       "      <td>-3.22404</td>\n",
       "      <td>-0.816682</td>\n",
       "    </tr>\n",
       "    <tr>\n",
       "      <th>3</th>\n",
       "      <td>15.2666</td>\n",
       "      <td>-18.4548</td>\n",
       "      <td>1.10553</td>\n",
       "      <td>-2.71877</td>\n",
       "      <td>-5.511702</td>\n",
       "      <td>2.25231</td>\n",
       "      <td>-8.01765</td>\n",
       "      <td>3.63578</td>\n",
       "      <td>-13.0249</td>\n",
       "      <td>-1.75172</td>\n",
       "      <td>...</td>\n",
       "      <td>4.78696</td>\n",
       "      <td>14.3804</td>\n",
       "      <td>-0.756253</td>\n",
       "      <td>5.93017</td>\n",
       "      <td>-2.19969</td>\n",
       "      <td>-16.3897</td>\n",
       "      <td>-2.56435</td>\n",
       "      <td>-16.716012</td>\n",
       "      <td>5.55995</td>\n",
       "      <td>0.603007</td>\n",
       "    </tr>\n",
       "    <tr>\n",
       "      <th>4</th>\n",
       "      <td>-17.6168</td>\n",
       "      <td>15.8105</td>\n",
       "      <td>-17.972</td>\n",
       "      <td>-1.99572</td>\n",
       "      <td>-23.112552</td>\n",
       "      <td>-15.8999</td>\n",
       "      <td>-17.0542</td>\n",
       "      <td>4.09743</td>\n",
       "      <td>-7.7554</td>\n",
       "      <td>-2.55341</td>\n",
       "      <td>...</td>\n",
       "      <td>-2.24521</td>\n",
       "      <td>-22.9999</td>\n",
       "      <td>-1.36406</td>\n",
       "      <td>1.20797</td>\n",
       "      <td>1.69451</td>\n",
       "      <td>-4.08683</td>\n",
       "      <td>-28.7092</td>\n",
       "      <td>23.003355</td>\n",
       "      <td>-4.35859</td>\n",
       "      <td>1.92923</td>\n",
       "    </tr>\n",
       "  </tbody>\n",
       "</table>\n",
       "<p>5 rows × 94 columns</p>\n",
       "</div>"
      ],
      "text/plain": [
       "        x0       x1       x2        x3         x4       x5       x6       x7  \\\n",
       "0  6.62537  54.4795  15.2854 -0.794648  22.498346 -29.2122  1.43513 -4.55193   \n",
       "1  3.79693 -20.2449 -18.0842  -1.11345  -3.551728 -4.02559  1.97189 -1.96519   \n",
       "2  31.8751 -61.4674  14.9436  0.979055   6.796937  -29.708  4.77881 -2.68222   \n",
       "3  15.2666 -18.4548  1.10553  -2.71877  -5.511702  2.25231 -8.01765  3.63578   \n",
       "4 -17.6168  15.8105  -17.972  -1.99572 -23.112552 -15.8999 -17.0542  4.09743   \n",
       "\n",
       "        x8        x9    ...           x89      x90       x91       x92  \\\n",
       "0   5.9304  -3.31939    ...       2.48715 -18.9192   1.77466   2.21641   \n",
       "1  13.2107  -4.26224    ...     0.0819481  33.8783  -1.02742   7.92478   \n",
       "2 -17.1225  0.903299    ...      -1.42048 -28.5539   1.75579 -0.325669   \n",
       "3 -13.0249  -1.75172    ...       4.78696  14.3804 -0.756253   5.93017   \n",
       "4  -7.7554  -2.55341    ...      -2.24521 -22.9999  -1.36406   1.20797   \n",
       "\n",
       "        x94      x95      x96        x97      x98       x99  \n",
       "0  0.987554  34.3965 -55.8835  13.739194  2.82406    1.1418  \n",
       "1   2.61509  15.0385 -13.1105 -13.018951 -5.06902  0.568757  \n",
       "2 -0.986222 -1.76985 -7.14042   0.791425 -3.22404 -0.816682  \n",
       "3  -2.19969 -16.3897 -2.56435 -16.716012  5.55995  0.603007  \n",
       "4   1.69451 -4.08683 -28.7092  23.003355 -4.35859   1.92923  \n",
       "\n",
       "[5 rows x 94 columns]"
      ]
     },
     "execution_count": 345,
     "metadata": {},
     "output_type": "execute_result"
    }
   ],
   "source": [
    "float_types.head()"
   ]
  },
  {
   "cell_type": "code",
   "execution_count": 488,
   "metadata": {},
   "outputs": [],
   "source": [
    "#float_types.isnull().sum()"
   ]
  },
  {
   "cell_type": "code",
   "execution_count": 489,
   "metadata": {},
   "outputs": [
    {
     "data": {
      "text/plain": [
       "(10000, 94)"
      ]
     },
     "execution_count": 489,
     "metadata": {},
     "output_type": "execute_result"
    }
   ],
   "source": [
    "float_types.shape"
   ]
  },
  {
   "cell_type": "code",
   "execution_count": 579,
   "metadata": {},
   "outputs": [],
   "source": [
    "obj_cols = list(df_test.select_dtypes(include = ['object']).copy().columns)#Select columns with categorical datasets"
   ]
  },
  {
   "cell_type": "code",
   "execution_count": 597,
   "metadata": {},
   "outputs": [],
   "source": [
    "obj_types = df_test.select_dtypes(include = ['object']).copy()#Select columns with categorical datasets"
   ]
  },
  {
   "cell_type": "code",
   "execution_count": 686,
   "metadata": {},
   "outputs": [],
   "source": [
    "#stat.mode(obj_types['x68'])"
   ]
  },
  {
   "cell_type": "code",
   "execution_count": 598,
   "metadata": {},
   "outputs": [
    {
     "data": {
      "text/html": [
       "<div>\n",
       "<style scoped>\n",
       "    .dataframe tbody tr th:only-of-type {\n",
       "        vertical-align: middle;\n",
       "    }\n",
       "\n",
       "    .dataframe tbody tr th {\n",
       "        vertical-align: top;\n",
       "    }\n",
       "\n",
       "    .dataframe thead th {\n",
       "        text-align: right;\n",
       "    }\n",
       "</style>\n",
       "<table border=\"1\" class=\"dataframe\">\n",
       "  <thead>\n",
       "    <tr style=\"text-align: right;\">\n",
       "      <th></th>\n",
       "      <th>x34</th>\n",
       "      <th>x35</th>\n",
       "      <th>x41</th>\n",
       "      <th>x45</th>\n",
       "      <th>x68</th>\n",
       "      <th>x93</th>\n",
       "    </tr>\n",
       "  </thead>\n",
       "  <tbody>\n",
       "    <tr>\n",
       "      <th>0</th>\n",
       "      <td>volkswagon</td>\n",
       "      <td>wed</td>\n",
       "      <td>$2475.46</td>\n",
       "      <td>-0.01%</td>\n",
       "      <td>Aug</td>\n",
       "      <td>america</td>\n",
       "    </tr>\n",
       "    <tr>\n",
       "      <th>1</th>\n",
       "      <td>bmw</td>\n",
       "      <td>thurday</td>\n",
       "      <td>$-1109.1</td>\n",
       "      <td>0.0%</td>\n",
       "      <td>Jun</td>\n",
       "      <td>asia</td>\n",
       "    </tr>\n",
       "    <tr>\n",
       "      <th>2</th>\n",
       "      <td>volkswagon</td>\n",
       "      <td>thurday</td>\n",
       "      <td>$-187.7</td>\n",
       "      <td>-0.0%</td>\n",
       "      <td>sept.</td>\n",
       "      <td>asia</td>\n",
       "    </tr>\n",
       "    <tr>\n",
       "      <th>3</th>\n",
       "      <td>Toyota</td>\n",
       "      <td>wednesday</td>\n",
       "      <td>$525.65</td>\n",
       "      <td>0.01%</td>\n",
       "      <td>July</td>\n",
       "      <td>asia</td>\n",
       "    </tr>\n",
       "    <tr>\n",
       "      <th>4</th>\n",
       "      <td>Toyota</td>\n",
       "      <td>thurday</td>\n",
       "      <td>$-1113.53</td>\n",
       "      <td>0.0%</td>\n",
       "      <td>Apr</td>\n",
       "      <td>asia</td>\n",
       "    </tr>\n",
       "  </tbody>\n",
       "</table>\n",
       "</div>"
      ],
      "text/plain": [
       "          x34        x35        x41     x45    x68      x93\n",
       "0  volkswagon        wed   $2475.46  -0.01%    Aug  america\n",
       "1         bmw    thurday   $-1109.1    0.0%    Jun     asia\n",
       "2  volkswagon    thurday    $-187.7   -0.0%  sept.     asia\n",
       "3      Toyota  wednesday    $525.65   0.01%   July     asia\n",
       "4      Toyota    thurday  $-1113.53    0.0%    Apr     asia"
      ]
     },
     "execution_count": 598,
     "metadata": {},
     "output_type": "execute_result"
    }
   ],
   "source": [
    "obj_types.head()"
   ]
  },
  {
   "cell_type": "code",
   "execution_count": 613,
   "metadata": {},
   "outputs": [],
   "source": [
    "#Replace the missing values in the categorical columns with the most frequently occurring\n",
    "obj_types2 = obj_types.apply(fill_mode,axis = 0)#This replaced NaN with the most frequent"
   ]
  },
  {
   "cell_type": "code",
   "execution_count": 615,
   "metadata": {},
   "outputs": [
    {
     "data": {
      "text/plain": [
       "volkswagon    3236\n",
       "Toyota        2616\n",
       "bmw           1844\n",
       "Honda         1293\n",
       "tesla          583\n",
       "chrystler      281\n",
       "nissan          95\n",
       "ford            40\n",
       "mercades        10\n",
       "chevrolet        2\n",
       "Name: x34, dtype: int64"
      ]
     },
     "execution_count": 615,
     "metadata": {},
     "output_type": "execute_result"
    }
   ],
   "source": [
    "obj_types2['x34'].value_counts()"
   ]
  },
  {
   "cell_type": "code",
   "execution_count": 592,
   "metadata": {},
   "outputs": [],
   "source": [
    "#obj_types[obj_types.isnull()]"
   ]
  },
  {
   "cell_type": "code",
   "execution_count": 617,
   "metadata": {},
   "outputs": [],
   "source": [
    "df_test1 = pd.concat([float_types,obj_types2], axis = 1)#combine the two dataframes"
   ]
  },
  {
   "cell_type": "code",
   "execution_count": 618,
   "metadata": {},
   "outputs": [
    {
     "data": {
      "text/plain": [
       "(10000, 100)"
      ]
     },
     "execution_count": 618,
     "metadata": {},
     "output_type": "execute_result"
    }
   ],
   "source": [
    "df_test1.shape"
   ]
  },
  {
   "cell_type": "code",
   "execution_count": 620,
   "metadata": {},
   "outputs": [],
   "source": [
    "#df_test1.isnull().sum()"
   ]
  },
  {
   "cell_type": "code",
   "execution_count": 357,
   "metadata": {},
   "outputs": [],
   "source": [
    "#df_test['x0'].mode()"
   ]
  },
  {
   "cell_type": "code",
   "execution_count": 291,
   "metadata": {},
   "outputs": [],
   "source": [
    "import statistics as stat"
   ]
  },
  {
   "cell_type": "code",
   "execution_count": 272,
   "metadata": {},
   "outputs": [
    {
     "data": {
      "text/plain": [
       "'-1109.1'"
      ]
     },
     "execution_count": 272,
     "metadata": {},
     "output_type": "execute_result"
    }
   ],
   "source": [
    "df_test['x41'][1]"
   ]
  },
  {
   "cell_type": "code",
   "execution_count": 271,
   "metadata": {},
   "outputs": [
    {
     "data": {
      "text/plain": [
       "pandas.core.series.Series"
      ]
     },
     "execution_count": 271,
     "metadata": {},
     "output_type": "execute_result"
    }
   ],
   "source": [
    "type(df_test['x41'])"
   ]
  },
  {
   "cell_type": "code",
   "execution_count": 368,
   "metadata": {},
   "outputs": [
    {
     "data": {
      "text/plain": [
       "wednesday    5241\n",
       "thursday     4402\n",
       "tuesday       218\n",
       "friday        126\n",
       "monday         13\n",
       "Name: x35, dtype: int64"
      ]
     },
     "execution_count": 368,
     "metadata": {},
     "output_type": "execute_result"
    }
   ],
   "source": [
    "df_test['x35'].value_counts()"
   ]
  },
  {
   "cell_type": "code",
   "execution_count": 227,
   "metadata": {},
   "outputs": [],
   "source": [
    "#df_test['x41']"
   ]
  },
  {
   "cell_type": "code",
   "execution_count": 240,
   "metadata": {},
   "outputs": [],
   "source": [
    "removeSign = lambda x: x[1:]#Remove first element of an element"
   ]
  },
  {
   "cell_type": "code",
   "execution_count": null,
   "metadata": {},
   "outputs": [],
   "source": [
    "#obj_types2['x41'] = obj_types2['x41'].apply(removeSign).astype(float)#Changed to float type, and remove the sign"
   ]
  },
  {
   "cell_type": "code",
   "execution_count": 621,
   "metadata": {},
   "outputs": [],
   "source": [
    "change_val = lambda x:'Dec' if x=='Dev' else x#Change the value of a given element, say Dev to December, thur to Thursday"
   ]
  },
  {
   "cell_type": "code",
   "execution_count": 629,
   "metadata": {},
   "outputs": [],
   "source": [
    "change_val = lambda x:'thursday' if x=='thurday' else x#Change the value of a given element, say Dev to December, thur to Thursday"
   ]
  },
  {
   "cell_type": "code",
   "execution_count": 622,
   "metadata": {},
   "outputs": [],
   "source": [
    "df_test1['x68'] = df_test1['x68'].apply(change_val)"
   ]
  },
  {
   "cell_type": "code",
   "execution_count": 630,
   "metadata": {},
   "outputs": [],
   "source": [
    "df_test1['x35'] = df_test1['x35'].apply(change_val)"
   ]
  },
  {
   "cell_type": "code",
   "execution_count": 631,
   "metadata": {},
   "outputs": [
    {
     "data": {
      "text/plain": [
       "wednesday    5241\n",
       "thursday     4402\n",
       "tuesday       218\n",
       "friday        126\n",
       "monday         13\n",
       "Name: x35, dtype: int64"
      ]
     },
     "execution_count": 631,
     "metadata": {},
     "output_type": "execute_result"
    }
   ],
   "source": [
    "df_test1['x35'].value_counts()"
   ]
  },
  {
   "cell_type": "code",
   "execution_count": 399,
   "metadata": {},
   "outputs": [
    {
     "data": {
      "text/plain": [
       "dtype('O')"
      ]
     },
     "execution_count": 399,
     "metadata": {},
     "output_type": "execute_result"
    }
   ],
   "source": [
    "df_test1['x41'].dtypes"
   ]
  },
  {
   "cell_type": "code",
   "execution_count": 632,
   "metadata": {},
   "outputs": [],
   "source": [
    "df_test1['x41'] = df_test1['x41'].apply(removeSign)#Changed to float type, and remove the sign"
   ]
  },
  {
   "cell_type": "code",
   "execution_count": null,
   "metadata": {},
   "outputs": [],
   "source": [
    "df['x68'] = df['x68'].apply(change_val)\n",
    "#obj_types['x41'] = obj_types['x41'].apply(removLast).astype(float)"
   ]
  },
  {
   "cell_type": "code",
   "execution_count": 635,
   "metadata": {},
   "outputs": [],
   "source": [
    "#df_test1['x41'] = df_test1['x41'].apply(pd.to_numeric, errors='coerce')"
   ]
  },
  {
   "cell_type": "code",
   "execution_count": 633,
   "metadata": {},
   "outputs": [],
   "source": [
    "df_test1['x41'] = df_test1['x41'].astype('float')"
   ]
  },
  {
   "cell_type": "code",
   "execution_count": 634,
   "metadata": {},
   "outputs": [
    {
     "data": {
      "text/plain": [
       "dtype('float64')"
      ]
     },
     "execution_count": 634,
     "metadata": {},
     "output_type": "execute_result"
    }
   ],
   "source": [
    "df_test1['x41'].dtype"
   ]
  },
  {
   "cell_type": "code",
   "execution_count": 403,
   "metadata": {},
   "outputs": [],
   "source": [
    "#function <lambda> at 0x000001F08FFD19D8>"
   ]
  },
  {
   "cell_type": "code",
   "execution_count": 413,
   "metadata": {},
   "outputs": [
    {
     "data": {
      "text/plain": [
       "'-0.01%'"
      ]
     },
     "execution_count": 413,
     "metadata": {},
     "output_type": "execute_result"
    }
   ],
   "source": [
    "df_test1['x45'][0]"
   ]
  },
  {
   "cell_type": "code",
   "execution_count": 640,
   "metadata": {},
   "outputs": [],
   "source": [
    "df_test1['x45'] = df_test1['x45'].astype('float')#Changed to str type,"
   ]
  },
  {
   "cell_type": "code",
   "execution_count": 636,
   "metadata": {},
   "outputs": [],
   "source": [
    "df_test1['x45'] = df_test1['x45'].apply(removeLast)# and remove the sign"
   ]
  },
  {
   "cell_type": "code",
   "execution_count": 638,
   "metadata": {},
   "outputs": [],
   "source": [
    "df_test1['x45'] = df_test1['x45'].apply(pd.to_numeric, errors='coerce')# and remove the sign"
   ]
  },
  {
   "cell_type": "code",
   "execution_count": 408,
   "metadata": {},
   "outputs": [],
   "source": [
    "removeLast = lambda x: x[:-1]#Remove last memeber of an element"
   ]
  },
  {
   "cell_type": "code",
   "execution_count": 641,
   "metadata": {},
   "outputs": [
    {
     "data": {
      "text/plain": [
       " 0.00    3876\n",
       " 0.01    2430\n",
       "-0.01    2365\n",
       " 0.02     602\n",
       "-0.02     597\n",
       "-0.03      64\n",
       " 0.03      61\n",
       " 0.04       3\n",
       "-0.04       2\n",
       "Name: x45, dtype: int64"
      ]
     },
     "execution_count": 641,
     "metadata": {},
     "output_type": "execute_result"
    }
   ],
   "source": [
    "df_test1['x45'].value_counts()"
   ]
  },
  {
   "cell_type": "code",
   "execution_count": 642,
   "metadata": {},
   "outputs": [
    {
     "data": {
      "text/html": [
       "<div>\n",
       "<style scoped>\n",
       "    .dataframe tbody tr th:only-of-type {\n",
       "        vertical-align: middle;\n",
       "    }\n",
       "\n",
       "    .dataframe tbody tr th {\n",
       "        vertical-align: top;\n",
       "    }\n",
       "\n",
       "    .dataframe thead th {\n",
       "        text-align: right;\n",
       "    }\n",
       "</style>\n",
       "<table border=\"1\" class=\"dataframe\">\n",
       "  <thead>\n",
       "    <tr style=\"text-align: right;\">\n",
       "      <th></th>\n",
       "      <th>x0</th>\n",
       "      <th>x1</th>\n",
       "      <th>x2</th>\n",
       "      <th>x3</th>\n",
       "      <th>x4</th>\n",
       "      <th>x5</th>\n",
       "      <th>x6</th>\n",
       "      <th>x7</th>\n",
       "      <th>x8</th>\n",
       "      <th>x9</th>\n",
       "      <th>...</th>\n",
       "      <th>x96</th>\n",
       "      <th>x97</th>\n",
       "      <th>x98</th>\n",
       "      <th>x99</th>\n",
       "      <th>x34</th>\n",
       "      <th>x35</th>\n",
       "      <th>x41</th>\n",
       "      <th>x45</th>\n",
       "      <th>x68</th>\n",
       "      <th>x93</th>\n",
       "    </tr>\n",
       "  </thead>\n",
       "  <tbody>\n",
       "    <tr>\n",
       "      <th>0</th>\n",
       "      <td>6.625366</td>\n",
       "      <td>54.479467</td>\n",
       "      <td>15.285444</td>\n",
       "      <td>-0.794648</td>\n",
       "      <td>22.498346</td>\n",
       "      <td>-29.212209</td>\n",
       "      <td>1.435134</td>\n",
       "      <td>-4.551934</td>\n",
       "      <td>5.930404</td>\n",
       "      <td>-3.319388</td>\n",
       "      <td>...</td>\n",
       "      <td>-55.883515</td>\n",
       "      <td>13.739194</td>\n",
       "      <td>2.824056</td>\n",
       "      <td>1.141799</td>\n",
       "      <td>volkswagon</td>\n",
       "      <td>wednesday</td>\n",
       "      <td>2475.46</td>\n",
       "      <td>-0.01</td>\n",
       "      <td>Aug</td>\n",
       "      <td>america</td>\n",
       "    </tr>\n",
       "    <tr>\n",
       "      <th>1</th>\n",
       "      <td>3.796927</td>\n",
       "      <td>-20.244923</td>\n",
       "      <td>-18.084196</td>\n",
       "      <td>-1.113454</td>\n",
       "      <td>-3.551728</td>\n",
       "      <td>-4.025589</td>\n",
       "      <td>1.971885</td>\n",
       "      <td>-1.965186</td>\n",
       "      <td>13.210722</td>\n",
       "      <td>-4.262240</td>\n",
       "      <td>...</td>\n",
       "      <td>-13.110477</td>\n",
       "      <td>-13.018951</td>\n",
       "      <td>-5.069025</td>\n",
       "      <td>0.568757</td>\n",
       "      <td>bmw</td>\n",
       "      <td>thursday</td>\n",
       "      <td>-1109.10</td>\n",
       "      <td>0.00</td>\n",
       "      <td>Jun</td>\n",
       "      <td>asia</td>\n",
       "    </tr>\n",
       "    <tr>\n",
       "      <th>2</th>\n",
       "      <td>31.875080</td>\n",
       "      <td>-61.467354</td>\n",
       "      <td>14.943580</td>\n",
       "      <td>0.979055</td>\n",
       "      <td>6.796937</td>\n",
       "      <td>-29.708041</td>\n",
       "      <td>4.778812</td>\n",
       "      <td>-2.682217</td>\n",
       "      <td>-17.122526</td>\n",
       "      <td>0.903299</td>\n",
       "      <td>...</td>\n",
       "      <td>-7.140415</td>\n",
       "      <td>0.791425</td>\n",
       "      <td>-3.224037</td>\n",
       "      <td>-0.816682</td>\n",
       "      <td>volkswagon</td>\n",
       "      <td>thursday</td>\n",
       "      <td>-187.70</td>\n",
       "      <td>-0.00</td>\n",
       "      <td>sept.</td>\n",
       "      <td>asia</td>\n",
       "    </tr>\n",
       "    <tr>\n",
       "      <th>3</th>\n",
       "      <td>15.266588</td>\n",
       "      <td>-18.454831</td>\n",
       "      <td>1.105534</td>\n",
       "      <td>-2.718771</td>\n",
       "      <td>-5.511702</td>\n",
       "      <td>2.252314</td>\n",
       "      <td>-8.017649</td>\n",
       "      <td>3.635776</td>\n",
       "      <td>-13.024884</td>\n",
       "      <td>-1.751722</td>\n",
       "      <td>...</td>\n",
       "      <td>-2.564346</td>\n",
       "      <td>-16.716012</td>\n",
       "      <td>5.559949</td>\n",
       "      <td>0.603007</td>\n",
       "      <td>Toyota</td>\n",
       "      <td>wednesday</td>\n",
       "      <td>525.65</td>\n",
       "      <td>0.01</td>\n",
       "      <td>July</td>\n",
       "      <td>asia</td>\n",
       "    </tr>\n",
       "    <tr>\n",
       "      <th>4</th>\n",
       "      <td>-17.616761</td>\n",
       "      <td>15.810515</td>\n",
       "      <td>-17.972025</td>\n",
       "      <td>-1.995724</td>\n",
       "      <td>-23.112552</td>\n",
       "      <td>-15.899861</td>\n",
       "      <td>-17.054154</td>\n",
       "      <td>4.097427</td>\n",
       "      <td>-7.755402</td>\n",
       "      <td>-2.553410</td>\n",
       "      <td>...</td>\n",
       "      <td>-28.709156</td>\n",
       "      <td>23.003355</td>\n",
       "      <td>-4.358594</td>\n",
       "      <td>1.929231</td>\n",
       "      <td>Toyota</td>\n",
       "      <td>thursday</td>\n",
       "      <td>-1113.53</td>\n",
       "      <td>0.00</td>\n",
       "      <td>Apr</td>\n",
       "      <td>asia</td>\n",
       "    </tr>\n",
       "  </tbody>\n",
       "</table>\n",
       "<p>5 rows × 100 columns</p>\n",
       "</div>"
      ],
      "text/plain": [
       "          x0         x1         x2        x3         x4         x5         x6  \\\n",
       "0   6.625366  54.479467  15.285444 -0.794648  22.498346 -29.212209   1.435134   \n",
       "1   3.796927 -20.244923 -18.084196 -1.113454  -3.551728  -4.025589   1.971885   \n",
       "2  31.875080 -61.467354  14.943580  0.979055   6.796937 -29.708041   4.778812   \n",
       "3  15.266588 -18.454831   1.105534 -2.718771  -5.511702   2.252314  -8.017649   \n",
       "4 -17.616761  15.810515 -17.972025 -1.995724 -23.112552 -15.899861 -17.054154   \n",
       "\n",
       "         x7         x8        x9   ...           x96        x97       x98  \\\n",
       "0 -4.551934   5.930404 -3.319388   ...    -55.883515  13.739194  2.824056   \n",
       "1 -1.965186  13.210722 -4.262240   ...    -13.110477 -13.018951 -5.069025   \n",
       "2 -2.682217 -17.122526  0.903299   ...     -7.140415   0.791425 -3.224037   \n",
       "3  3.635776 -13.024884 -1.751722   ...     -2.564346 -16.716012  5.559949   \n",
       "4  4.097427  -7.755402 -2.553410   ...    -28.709156  23.003355 -4.358594   \n",
       "\n",
       "        x99         x34        x35      x41   x45    x68      x93  \n",
       "0  1.141799  volkswagon  wednesday  2475.46 -0.01    Aug  america  \n",
       "1  0.568757         bmw   thursday -1109.10  0.00    Jun     asia  \n",
       "2 -0.816682  volkswagon   thursday  -187.70 -0.00  sept.     asia  \n",
       "3  0.603007      Toyota  wednesday   525.65  0.01   July     asia  \n",
       "4  1.929231      Toyota   thursday -1113.53  0.00    Apr     asia  \n",
       "\n",
       "[5 rows x 100 columns]"
      ]
     },
     "execution_count": 642,
     "metadata": {},
     "output_type": "execute_result"
    }
   ],
   "source": [
    "df_test1.head()"
   ]
  },
  {
   "cell_type": "code",
   "execution_count": 492,
   "metadata": {},
   "outputs": [],
   "source": [
    "#float1.isnull().sum()"
   ]
  },
  {
   "cell_type": "code",
   "execution_count": 555,
   "metadata": {},
   "outputs": [],
   "source": [
    "#df_test2['x34']"
   ]
  },
  {
   "cell_type": "code",
   "execution_count": 441,
   "metadata": {},
   "outputs": [],
   "source": [
    "df_test2['x34'] = df_test2['x34'].astype('str')"
   ]
  },
  {
   "cell_type": "code",
   "execution_count": 442,
   "metadata": {},
   "outputs": [],
   "source": [
    "df_test2['x35'] = df_test2['x35'].astype('str')"
   ]
  },
  {
   "cell_type": "code",
   "execution_count": 450,
   "metadata": {},
   "outputs": [],
   "source": [
    "df_test2['x68'] = df_test2['x68'].astype('str')"
   ]
  },
  {
   "cell_type": "code",
   "execution_count": 451,
   "metadata": {},
   "outputs": [],
   "source": [
    "df_test2['x93'] = df_test2['x93'].astype('str')"
   ]
  },
  {
   "cell_type": "code",
   "execution_count": 457,
   "metadata": {},
   "outputs": [],
   "source": [
    "#df_test2.isnull().sum()"
   ]
  },
  {
   "cell_type": "code",
   "execution_count": 542,
   "metadata": {},
   "outputs": [],
   "source": [
    "#df_float.isnull().sum()"
   ]
  },
  {
   "cell_type": "code",
   "execution_count": 522,
   "metadata": {},
   "outputs": [],
   "source": [
    "#df_float = df_float.astype('float')#Change all float types back to float type"
   ]
  },
  {
   "cell_type": "code",
   "execution_count": 540,
   "metadata": {},
   "outputs": [],
   "source": [
    "df_float = df_float.apply(pd.to_numeric, errors='coerce')#Change all float types back to float type"
   ]
  },
  {
   "cell_type": "code",
   "execution_count": 467,
   "metadata": {},
   "outputs": [],
   "source": [
    "#df_float.dtypes"
   ]
  },
  {
   "cell_type": "code",
   "execution_count": 644,
   "metadata": {},
   "outputs": [],
   "source": [
    "df_obj = df_test1.select_dtypes(include = ['object']).copy()"
   ]
  },
  {
   "cell_type": "code",
   "execution_count": 645,
   "metadata": {},
   "outputs": [
    {
     "data": {
      "text/html": [
       "<div>\n",
       "<style scoped>\n",
       "    .dataframe tbody tr th:only-of-type {\n",
       "        vertical-align: middle;\n",
       "    }\n",
       "\n",
       "    .dataframe tbody tr th {\n",
       "        vertical-align: top;\n",
       "    }\n",
       "\n",
       "    .dataframe thead th {\n",
       "        text-align: right;\n",
       "    }\n",
       "</style>\n",
       "<table border=\"1\" class=\"dataframe\">\n",
       "  <thead>\n",
       "    <tr style=\"text-align: right;\">\n",
       "      <th></th>\n",
       "      <th>x34</th>\n",
       "      <th>x35</th>\n",
       "      <th>x68</th>\n",
       "      <th>x93</th>\n",
       "    </tr>\n",
       "  </thead>\n",
       "  <tbody>\n",
       "    <tr>\n",
       "      <th>0</th>\n",
       "      <td>volkswagon</td>\n",
       "      <td>wednesday</td>\n",
       "      <td>Aug</td>\n",
       "      <td>america</td>\n",
       "    </tr>\n",
       "    <tr>\n",
       "      <th>1</th>\n",
       "      <td>bmw</td>\n",
       "      <td>thursday</td>\n",
       "      <td>Jun</td>\n",
       "      <td>asia</td>\n",
       "    </tr>\n",
       "    <tr>\n",
       "      <th>2</th>\n",
       "      <td>volkswagon</td>\n",
       "      <td>thursday</td>\n",
       "      <td>sept.</td>\n",
       "      <td>asia</td>\n",
       "    </tr>\n",
       "    <tr>\n",
       "      <th>3</th>\n",
       "      <td>Toyota</td>\n",
       "      <td>wednesday</td>\n",
       "      <td>July</td>\n",
       "      <td>asia</td>\n",
       "    </tr>\n",
       "    <tr>\n",
       "      <th>4</th>\n",
       "      <td>Toyota</td>\n",
       "      <td>thursday</td>\n",
       "      <td>Apr</td>\n",
       "      <td>asia</td>\n",
       "    </tr>\n",
       "  </tbody>\n",
       "</table>\n",
       "</div>"
      ],
      "text/plain": [
       "          x34        x35    x68      x93\n",
       "0  volkswagon  wednesday    Aug  america\n",
       "1         bmw   thursday    Jun     asia\n",
       "2  volkswagon   thursday  sept.     asia\n",
       "3      Toyota  wednesday   July     asia\n",
       "4      Toyota   thursday    Apr     asia"
      ]
     },
     "execution_count": 645,
     "metadata": {},
     "output_type": "execute_result"
    }
   ],
   "source": [
    "df_obj.head()"
   ]
  },
  {
   "cell_type": "markdown",
   "metadata": {},
   "source": [
    "Applying trained model to new dataset, predictions"
   ]
  },
  {
   "cell_type": "code",
   "execution_count": 652,
   "metadata": {},
   "outputs": [
    {
     "data": {
      "text/html": [
       "<div>\n",
       "<style scoped>\n",
       "    .dataframe tbody tr th:only-of-type {\n",
       "        vertical-align: middle;\n",
       "    }\n",
       "\n",
       "    .dataframe tbody tr th {\n",
       "        vertical-align: top;\n",
       "    }\n",
       "\n",
       "    .dataframe thead th {\n",
       "        text-align: right;\n",
       "    }\n",
       "</style>\n",
       "<table border=\"1\" class=\"dataframe\">\n",
       "  <thead>\n",
       "    <tr style=\"text-align: right;\">\n",
       "      <th></th>\n",
       "      <th>x0</th>\n",
       "      <th>x1</th>\n",
       "      <th>x2</th>\n",
       "      <th>x3</th>\n",
       "      <th>x4</th>\n",
       "      <th>x5</th>\n",
       "      <th>x6</th>\n",
       "      <th>x7</th>\n",
       "      <th>x8</th>\n",
       "      <th>x9</th>\n",
       "      <th>...</th>\n",
       "      <th>x96</th>\n",
       "      <th>x97</th>\n",
       "      <th>x98</th>\n",
       "      <th>x99</th>\n",
       "      <th>x34</th>\n",
       "      <th>x35</th>\n",
       "      <th>x41</th>\n",
       "      <th>x45</th>\n",
       "      <th>x68</th>\n",
       "      <th>x93</th>\n",
       "    </tr>\n",
       "  </thead>\n",
       "  <tbody>\n",
       "    <tr>\n",
       "      <th>0</th>\n",
       "      <td>6.625366</td>\n",
       "      <td>54.479467</td>\n",
       "      <td>15.285444</td>\n",
       "      <td>-0.794648</td>\n",
       "      <td>22.498346</td>\n",
       "      <td>-29.212209</td>\n",
       "      <td>1.435134</td>\n",
       "      <td>-4.551934</td>\n",
       "      <td>5.930404</td>\n",
       "      <td>-3.319388</td>\n",
       "      <td>...</td>\n",
       "      <td>-55.883515</td>\n",
       "      <td>13.739194</td>\n",
       "      <td>2.824056</td>\n",
       "      <td>1.141799</td>\n",
       "      <td>volkswagon</td>\n",
       "      <td>wednesday</td>\n",
       "      <td>2475.46</td>\n",
       "      <td>-0.01</td>\n",
       "      <td>Aug</td>\n",
       "      <td>america</td>\n",
       "    </tr>\n",
       "    <tr>\n",
       "      <th>1</th>\n",
       "      <td>3.796927</td>\n",
       "      <td>-20.244923</td>\n",
       "      <td>-18.084196</td>\n",
       "      <td>-1.113454</td>\n",
       "      <td>-3.551728</td>\n",
       "      <td>-4.025589</td>\n",
       "      <td>1.971885</td>\n",
       "      <td>-1.965186</td>\n",
       "      <td>13.210722</td>\n",
       "      <td>-4.262240</td>\n",
       "      <td>...</td>\n",
       "      <td>-13.110477</td>\n",
       "      <td>-13.018951</td>\n",
       "      <td>-5.069025</td>\n",
       "      <td>0.568757</td>\n",
       "      <td>bmw</td>\n",
       "      <td>thursday</td>\n",
       "      <td>-1109.10</td>\n",
       "      <td>0.00</td>\n",
       "      <td>Jun</td>\n",
       "      <td>asia</td>\n",
       "    </tr>\n",
       "    <tr>\n",
       "      <th>2</th>\n",
       "      <td>31.875080</td>\n",
       "      <td>-61.467354</td>\n",
       "      <td>14.943580</td>\n",
       "      <td>0.979055</td>\n",
       "      <td>6.796937</td>\n",
       "      <td>-29.708041</td>\n",
       "      <td>4.778812</td>\n",
       "      <td>-2.682217</td>\n",
       "      <td>-17.122526</td>\n",
       "      <td>0.903299</td>\n",
       "      <td>...</td>\n",
       "      <td>-7.140415</td>\n",
       "      <td>0.791425</td>\n",
       "      <td>-3.224037</td>\n",
       "      <td>-0.816682</td>\n",
       "      <td>volkswagon</td>\n",
       "      <td>thursday</td>\n",
       "      <td>-187.70</td>\n",
       "      <td>-0.00</td>\n",
       "      <td>sept.</td>\n",
       "      <td>asia</td>\n",
       "    </tr>\n",
       "    <tr>\n",
       "      <th>3</th>\n",
       "      <td>15.266588</td>\n",
       "      <td>-18.454831</td>\n",
       "      <td>1.105534</td>\n",
       "      <td>-2.718771</td>\n",
       "      <td>-5.511702</td>\n",
       "      <td>2.252314</td>\n",
       "      <td>-8.017649</td>\n",
       "      <td>3.635776</td>\n",
       "      <td>-13.024884</td>\n",
       "      <td>-1.751722</td>\n",
       "      <td>...</td>\n",
       "      <td>-2.564346</td>\n",
       "      <td>-16.716012</td>\n",
       "      <td>5.559949</td>\n",
       "      <td>0.603007</td>\n",
       "      <td>Toyota</td>\n",
       "      <td>wednesday</td>\n",
       "      <td>525.65</td>\n",
       "      <td>0.01</td>\n",
       "      <td>July</td>\n",
       "      <td>asia</td>\n",
       "    </tr>\n",
       "    <tr>\n",
       "      <th>4</th>\n",
       "      <td>-17.616761</td>\n",
       "      <td>15.810515</td>\n",
       "      <td>-17.972025</td>\n",
       "      <td>-1.995724</td>\n",
       "      <td>-23.112552</td>\n",
       "      <td>-15.899861</td>\n",
       "      <td>-17.054154</td>\n",
       "      <td>4.097427</td>\n",
       "      <td>-7.755402</td>\n",
       "      <td>-2.553410</td>\n",
       "      <td>...</td>\n",
       "      <td>-28.709156</td>\n",
       "      <td>23.003355</td>\n",
       "      <td>-4.358594</td>\n",
       "      <td>1.929231</td>\n",
       "      <td>Toyota</td>\n",
       "      <td>thursday</td>\n",
       "      <td>-1113.53</td>\n",
       "      <td>0.00</td>\n",
       "      <td>Apr</td>\n",
       "      <td>asia</td>\n",
       "    </tr>\n",
       "  </tbody>\n",
       "</table>\n",
       "<p>5 rows × 100 columns</p>\n",
       "</div>"
      ],
      "text/plain": [
       "          x0         x1         x2        x3         x4         x5         x6  \\\n",
       "0   6.625366  54.479467  15.285444 -0.794648  22.498346 -29.212209   1.435134   \n",
       "1   3.796927 -20.244923 -18.084196 -1.113454  -3.551728  -4.025589   1.971885   \n",
       "2  31.875080 -61.467354  14.943580  0.979055   6.796937 -29.708041   4.778812   \n",
       "3  15.266588 -18.454831   1.105534 -2.718771  -5.511702   2.252314  -8.017649   \n",
       "4 -17.616761  15.810515 -17.972025 -1.995724 -23.112552 -15.899861 -17.054154   \n",
       "\n",
       "         x7         x8        x9   ...           x96        x97       x98  \\\n",
       "0 -4.551934   5.930404 -3.319388   ...    -55.883515  13.739194  2.824056   \n",
       "1 -1.965186  13.210722 -4.262240   ...    -13.110477 -13.018951 -5.069025   \n",
       "2 -2.682217 -17.122526  0.903299   ...     -7.140415   0.791425 -3.224037   \n",
       "3  3.635776 -13.024884 -1.751722   ...     -2.564346 -16.716012  5.559949   \n",
       "4  4.097427  -7.755402 -2.553410   ...    -28.709156  23.003355 -4.358594   \n",
       "\n",
       "        x99         x34        x35      x41   x45    x68      x93  \n",
       "0  1.141799  volkswagon  wednesday  2475.46 -0.01    Aug  america  \n",
       "1  0.568757         bmw   thursday -1109.10  0.00    Jun     asia  \n",
       "2 -0.816682  volkswagon   thursday  -187.70 -0.00  sept.     asia  \n",
       "3  0.603007      Toyota  wednesday   525.65  0.01   July     asia  \n",
       "4  1.929231      Toyota   thursday -1113.53  0.00    Apr     asia  \n",
       "\n",
       "[5 rows x 100 columns]"
      ]
     },
     "execution_count": 652,
     "metadata": {},
     "output_type": "execute_result"
    }
   ],
   "source": [
    "df_test1.head()"
   ]
  },
  {
   "cell_type": "code",
   "execution_count": 662,
   "metadata": {},
   "outputs": [],
   "source": [
    "testX= df_test1.values"
   ]
  },
  {
   "cell_type": "code",
   "execution_count": 647,
   "metadata": {},
   "outputs": [
    {
     "data": {
      "text/plain": [
       "array([[6.62536557765316, 54.479467490258166, 15.285444095380859, ...,\n",
       "        -0.01, 'Aug', 'america'],\n",
       "       [3.7969268107379706, -20.24492264059579, -18.08419627272289, ...,\n",
       "        0.0, 'Jun', 'asia'],\n",
       "       [31.87508003131722, -61.46735367347271, 14.943579730380733, ...,\n",
       "        -0.0, 'sept.', 'asia'],\n",
       "       ...,\n",
       "       [30.593344977548565, 16.310726737360934, 7.145466518894635, ...,\n",
       "        0.0, 'Apr', 'asia'],\n",
       "       [22.669325119257987, 4.404143303525061, -41.70804043223945, ...,\n",
       "        -0.0, 'Aug', 'asia'],\n",
       "       [16.665982583375513, 16.531172047116005, -34.81955221334849, ...,\n",
       "        -0.0, 'July', 'asia']], dtype=object)"
      ]
     },
     "execution_count": 647,
     "metadata": {},
     "output_type": "execute_result"
    }
   ],
   "source": [
    "testX"
   ]
  },
  {
   "cell_type": "code",
   "execution_count": 651,
   "metadata": {},
   "outputs": [],
   "source": [
    "#set(testX[:, 96])"
   ]
  },
  {
   "cell_type": "code",
   "execution_count": 663,
   "metadata": {},
   "outputs": [],
   "source": [
    "# Encoding categorical data\n",
    "from sklearn.preprocessing import LabelEncoder, OneHotEncoder\n",
    "labelencoder_X_1 = LabelEncoder()\n",
    "testX[:, 94] = labelencoder_X_1.fit_transform(testX[:, 94])\n",
    "labelencoder_X_2 = LabelEncoder()\n",
    "testX[:, 95] = labelencoder_X_2.fit_transform(testX[:, 95])\n",
    "labelencoder_X_3 = LabelEncoder()\n",
    "testX[:, 98] = labelencoder_X_3.fit_transform(testX[:, 98])\n",
    "labelencoder_X_4 = LabelEncoder()\n",
    "testX[:, 99] = labelencoder_X_4.fit_transform(testX[:, 99])"
   ]
  },
  {
   "cell_type": "code",
   "execution_count": 655,
   "metadata": {},
   "outputs": [
    {
     "data": {
      "text/plain": [
       "{0, 1, 2, 3, 4, 5, 6, 7, 8, 9}"
      ]
     },
     "execution_count": 655,
     "metadata": {},
     "output_type": "execute_result"
    }
   ],
   "source": [
    "set(testX[:, 94])"
   ]
  },
  {
   "cell_type": "code",
   "execution_count": 656,
   "metadata": {},
   "outputs": [
    {
     "data": {
      "text/plain": [
       "{0, 1, 2, 3, 4}"
      ]
     },
     "execution_count": 656,
     "metadata": {},
     "output_type": "execute_result"
    }
   ],
   "source": [
    "set(testX[:, 95])"
   ]
  },
  {
   "cell_type": "code",
   "execution_count": 550,
   "metadata": {},
   "outputs": [
    {
     "data": {
      "text/plain": [
       "array([1, 2, 2, ..., 2, 2, 2], dtype=object)"
      ]
     },
     "execution_count": 550,
     "metadata": {},
     "output_type": "execute_result"
    }
   ],
   "source": [
    "testX[:, 99]"
   ]
  },
  {
   "cell_type": "code",
   "execution_count": 664,
   "metadata": {},
   "outputs": [
    {
     "name": "stderr",
     "output_type": "stream",
     "text": [
      "C:\\Users\\chiji\\AppData\\Local\\Continuum\\anaconda3\\lib\\site-packages\\sklearn\\preprocessing\\_encoders.py:368: FutureWarning: The handling of integer data will change in version 0.22. Currently, the categories are determined based on the range [0, max(values)], while in the future they will be determined based on the unique values.\n",
      "If you want the future behaviour and silence this warning, you can specify \"categories='auto'\".\n",
      "In case you used a LabelEncoder before this OneHotEncoder to convert the categories to integers, then you can now use the OneHotEncoder directly.\n",
      "  warnings.warn(msg, FutureWarning)\n",
      "C:\\Users\\chiji\\AppData\\Local\\Continuum\\anaconda3\\lib\\site-packages\\sklearn\\preprocessing\\_encoders.py:390: DeprecationWarning: The 'categorical_features' keyword is deprecated in version 0.20 and will be removed in 0.22. You can use the ColumnTransformer instead.\n",
      "  \"use the ColumnTransformer instead.\", DeprecationWarning)\n"
     ]
    }
   ],
   "source": [
    "onehotencoder = OneHotEncoder(categorical_features = [94,95,98,99])\n",
    "testX = onehotencoder.fit_transform(testX).toarray()#X encoded"
   ]
  },
  {
   "cell_type": "code",
   "execution_count": 666,
   "metadata": {},
   "outputs": [],
   "source": [
    "testX = testX[:,4:]#Just to avoid dummy variables"
   ]
  },
  {
   "cell_type": "code",
   "execution_count": 675,
   "metadata": {},
   "outputs": [],
   "source": [
    "# Feature Scaling#UtilizedStandardScaler against RubustScaler since i have removed the outliers\n",
    "from sklearn.preprocessing import StandardScaler\n",
    "sc = StandardScaler()\n",
    "testX_sc = sc.fit_transform(testX)\n",
    "#testX_sc = sc.transform(testX)"
   ]
  },
  {
   "cell_type": "code",
   "execution_count": 674,
   "metadata": {},
   "outputs": [
    {
     "data": {
      "text/plain": [
       "(10000, 122)"
      ]
     },
     "execution_count": 674,
     "metadata": {},
     "output_type": "execute_result"
    }
   ],
   "source": [
    "testX_sc.shape"
   ]
  },
  {
   "cell_type": "code",
   "execution_count": 681,
   "metadata": {},
   "outputs": [
    {
     "data": {
      "text/plain": [
       "[<matplotlib.lines.Line2D at 0x1f0ab4c4710>]"
      ]
     },
     "execution_count": 681,
     "metadata": {},
     "output_type": "execute_result"
    },
    {
     "data": {
      "image/png": "[encoded data removed]",
      "text/plain": [
       "<Figure size 432x288 with 1 Axes>"
      ]
     },
     "metadata": {
      "needs_background": "light"
     },
     "output_type": "display_data"
    }
   ],
   "source": [
    "# Applying PCA\n",
    "from sklearn.decomposition import PCA\n",
    "pca = PCA(n_components = 115)#Use none first to get a look at the data\n",
    "testX_sc = pca.fit_transform(testX_sc)\n",
    "#testX_sc = pca.transform(X_test_sc)\n",
    "explained_variance = pca.explained_variance_ratio_\n",
    "#Use this last two to visualize\n",
    "var1=np.cumsum(np.round(pca.explained_variance_ratio_, decimals=4)*100)\n",
    "plt.plot(var1)"
   ]
  },
  {
   "cell_type": "code",
   "execution_count": 682,
   "metadata": {},
   "outputs": [],
   "source": [
    "#Use my KNeighbor classifier to make predictions\n",
    "result1 = classifier.predict(testX_sc)"
   ]
  },
  {
   "cell_type": "code",
   "execution_count": 684,
   "metadata": {},
   "outputs": [],
   "source": [
    "pd.DataFrame(result1).to_csv('results1.csv', index = False)#Saved the result to 'result1.csv'"
   ]
  },
  {
   "cell_type": "code",
   "execution_count": null,
   "metadata": {},
   "outputs": [],
   "source": [
    "#Use the RandomFrorestClassifier"
   ]
  },
  {
   "cell_type": "code",
   "execution_count": 692,
   "metadata": {},
   "outputs": [],
   "source": [
    "result2 = classifier2.predict(testX_sc)#Using the parameter chosen"
   ]
  },
  {
   "cell_type": "code",
   "execution_count": 693,
   "metadata": {},
   "outputs": [],
   "source": [
    "pd.DataFrame(result2).to_csv('results2.csv', index = False)#Saved the result to 'result2.csv'"
   ]
  },
  {
   "cell_type": "code",
   "execution_count": null,
   "metadata": {},
   "outputs": [],
   "source": []
  },
  {
   "cell_type": "code",
   "execution_count": null,
   "metadata": {},
   "outputs": [],
   "source": []
  }
 ],
 "metadata": {
  "kernelspec": {
   "display_name": "Python 3",
   "language": "python",
   "name": "python3"
  },
  "language_info": {
   "codemirror_mode": {
    "name": "ipython",
    "version": 3
   },
   "file_extension": ".py",
   "mimetype": "text/x-python",
   "name": "python",
   "nbconvert_exporter": "python",
   "pygments_lexer": "ipython3",
   "version": "3.7.1"
  }
 },
 "nbformat": 4,
 "nbformat_minor": 2
}
