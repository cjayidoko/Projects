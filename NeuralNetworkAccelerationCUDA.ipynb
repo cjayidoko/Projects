{
 "cells": [
  {
   "cell_type": "markdown",
   "metadata": {},
   "source": [
    "<a href=\"https://www.nvidia.com/dli\"> <img src=\"images/DLI Header.png\" alt=\"Header\" style=\"width: 400px;\"/> </a>"
   ]
  },
  {
   "cell_type": "markdown",
   "metadata": {},
   "source": [
    "### Accelerate Neural Network Calculations\n",
    "\n",
    "The following is a simple version of performing some work needed to create a hidden layer in a neural network. It normalizes a million grayscale values (simply created randomly here), weighs them, and applies an activation function.\n",
    "\n",
    "The task is to move this work to the GPU using the NVIDIA CUDA accelerated computing techniques, retain the correctness of the calculations, and improve the performance of the function calls , which, according to the `timeit` magic, currently take about *50 ms*, to run instead under *5 ms*.\n",
    "\n",
    "Here are some hints used in this work:\n",
    "To accelerate this on the GPU, first transfer the data from CPU to device (GPU). This requres that variables be instantiated in the device. Then use @vectorize decorator while defining the data type, and giving a type signature (target == 'cuda'). Also, all math functions should be scalar functions from math module, as against using numpy functions."
   ]
  },
  {
   "cell_type": "markdown",
   "metadata": {},
   "source": [
    "### First I define and run the neural network operations on the CPU as follows ...."
   ]
  },
  {
   "cell_type": "code",
   "execution_count": 2,
   "metadata": {},
   "outputs": [],
   "source": [
    "import numpy as np"
   ]
  },
  {
   "cell_type": "code",
   "execution_count": 3,
   "metadata": {
    "collapsed": true
   },
   "outputs": [],
   "source": [
    "# Do not modify this cell, these are the values that you will be assessed against.\n",
    "n = 1000000\n",
    "\n",
    "greyscales = np.floor(np.random.uniform(0, 255, n).astype(np.float32))\n",
    "weights = np.random.normal(.5, .1, n).astype(np.float32)"
   ]
  },
  {
   "cell_type": "markdown",
   "metadata": {},
   "source": [
    "The cell immediately below is used to import libraries, define data structures, and define functions."
   ]
  },
  {
   "cell_type": "code",
   "execution_count": 4,
   "metadata": {
    "collapsed": true
   },
   "outputs": [],
   "source": [
    "from numpy import exp\n",
    "\n",
    "# Consider modifying the 3 values in this cell to optimize host <-> device memory movement\n",
    "normalized = np.empty_like(greyscales)\n",
    "weighted = np.empty_like(greyscales)\n",
    "activated = np.empty_like(greyscales)\n",
    "\n",
    "# Modify these 3 function calls to run on the GPU\n",
    "def normalize(grayscales):\n",
    "    return grayscales / 255\n",
    "\n",
    "def weigh(values, weights):\n",
    "    return values * weights\n",
    "        \n",
    "def activate(values):\n",
    "    return ( np.exp(values) - np.exp(-values) ) / ( np.exp(values) + np.exp(-values) )"
   ]
  },
  {
   "cell_type": "markdown",
   "metadata": {},
   "source": [
    "Run the function calls and time it to see how long it takes to execute."
   ]
  },
  {
   "cell_type": "code",
   "execution_count": 5,
   "metadata": {},
   "outputs": [
    {
     "name": "stdout",
     "output_type": "stream",
     "text": [
      "47.9 ms ± 149 µs per loop (mean ± std. dev. of 7 runs, 10 loops each)\n"
     ]
    }
   ],
   "source": [
    "%%timeit\n",
    "# Feel free to modify the 3 function calls in this cell\n",
    "normalized = normalize(greyscales)\n",
    "weighted = weigh(normalized, weights)\n",
    "SOLUTION = activate(weighted)"
   ]
  },
  {
   "cell_type": "code",
   "execution_count": null,
   "metadata": {
    "collapsed": true
   },
   "outputs": [],
   "source": [
    "This ran in approximately 50 ms.\n",
    "Now, applying CUDA acceleration on the GPU"
   ]
  },
  {
   "cell_type": "markdown",
   "metadata": {},
   "source": [
    "### Now redefine and run the neural network operations on the GPU as follows ...."
   ]
  },
  {
   "cell_type": "code",
   "execution_count": 6,
   "metadata": {
    "collapsed": true
   },
   "outputs": [],
   "source": [
    "\n",
    "#Import needed modules\n",
    "from numba import cuda\n",
    "from numba import vectorize\n",
    "import math\n",
    "\n",
    "#Transfer data to devoce\n",
    "grey_dev = cuda.to_device(greyscales)\n",
    "weights_dev = cuda.to_device(weights)\n",
    "\n",
    "#State variables outputs on the device following given array shape\n",
    "normalized = cuda.device_array_like(grey_dev)\n",
    "weighted = cuda.device_array_like(weights_dev)\n",
    "SOLUTION = cuda.device_array_like(grey_dev)\n",
    "\n",
    "\n",
    "# Modify the 3 function calls to run on the GPU using appropriate decorators\n",
    "\n",
    "#Normalize inputs\n",
    "@vectorize(['float32(float32)'],target = 'cuda')\n",
    "def normalize(grayscales):\n",
    "    return grayscales / 255\n",
    "\n",
    "#Updating the weights\n",
    "@vectorize(['float32(float32,float32)'],target = 'cuda')\n",
    "def weigh(values, weights):\n",
    "    return values * weights\n",
    "\n",
    "#Activation function\n",
    "@vectorize(['float32(float32)'],target = 'cuda')       \n",
    "def activate(values):\n",
    "    return ( math.exp(values) - math.exp(-values) ) / ( math.exp(values) + math.exp(-values) )"
   ]
  },
  {
   "cell_type": "markdown",
   "metadata": {},
   "source": [
    "Use the above functions, data, and variables to execute the commnads below that will perform a typical neural network operation including normalizing input data, updating weights, and applying an activation function. The result is stored in a SOLUTION variable."
   ]
  },
  {
   "cell_type": "code",
   "execution_count": 9,
   "metadata": {},
   "outputs": [
    {
     "name": "stdout",
     "output_type": "stream",
     "text": [
      "958 µs ± 162 µs per loop (mean ± std. dev. of 7 runs, 1 loop each)\n"
     ]
    }
   ],
   "source": [
    "%%timeit\n",
    "# Modifying the 3 function calls to include output variables, while using variables set up on the device as inputs\n",
    "normalize(grey_dev, out = normalized)\n",
    "weigh(normalized, weights_dev, out = weighted)\n",
    "SOLUTION = activate(weighted)"
   ]
  },
  {
   "cell_type": "code",
   "execution_count": null,
   "metadata": {
    "collapsed": true
   },
   "outputs": [],
   "source": [
    "### Wow!!! That ran in less than 1 ms. Thats > 1000% imporvement. Incredible."
   ]
  },
  {
   "cell_type": "markdown",
   "metadata": {},
   "source": [
    "<a href=\"https://www.nvidia.com/dli\"> <img src=\"images/DLI Header.png\" alt=\"Header\" style=\"width: 400px;\"/> </a>"
   ]
  }
 ],
 "metadata": {
  "kernelspec": {
   "display_name": "Python 3",
   "language": "python",
   "name": "python3"
  },
  "language_info": {
   "codemirror_mode": {
    "name": "ipython",
    "version": 3
   },
   "file_extension": ".py",
   "mimetype": "text/x-python",
   "name": "python",
   "nbconvert_exporter": "python",
   "pygments_lexer": "ipython3",
   "version": "3.7.1"
  }
 },
 "nbformat": 4,
 "nbformat_minor": 2
}
